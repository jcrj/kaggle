{
 "cells": [
  {
   "cell_type": "code",
   "execution_count": 1,
   "id": "cddc55ef",
   "metadata": {
    "_cell_guid": "b1076dfc-b9ad-4769-8c92-a6c4dae69d19",
    "_uuid": "8f2839f25d086af736a60e9eeb907d3b93b6e0e5",
    "execution": {
     "iopub.execute_input": "2023-07-12T20:01:39.370831Z",
     "iopub.status.busy": "2023-07-12T20:01:39.369737Z",
     "iopub.status.idle": "2023-07-12T20:01:39.385592Z",
     "shell.execute_reply": "2023-07-12T20:01:39.384352Z"
    },
    "papermill": {
     "duration": 0.034291,
     "end_time": "2023-07-12T20:01:39.387624",
     "exception": false,
     "start_time": "2023-07-12T20:01:39.353333",
     "status": "completed"
    },
    "tags": []
   },
   "outputs": [
    {
     "name": "stdout",
     "output_type": "stream",
     "text": [
      "/kaggle/input/titanic/train.csv\n",
      "/kaggle/input/titanic/test.csv\n",
      "/kaggle/input/titanic/gender_submission.csv\n"
     ]
    }
   ],
   "source": [
    "import os\n",
    "for dirname, _, filenames in os.walk('/kaggle/input'):\n",
    "    for filename in filenames:\n",
    "        print(os.path.join(dirname, filename))"
   ]
  },
  {
   "cell_type": "code",
   "execution_count": 2,
   "id": "9b48a1b3",
   "metadata": {
    "execution": {
     "iopub.execute_input": "2023-07-12T20:01:39.417671Z",
     "iopub.status.busy": "2023-07-12T20:01:39.417069Z",
     "iopub.status.idle": "2023-07-12T20:01:40.606188Z",
     "shell.execute_reply": "2023-07-12T20:01:40.605264Z"
    },
    "papermill": {
     "duration": 1.206466,
     "end_time": "2023-07-12T20:01:40.608658",
     "exception": false,
     "start_time": "2023-07-12T20:01:39.402192",
     "status": "completed"
    },
    "tags": []
   },
   "outputs": [],
   "source": [
    "#import the libraries\n",
    "import numpy as np\n",
    "import pandas as pd\n",
    "import matplotlib.pyplot as plt\n",
    "import seaborn as sns\n",
    "\n",
    "import warnings\n",
    "\n",
    "%matplotlib inline\n",
    "\n",
    "sns.set_style(\"darkgrid\")\n",
    "warnings.filterwarnings(\"ignore\")"
   ]
  },
  {
   "cell_type": "code",
   "execution_count": 3,
   "id": "23cb5d01",
   "metadata": {
    "execution": {
     "iopub.execute_input": "2023-07-12T20:01:40.639503Z",
     "iopub.status.busy": "2023-07-12T20:01:40.638066Z",
     "iopub.status.idle": "2023-07-12T20:01:40.663617Z",
     "shell.execute_reply": "2023-07-12T20:01:40.662752Z"
    },
    "papermill": {
     "duration": 0.042533,
     "end_time": "2023-07-12T20:01:40.665522",
     "exception": false,
     "start_time": "2023-07-12T20:01:40.622989",
     "status": "completed"
    },
    "tags": []
   },
   "outputs": [],
   "source": [
    "#importing the datasets\n",
    "train = pd.read_csv('/kaggle/input/titanic/train.csv')\n",
    "test = pd.read_csv('/kaggle/input/titanic/test.csv')\n",
    "combined = [train,test]"
   ]
  },
  {
   "cell_type": "code",
   "execution_count": 4,
   "id": "ae440483",
   "metadata": {
    "execution": {
     "iopub.execute_input": "2023-07-12T20:01:40.695795Z",
     "iopub.status.busy": "2023-07-12T20:01:40.694925Z",
     "iopub.status.idle": "2023-07-12T20:01:40.701527Z",
     "shell.execute_reply": "2023-07-12T20:01:40.700128Z"
    },
    "papermill": {
     "duration": 0.023692,
     "end_time": "2023-07-12T20:01:40.703597",
     "exception": false,
     "start_time": "2023-07-12T20:01:40.679905",
     "status": "completed"
    },
    "tags": []
   },
   "outputs": [
    {
     "name": "stdout",
     "output_type": "stream",
     "text": [
      "Columns: \n",
      "['PassengerId' 'Survived' 'Pclass' 'Name' 'Sex' 'Age' 'SibSp' 'Parch'\n",
      " 'Ticket' 'Fare' 'Cabin' 'Embarked']\n",
      "--------------------\n",
      "shape:  (891, 12)\n"
     ]
    }
   ],
   "source": [
    "print ('Columns: ')\n",
    "print (train.columns.values)\n",
    "print ('-'*20)\n",
    "print ('shape: ', train.shape)"
   ]
  },
  {
   "cell_type": "code",
   "execution_count": 5,
   "id": "00756a95",
   "metadata": {
    "execution": {
     "iopub.execute_input": "2023-07-12T20:01:40.734003Z",
     "iopub.status.busy": "2023-07-12T20:01:40.733244Z",
     "iopub.status.idle": "2023-07-12T20:01:40.763726Z",
     "shell.execute_reply": "2023-07-12T20:01:40.762233Z"
    },
    "papermill": {
     "duration": 0.047732,
     "end_time": "2023-07-12T20:01:40.765919",
     "exception": false,
     "start_time": "2023-07-12T20:01:40.718187",
     "status": "completed"
    },
    "tags": []
   },
   "outputs": [
    {
     "name": "stdout",
     "output_type": "stream",
     "text": [
      "<class 'pandas.core.frame.DataFrame'>\n",
      "RangeIndex: 891 entries, 0 to 890\n",
      "Data columns (total 12 columns):\n",
      " #   Column       Non-Null Count  Dtype  \n",
      "---  ------       --------------  -----  \n",
      " 0   PassengerId  891 non-null    int64  \n",
      " 1   Survived     891 non-null    int64  \n",
      " 2   Pclass       891 non-null    int64  \n",
      " 3   Name         891 non-null    object \n",
      " 4   Sex          891 non-null    object \n",
      " 5   Age          714 non-null    float64\n",
      " 6   SibSp        891 non-null    int64  \n",
      " 7   Parch        891 non-null    int64  \n",
      " 8   Ticket       891 non-null    object \n",
      " 9   Fare         891 non-null    float64\n",
      " 10  Cabin        204 non-null    object \n",
      " 11  Embarked     889 non-null    object \n",
      "dtypes: float64(2), int64(5), object(5)\n",
      "memory usage: 83.7+ KB\n",
      "None\n",
      "--------------------\n",
      "<class 'pandas.core.frame.DataFrame'>\n",
      "RangeIndex: 418 entries, 0 to 417\n",
      "Data columns (total 11 columns):\n",
      " #   Column       Non-Null Count  Dtype  \n",
      "---  ------       --------------  -----  \n",
      " 0   PassengerId  418 non-null    int64  \n",
      " 1   Pclass       418 non-null    int64  \n",
      " 2   Name         418 non-null    object \n",
      " 3   Sex          418 non-null    object \n",
      " 4   Age          332 non-null    float64\n",
      " 5   SibSp        418 non-null    int64  \n",
      " 6   Parch        418 non-null    int64  \n",
      " 7   Ticket       418 non-null    object \n",
      " 8   Fare         417 non-null    float64\n",
      " 9   Cabin        91 non-null     object \n",
      " 10  Embarked     418 non-null    object \n",
      "dtypes: float64(2), int64(4), object(5)\n",
      "memory usage: 36.0+ KB\n",
      "None\n"
     ]
    }
   ],
   "source": [
    "print (train.info())\n",
    "print ('-'*20)\n",
    "print (test.info())"
   ]
  },
  {
   "cell_type": "code",
   "execution_count": 6,
   "id": "3cf508e5",
   "metadata": {
    "execution": {
     "iopub.execute_input": "2023-07-12T20:01:40.796786Z",
     "iopub.status.busy": "2023-07-12T20:01:40.796140Z",
     "iopub.status.idle": "2023-07-12T20:01:40.832118Z",
     "shell.execute_reply": "2023-07-12T20:01:40.831156Z"
    },
    "papermill": {
     "duration": 0.053513,
     "end_time": "2023-07-12T20:01:40.834747",
     "exception": false,
     "start_time": "2023-07-12T20:01:40.781234",
     "status": "completed"
    },
    "tags": []
   },
   "outputs": [
    {
     "data": {
      "text/html": [
       "<div>\n",
       "<style scoped>\n",
       "    .dataframe tbody tr th:only-of-type {\n",
       "        vertical-align: middle;\n",
       "    }\n",
       "\n",
       "    .dataframe tbody tr th {\n",
       "        vertical-align: top;\n",
       "    }\n",
       "\n",
       "    .dataframe thead th {\n",
       "        text-align: right;\n",
       "    }\n",
       "</style>\n",
       "<table border=\"1\" class=\"dataframe\">\n",
       "  <thead>\n",
       "    <tr style=\"text-align: right;\">\n",
       "      <th></th>\n",
       "      <th>PassengerId</th>\n",
       "      <th>Survived</th>\n",
       "      <th>Pclass</th>\n",
       "      <th>Age</th>\n",
       "      <th>SibSp</th>\n",
       "      <th>Parch</th>\n",
       "      <th>Fare</th>\n",
       "    </tr>\n",
       "  </thead>\n",
       "  <tbody>\n",
       "    <tr>\n",
       "      <th>count</th>\n",
       "      <td>891.000000</td>\n",
       "      <td>891.000000</td>\n",
       "      <td>891.000000</td>\n",
       "      <td>714.000000</td>\n",
       "      <td>891.000000</td>\n",
       "      <td>891.000000</td>\n",
       "      <td>891.000000</td>\n",
       "    </tr>\n",
       "    <tr>\n",
       "      <th>mean</th>\n",
       "      <td>446.000000</td>\n",
       "      <td>0.383838</td>\n",
       "      <td>2.308642</td>\n",
       "      <td>29.699118</td>\n",
       "      <td>0.523008</td>\n",
       "      <td>0.381594</td>\n",
       "      <td>32.204208</td>\n",
       "    </tr>\n",
       "    <tr>\n",
       "      <th>std</th>\n",
       "      <td>257.353842</td>\n",
       "      <td>0.486592</td>\n",
       "      <td>0.836071</td>\n",
       "      <td>14.526497</td>\n",
       "      <td>1.102743</td>\n",
       "      <td>0.806057</td>\n",
       "      <td>49.693429</td>\n",
       "    </tr>\n",
       "    <tr>\n",
       "      <th>min</th>\n",
       "      <td>1.000000</td>\n",
       "      <td>0.000000</td>\n",
       "      <td>1.000000</td>\n",
       "      <td>0.420000</td>\n",
       "      <td>0.000000</td>\n",
       "      <td>0.000000</td>\n",
       "      <td>0.000000</td>\n",
       "    </tr>\n",
       "    <tr>\n",
       "      <th>25%</th>\n",
       "      <td>223.500000</td>\n",
       "      <td>0.000000</td>\n",
       "      <td>2.000000</td>\n",
       "      <td>20.125000</td>\n",
       "      <td>0.000000</td>\n",
       "      <td>0.000000</td>\n",
       "      <td>7.910400</td>\n",
       "    </tr>\n",
       "    <tr>\n",
       "      <th>50%</th>\n",
       "      <td>446.000000</td>\n",
       "      <td>0.000000</td>\n",
       "      <td>3.000000</td>\n",
       "      <td>28.000000</td>\n",
       "      <td>0.000000</td>\n",
       "      <td>0.000000</td>\n",
       "      <td>14.454200</td>\n",
       "    </tr>\n",
       "    <tr>\n",
       "      <th>75%</th>\n",
       "      <td>668.500000</td>\n",
       "      <td>1.000000</td>\n",
       "      <td>3.000000</td>\n",
       "      <td>38.000000</td>\n",
       "      <td>1.000000</td>\n",
       "      <td>0.000000</td>\n",
       "      <td>31.000000</td>\n",
       "    </tr>\n",
       "    <tr>\n",
       "      <th>max</th>\n",
       "      <td>891.000000</td>\n",
       "      <td>1.000000</td>\n",
       "      <td>3.000000</td>\n",
       "      <td>80.000000</td>\n",
       "      <td>8.000000</td>\n",
       "      <td>6.000000</td>\n",
       "      <td>512.329200</td>\n",
       "    </tr>\n",
       "  </tbody>\n",
       "</table>\n",
       "</div>"
      ],
      "text/plain": [
       "       PassengerId    Survived      Pclass         Age       SibSp  \\\n",
       "count   891.000000  891.000000  891.000000  714.000000  891.000000   \n",
       "mean    446.000000    0.383838    2.308642   29.699118    0.523008   \n",
       "std     257.353842    0.486592    0.836071   14.526497    1.102743   \n",
       "min       1.000000    0.000000    1.000000    0.420000    0.000000   \n",
       "25%     223.500000    0.000000    2.000000   20.125000    0.000000   \n",
       "50%     446.000000    0.000000    3.000000   28.000000    0.000000   \n",
       "75%     668.500000    1.000000    3.000000   38.000000    1.000000   \n",
       "max     891.000000    1.000000    3.000000   80.000000    8.000000   \n",
       "\n",
       "            Parch        Fare  \n",
       "count  891.000000  891.000000  \n",
       "mean     0.381594   32.204208  \n",
       "std      0.806057   49.693429  \n",
       "min      0.000000    0.000000  \n",
       "25%      0.000000    7.910400  \n",
       "50%      0.000000   14.454200  \n",
       "75%      0.000000   31.000000  \n",
       "max      6.000000  512.329200  "
      ]
     },
     "execution_count": 6,
     "metadata": {},
     "output_type": "execute_result"
    }
   ],
   "source": [
    "train.describe()"
   ]
  },
  {
   "cell_type": "code",
   "execution_count": 7,
   "id": "4a72050c",
   "metadata": {
    "execution": {
     "iopub.execute_input": "2023-07-12T20:01:40.865036Z",
     "iopub.status.busy": "2023-07-12T20:01:40.864671Z",
     "iopub.status.idle": "2023-07-12T20:01:41.283110Z",
     "shell.execute_reply": "2023-07-12T20:01:41.282246Z"
    },
    "papermill": {
     "duration": 0.435995,
     "end_time": "2023-07-12T20:01:41.285146",
     "exception": false,
     "start_time": "2023-07-12T20:01:40.849151",
     "status": "completed"
    },
    "tags": []
   },
   "outputs": [
    {
     "data": {
      "image/png": "[encoded data removed]",
      "text/plain": [
       "<Figure size 640x480 with 1 Axes>"
      ]
     },
     "metadata": {},
     "output_type": "display_data"
    }
   ],
   "source": [
    "sns.distplot(train.Age, bins = 20)\n",
    "plt.show()"
   ]
  },
  {
   "cell_type": "code",
   "execution_count": 8,
   "id": "34995f63",
   "metadata": {
    "execution": {
     "iopub.execute_input": "2023-07-12T20:01:41.316194Z",
     "iopub.status.busy": "2023-07-12T20:01:41.315870Z",
     "iopub.status.idle": "2023-07-12T20:01:41.727570Z",
     "shell.execute_reply": "2023-07-12T20:01:41.726692Z"
    },
    "papermill": {
     "duration": 0.429644,
     "end_time": "2023-07-12T20:01:41.729771",
     "exception": false,
     "start_time": "2023-07-12T20:01:41.300127",
     "status": "completed"
    },
    "tags": []
   },
   "outputs": [
    {
     "data": {
      "image/png": "[encoded data removed]",
      "text/plain": [
       "<Figure size 640x480 with 1 Axes>"
      ]
     },
     "metadata": {},
     "output_type": "display_data"
    }
   ],
   "source": [
    "sns.distplot(train.Fare, bins = 50)\n",
    "plt.show()"
   ]
  },
  {
   "cell_type": "code",
   "execution_count": 9,
   "id": "8a120a70",
   "metadata": {
    "execution": {
     "iopub.execute_input": "2023-07-12T20:01:41.763063Z",
     "iopub.status.busy": "2023-07-12T20:01:41.761612Z",
     "iopub.status.idle": "2023-07-12T20:01:42.046027Z",
     "shell.execute_reply": "2023-07-12T20:01:42.045123Z"
    },
    "papermill": {
     "duration": 0.30287,
     "end_time": "2023-07-12T20:01:42.048105",
     "exception": false,
     "start_time": "2023-07-12T20:01:41.745235",
     "status": "completed"
    },
    "tags": []
   },
   "outputs": [
    {
     "data": {
      "text/plain": [
       "<Axes: xlabel='Sex', ylabel='count'>"
      ]
     },
     "execution_count": 9,
     "metadata": {},
     "output_type": "execute_result"
    },
    {
     "data": {
      "image/png": "[encoded data removed]",
      "text/plain": [
       "<Figure size 640x480 with 1 Axes>"
      ]
     },
     "metadata": {},
     "output_type": "display_data"
    }
   ],
   "source": [
    "sns.countplot(x = train.Sex, hue = train.Survived)"
   ]
  },
  {
   "cell_type": "code",
   "execution_count": 10,
   "id": "c869b71c",
   "metadata": {
    "execution": {
     "iopub.execute_input": "2023-07-12T20:01:42.081319Z",
     "iopub.status.busy": "2023-07-12T20:01:42.081014Z",
     "iopub.status.idle": "2023-07-12T20:01:42.090125Z",
     "shell.execute_reply": "2023-07-12T20:01:42.089038Z"
    },
    "papermill": {
     "duration": 0.028102,
     "end_time": "2023-07-12T20:01:42.092386",
     "exception": false,
     "start_time": "2023-07-12T20:01:42.064284",
     "status": "completed"
    },
    "tags": []
   },
   "outputs": [
    {
     "name": "stdout",
     "output_type": "stream",
     "text": [
      "Age         19.865320\n",
      "Cabin       77.104377\n",
      "Embarked     0.224467\n",
      "dtype: float64\n"
     ]
    }
   ],
   "source": [
    "# Calculate percentage of missing values\n",
    "missing_percentage = train.isnull().sum() / len(train) * 100\n",
    "\n",
    "# Print columns with missing values and their corresponding percentages\n",
    "print(missing_percentage[missing_percentage > 0])"
   ]
  },
  {
   "cell_type": "code",
   "execution_count": 11,
   "id": "6108fa0d",
   "metadata": {
    "execution": {
     "iopub.execute_input": "2023-07-12T20:01:42.126280Z",
     "iopub.status.busy": "2023-07-12T20:01:42.125518Z",
     "iopub.status.idle": "2023-07-12T20:01:42.132475Z",
     "shell.execute_reply": "2023-07-12T20:01:42.131503Z"
    },
    "papermill": {
     "duration": 0.025536,
     "end_time": "2023-07-12T20:01:42.134505",
     "exception": false,
     "start_time": "2023-07-12T20:01:42.108969",
     "status": "completed"
    },
    "tags": []
   },
   "outputs": [],
   "source": [
    "for df in combined:\n",
    "    df.drop(['Cabin', 'Ticket'], axis = 1, inplace = True)"
   ]
  },
  {
   "cell_type": "code",
   "execution_count": 12,
   "id": "baeb2cf0",
   "metadata": {
    "execution": {
     "iopub.execute_input": "2023-07-12T20:01:42.167514Z",
     "iopub.status.busy": "2023-07-12T20:01:42.166780Z",
     "iopub.status.idle": "2023-07-12T20:01:42.550556Z",
     "shell.execute_reply": "2023-07-12T20:01:42.549154Z"
    },
    "papermill": {
     "duration": 0.402344,
     "end_time": "2023-07-12T20:01:42.552997",
     "exception": false,
     "start_time": "2023-07-12T20:01:42.150653",
     "status": "completed"
    },
    "tags": []
   },
   "outputs": [],
   "source": [
    "from sklearn.impute import SimpleImputer"
   ]
  },
  {
   "cell_type": "code",
   "execution_count": 13,
   "id": "caa002bf",
   "metadata": {
    "execution": {
     "iopub.execute_input": "2023-07-12T20:01:42.587109Z",
     "iopub.status.busy": "2023-07-12T20:01:42.586141Z",
     "iopub.status.idle": "2023-07-12T20:01:42.609758Z",
     "shell.execute_reply": "2023-07-12T20:01:42.608755Z"
    },
    "papermill": {
     "duration": 0.042997,
     "end_time": "2023-07-12T20:01:42.612110",
     "exception": false,
     "start_time": "2023-07-12T20:01:42.569113",
     "status": "completed"
    },
    "tags": []
   },
   "outputs": [],
   "source": [
    "age_imputer = SimpleImputer(strategy=\"median\")\n",
    "fare_imputer = SimpleImputer(strategy=\"most_frequent\")\n",
    "\n",
    "for df in combined:\n",
    "    df[\"Age\"] = age_imputer.fit_transform(df[[\"Age\"]]).ravel()\n",
    "    df[\"Fare\"] = fare_imputer.fit_transform(df[[\"Fare\"]]).ravel()\n",
    "    df[\"Embarked\"].fillna(df['Embarked'].mode()[0], inplace = True)"
   ]
  },
  {
   "cell_type": "code",
   "execution_count": 14,
   "id": "548f47ff",
   "metadata": {
    "execution": {
     "iopub.execute_input": "2023-07-12T20:01:42.646343Z",
     "iopub.status.busy": "2023-07-12T20:01:42.645551Z",
     "iopub.status.idle": "2023-07-12T20:01:42.656016Z",
     "shell.execute_reply": "2023-07-12T20:01:42.655067Z"
    },
    "papermill": {
     "duration": 0.029057,
     "end_time": "2023-07-12T20:01:42.658064",
     "exception": false,
     "start_time": "2023-07-12T20:01:42.629007",
     "status": "completed"
    },
    "tags": []
   },
   "outputs": [],
   "source": [
    "for df in combined:\n",
    "    columns_with_unique_values = []\n",
    "    for column in df:\n",
    "        if df[column].nunique() == len(df):\n",
    "            columns_with_unique_values.append(column)\n",
    "    df.drop(columns_with_unique_values, inplace = True, axis = 1)"
   ]
  },
  {
   "cell_type": "code",
   "execution_count": 15,
   "id": "d2fd4617",
   "metadata": {
    "execution": {
     "iopub.execute_input": "2023-07-12T20:01:42.693121Z",
     "iopub.status.busy": "2023-07-12T20:01:42.692410Z",
     "iopub.status.idle": "2023-07-12T20:01:43.738160Z",
     "shell.execute_reply": "2023-07-12T20:01:43.737178Z"
    },
    "papermill": {
     "duration": 1.065512,
     "end_time": "2023-07-12T20:01:43.740779",
     "exception": false,
     "start_time": "2023-07-12T20:01:42.675267",
     "status": "completed"
    },
    "tags": []
   },
   "outputs": [
    {
     "data": {
      "image/png": "[encoded data removed]",
      "text/plain": [
       "<Figure size 1200x600 with 4 Axes>"
      ]
     },
     "metadata": {},
     "output_type": "display_data"
    }
   ],
   "source": [
    "fig, axes = plt.subplots(1, 2, figsize=(12, 6)) \n",
    "\n",
    "for i, df in enumerate(combined):\n",
    "    corr_matrix = df.corr()\n",
    "    sns.heatmap(corr_matrix, annot=True, cmap='coolwarm', ax=axes[i]) \n",
    "    \n",
    "fig.show()"
   ]
  },
  {
   "cell_type": "code",
   "execution_count": 16,
   "id": "4b8037ce",
   "metadata": {
    "execution": {
     "iopub.execute_input": "2023-07-12T20:01:43.775565Z",
     "iopub.status.busy": "2023-07-12T20:01:43.775261Z",
     "iopub.status.idle": "2023-07-12T20:01:44.259271Z",
     "shell.execute_reply": "2023-07-12T20:01:44.258347Z"
    },
    "papermill": {
     "duration": 0.504371,
     "end_time": "2023-07-12T20:01:44.261822",
     "exception": false,
     "start_time": "2023-07-12T20:01:43.757451",
     "status": "completed"
    },
    "tags": []
   },
   "outputs": [
    {
     "data": {
      "image/png": "[encoded data removed]",
      "text/plain": [
       "<Figure size 640x480 with 1 Axes>"
      ]
     },
     "metadata": {},
     "output_type": "display_data"
    }
   ],
   "source": [
    "survival_by_Pclass = train.groupby(\"Pclass\")[\"Survived\"].mean()\n",
    "sns.barplot(x=\"Pclass\", y=\"Survived\", data=train)\n",
    "plt.show()"
   ]
  },
  {
   "cell_type": "code",
   "execution_count": 17,
   "id": "8262fd49",
   "metadata": {
    "execution": {
     "iopub.execute_input": "2023-07-12T20:01:44.297433Z",
     "iopub.status.busy": "2023-07-12T20:01:44.297125Z",
     "iopub.status.idle": "2023-07-12T20:01:44.556540Z",
     "shell.execute_reply": "2023-07-12T20:01:44.555566Z"
    },
    "papermill": {
     "duration": 0.279716,
     "end_time": "2023-07-12T20:01:44.558669",
     "exception": false,
     "start_time": "2023-07-12T20:01:44.278953",
     "status": "completed"
    },
    "tags": []
   },
   "outputs": [
    {
     "data": {
      "image/png": "[encoded data removed]",
      "text/plain": [
       "<Figure size 640x480 with 1 Axes>"
      ]
     },
     "metadata": {},
     "output_type": "display_data"
    }
   ],
   "source": [
    "sns.boxplot(x=\"Survived\", y=\"Age\", data=train)\n",
    "plt.show()"
   ]
  },
  {
   "cell_type": "code",
   "execution_count": 18,
   "id": "233b513c",
   "metadata": {
    "execution": {
     "iopub.execute_input": "2023-07-12T20:01:44.597188Z",
     "iopub.status.busy": "2023-07-12T20:01:44.596897Z",
     "iopub.status.idle": "2023-07-12T20:01:44.980150Z",
     "shell.execute_reply": "2023-07-12T20:01:44.979150Z"
    },
    "papermill": {
     "duration": 0.40561,
     "end_time": "2023-07-12T20:01:44.982265",
     "exception": false,
     "start_time": "2023-07-12T20:01:44.576655",
     "status": "completed"
    },
    "tags": []
   },
   "outputs": [
    {
     "data": {
      "image/png": "[encoded data removed]",
      "text/plain": [
       "<Figure size 640x480 with 1 Axes>"
      ]
     },
     "metadata": {},
     "output_type": "display_data"
    }
   ],
   "source": [
    "for df in combined:\n",
    "    df[\"FamilySize\"] = df[\"SibSp\"] + df[\"Parch\"] + 1\n",
    "\n",
    "survival_by_family_size = train.groupby(\"FamilySize\")[\"Survived\"].mean()\n",
    "\n",
    "sns.lineplot(x=survival_by_family_size.index, y=survival_by_family_size.values, marker=\"o\")\n",
    "plt.xlabel(\"Family Size\")\n",
    "plt.ylabel(\"Survival Rate\")\n",
    "plt.title(\"Survival Rate by Family Size\")\n",
    "plt.show()"
   ]
  },
  {
   "cell_type": "code",
   "execution_count": 19,
   "id": "617ee1f2",
   "metadata": {
    "execution": {
     "iopub.execute_input": "2023-07-12T20:01:45.019889Z",
     "iopub.status.busy": "2023-07-12T20:01:45.018988Z",
     "iopub.status.idle": "2023-07-12T20:01:45.033775Z",
     "shell.execute_reply": "2023-07-12T20:01:45.032627Z"
    },
    "papermill": {
     "duration": 0.035783,
     "end_time": "2023-07-12T20:01:45.036086",
     "exception": false,
     "start_time": "2023-07-12T20:01:45.000303",
     "status": "completed"
    },
    "tags": []
   },
   "outputs": [],
   "source": [
    "for df in combined:\n",
    "    bins = [0, 12, 18, 30, 50, 200]\n",
    "    labels = ['Child', 'Teen', 'Young Adult', 'Adult', 'Senior']\n",
    "    df['AgeGroup'] = pd.cut(df['Age'], bins=bins, labels=labels)\n",
    "\n",
    "    bins = [-1, 10, 30, 1000]\n",
    "    labels = ['Low', 'Medium', 'High']\n",
    "    df['FareGroup'] = pd.cut(df['Fare'], bins=bins, labels=labels)"
   ]
  },
  {
   "cell_type": "code",
   "execution_count": 20,
   "id": "976f77c0",
   "metadata": {
    "execution": {
     "iopub.execute_input": "2023-07-12T20:01:45.073730Z",
     "iopub.status.busy": "2023-07-12T20:01:45.073395Z",
     "iopub.status.idle": "2023-07-12T20:01:45.362423Z",
     "shell.execute_reply": "2023-07-12T20:01:45.361267Z"
    },
    "papermill": {
     "duration": 0.311625,
     "end_time": "2023-07-12T20:01:45.366340",
     "exception": false,
     "start_time": "2023-07-12T20:01:45.054715",
     "status": "completed"
    },
    "tags": []
   },
   "outputs": [
    {
     "data": {
      "image/png": "[encoded data removed]",
      "text/plain": [
       "<Figure size 640x480 with 1 Axes>"
      ]
     },
     "metadata": {},
     "output_type": "display_data"
    }
   ],
   "source": [
    "sns.countplot(x=\"Embarked\", hue=\"Survived\", data=train)\n",
    "plt.show()"
   ]
  },
  {
   "cell_type": "code",
   "execution_count": 21,
   "id": "829ffed7",
   "metadata": {
    "execution": {
     "iopub.execute_input": "2023-07-12T20:01:45.413674Z",
     "iopub.status.busy": "2023-07-12T20:01:45.413380Z",
     "iopub.status.idle": "2023-07-12T20:01:48.072987Z",
     "shell.execute_reply": "2023-07-12T20:01:48.072054Z"
    },
    "papermill": {
     "duration": 2.682114,
     "end_time": "2023-07-12T20:01:48.075762",
     "exception": false,
     "start_time": "2023-07-12T20:01:45.393648",
     "status": "completed"
    },
    "tags": []
   },
   "outputs": [],
   "source": [
    "from sklearn.compose import ColumnTransformer\n",
    "from sklearn.pipeline import Pipeline\n",
    "from sklearn.preprocessing import StandardScaler, OneHotEncoder\n",
    "from sklearn.model_selection import train_test_split\n",
    "\n",
    "from sklearn.model_selection import cross_val_score\n",
    "from sklearn.linear_model import LogisticRegression\n",
    "from sklearn.ensemble import RandomForestClassifier, GradientBoostingClassifier\n",
    "from sklearn.svm import SVC\n",
    "from sklearn.neural_network import MLPClassifier\n",
    "from sklearn.ensemble import VotingClassifier\n",
    "import xgboost as xgb\n",
    "from catboost import CatBoostClassifier\n",
    "import lightgbm as lgb"
   ]
  },
  {
   "cell_type": "code",
   "execution_count": 22,
   "id": "0ec63470",
   "metadata": {
    "execution": {
     "iopub.execute_input": "2023-07-12T20:01:48.113905Z",
     "iopub.status.busy": "2023-07-12T20:01:48.113586Z",
     "iopub.status.idle": "2023-07-12T20:01:48.119906Z",
     "shell.execute_reply": "2023-07-12T20:01:48.118756Z"
    },
    "papermill": {
     "duration": 0.027925,
     "end_time": "2023-07-12T20:01:48.122287",
     "exception": false,
     "start_time": "2023-07-12T20:01:48.094362",
     "status": "completed"
    },
    "tags": []
   },
   "outputs": [],
   "source": [
    "X_train = train.drop('Survived', axis = 1)\n",
    "y_train = train['Survived']\n",
    "X_test = test"
   ]
  },
  {
   "cell_type": "code",
   "execution_count": 23,
   "id": "87e07acc",
   "metadata": {
    "execution": {
     "iopub.execute_input": "2023-07-12T20:01:48.161870Z",
     "iopub.status.busy": "2023-07-12T20:01:48.161075Z",
     "iopub.status.idle": "2023-07-12T20:01:48.381015Z",
     "shell.execute_reply": "2023-07-12T20:01:48.379389Z"
    },
    "papermill": {
     "duration": 0.241961,
     "end_time": "2023-07-12T20:01:48.383753",
     "exception": false,
     "start_time": "2023-07-12T20:01:48.141792",
     "status": "completed"
    },
    "tags": []
   },
   "outputs": [
    {
     "name": "stdout",
     "output_type": "stream",
     "text": [
      "Cross-validation scores: [0.7877095  0.83146067 0.79213483 0.78651685 0.82022472]\n",
      "Mean cross-validation score: 0.8036093151716779\n"
     ]
    }
   ],
   "source": [
    "numerical_cols = [2,5]\n",
    "cat_cols = [0,1,3,4,6,7,8,9]\n",
    "\n",
    "numerical_transformer = StandardScaler()\n",
    "cat_transformer = OneHotEncoder(drop = 'first', handle_unknown='ignore')\n",
    "\n",
    "preprocessor = ColumnTransformer(\n",
    "    transformers=[\n",
    "        ('num', numerical_transformer, numerical_cols),\n",
    "        ('cat', cat_transformer, cat_cols)\n",
    "    ])\n",
    "\n",
    "pipeline = Pipeline([\n",
    "        ('preprocessor', preprocessor),\n",
    "        ('classifier', LogisticRegression())\n",
    "    ])\n",
    "\n",
    "scores = cross_val_score(pipeline, X_train, y_train, cv=5)\n",
    "print(\"Cross-validation scores:\", scores)\n",
    "print(\"Mean cross-validation score:\", scores.mean())"
   ]
  },
  {
   "cell_type": "code",
   "execution_count": 24,
   "id": "91a000bc",
   "metadata": {
    "execution": {
     "iopub.execute_input": "2023-07-12T20:01:48.424734Z",
     "iopub.status.busy": "2023-07-12T20:01:48.424403Z",
     "iopub.status.idle": "2023-07-12T20:01:48.433009Z",
     "shell.execute_reply": "2023-07-12T20:01:48.432034Z"
    },
    "papermill": {
     "duration": 0.029972,
     "end_time": "2023-07-12T20:01:48.435067",
     "exception": false,
     "start_time": "2023-07-12T20:01:48.405095",
     "status": "completed"
    },
    "tags": []
   },
   "outputs": [],
   "source": [
    "logistic_regression = LogisticRegression()\n",
    "random_forest = RandomForestClassifier()\n",
    "gradient_boosting = GradientBoostingClassifier()\n",
    "svm = SVC(kernel='rbf', C=1000)\n",
    "neural_network = MLPClassifier()\n",
    "xgboost_model = xgb.XGBClassifier()\n",
    "catboost_model = CatBoostClassifier(verbose=False)\n",
    "lightgbm_model = lgb.LGBMClassifier()"
   ]
  },
  {
   "cell_type": "code",
   "execution_count": 25,
   "id": "2582142f",
   "metadata": {
    "execution": {
     "iopub.execute_input": "2023-07-12T20:01:48.474192Z",
     "iopub.status.busy": "2023-07-12T20:01:48.473419Z",
     "iopub.status.idle": "2023-07-12T20:01:48.478981Z",
     "shell.execute_reply": "2023-07-12T20:01:48.477939Z"
    },
    "papermill": {
     "duration": 0.03443,
     "end_time": "2023-07-12T20:01:48.488152",
     "exception": false,
     "start_time": "2023-07-12T20:01:48.453722",
     "status": "completed"
    },
    "tags": []
   },
   "outputs": [],
   "source": [
    "models = [\n",
    "    ('Random Forest', random_forest),\n",
    "    ('Gradient Boosting', gradient_boosting),\n",
    "    ('Support Vector Machines', svm),\n",
    "    ('Neural Network', neural_network),\n",
    "    ('XGBoost', xgboost_model),\n",
    "    ('CatBoost', catboost_model),\n",
    "    ('LightGBM', lightgbm_model)\n",
    "]"
   ]
  },
  {
   "cell_type": "code",
   "execution_count": 26,
   "id": "76f66d35",
   "metadata": {
    "execution": {
     "iopub.execute_input": "2023-07-12T20:01:48.526492Z",
     "iopub.status.busy": "2023-07-12T20:01:48.526185Z",
     "iopub.status.idle": "2023-07-12T20:02:12.179083Z",
     "shell.execute_reply": "2023-07-12T20:02:12.178273Z"
    },
    "papermill": {
     "duration": 23.67502,
     "end_time": "2023-07-12T20:02:12.181747",
     "exception": false,
     "start_time": "2023-07-12T20:01:48.506727",
     "status": "completed"
    },
    "tags": []
   },
   "outputs": [
    {
     "name": "stdout",
     "output_type": "stream",
     "text": [
      "Random Forest:\n",
      "Cross-validation scores: [0.75977654 0.79775281 0.85955056 0.7752809  0.78651685]\n",
      "Mean cross-validation score: 0.795775531981671\n",
      "\n",
      "Gradient Boosting:\n",
      "Cross-validation scores: [0.79888268 0.81460674 0.84269663 0.79775281 0.8258427 ]\n",
      "Mean cross-validation score: 0.815956311593748\n",
      "\n",
      "Support Vector Machines:\n",
      "Cross-validation scores: [0.74301676 0.73595506 0.79213483 0.75842697 0.79213483]\n",
      "Mean cross-validation score: 0.764333689033959\n",
      "\n",
      "Neural Network:\n",
      "Cross-validation scores: [0.7877095  0.79775281 0.83146067 0.79775281 0.83707865]\n",
      "Mean cross-validation score: 0.8103508882053857\n",
      "\n",
      "XGBoost:\n",
      "Cross-validation scores: [0.78212291 0.81460674 0.85393258 0.7752809  0.83707865]\n",
      "Mean cross-validation score: 0.8126043562864854\n",
      "\n",
      "CatBoost:\n",
      "Cross-validation scores: [0.81005587 0.82022472 0.84269663 0.81460674 0.83146067]\n",
      "Mean cross-validation score: 0.8238089259933463\n",
      "\n",
      "LightGBM:\n",
      "Cross-validation scores: [0.79888268 0.82022472 0.84831461 0.79213483 0.84831461]\n",
      "Mean cross-validation score: 0.8215742891218379\n",
      "\n",
      "Best Model: CatBoost\n",
      "Cross-validation score: 0.8238089259933463\n",
      "\n",
      "Worst Model: Support Vector Machines\n",
      "Cross-validation score: 0.764333689033959\n",
      "\n"
     ]
    }
   ],
   "source": [
    "model_scores = {}\n",
    "\n",
    "numerical_transformer = StandardScaler()\n",
    "cat_transformer = OneHotEncoder(drop = 'first', handle_unknown='ignore')\n",
    "\n",
    "preprocessor = ColumnTransformer(\n",
    "    transformers=[\n",
    "        ('num', numerical_transformer, numerical_cols),\n",
    "        ('cat', cat_transformer, cat_cols)\n",
    "    ])\n",
    "\n",
    "for name, model in models:\n",
    "    pipeline = Pipeline([\n",
    "        ('preprocessor', preprocessor),\n",
    "        ('classifier', model)\n",
    "    ])\n",
    "    scores = cross_val_score(pipeline, X_train, y_train, cv=5)\n",
    "    model_scores[name] = scores.mean()\n",
    "    print(f\"{name}:\")\n",
    "    print(\"Cross-validation scores:\", scores)\n",
    "    print(\"Mean cross-validation score:\", scores.mean())\n",
    "    print()\n",
    "\n",
    "# Find the best and worst models based on cross-validation scores\n",
    "best_model = max(model_scores, key=model_scores.get)\n",
    "worst_model = min(model_scores, key=model_scores.get)\n",
    "\n",
    "print(\"Best Model:\", best_model)\n",
    "print(\"Cross-validation score:\", model_scores[best_model])\n",
    "print()\n",
    "\n",
    "print(\"Worst Model:\", worst_model)\n",
    "print(\"Cross-validation score:\", model_scores[worst_model])\n",
    "print()"
   ]
  },
  {
   "cell_type": "code",
   "execution_count": 27,
   "id": "8e3cab9a",
   "metadata": {
    "execution": {
     "iopub.execute_input": "2023-07-12T20:02:12.224406Z",
     "iopub.status.busy": "2023-07-12T20:02:12.224055Z",
     "iopub.status.idle": "2023-07-12T20:02:35.395544Z",
     "shell.execute_reply": "2023-07-12T20:02:35.393326Z"
    },
    "papermill": {
     "duration": 23.194627,
     "end_time": "2023-07-12T20:02:35.398700",
     "exception": false,
     "start_time": "2023-07-12T20:02:12.204073",
     "status": "completed"
    },
    "tags": []
   },
   "outputs": [
    {
     "name": "stdout",
     "output_type": "stream",
     "text": [
      "Ensemble of all models:\n",
      "Cross-validation scores: [0.79329609 0.83707865 0.86516854 0.79775281 0.83146067]\n",
      "Mean cross-validation score: 0.8249513527085556\n"
     ]
    }
   ],
   "source": [
    "pipelines = []\n",
    "for name, model in models:\n",
    "    pipeline = Pipeline([\n",
    "        ('preprocessor', preprocessor),\n",
    "        ('classifier', model)\n",
    "    ])\n",
    "    pipelines.append((name, pipeline))\n",
    "\n",
    "# Create the VotingClassifier ensemble\n",
    "ensemble = VotingClassifier(estimators=pipelines)\n",
    "\n",
    "# Perform cross-validation on the ensemble\n",
    "ensemble_scores = cross_val_score(ensemble, X_train, y_train, cv=5)\n",
    "\n",
    "print(\"Ensemble of all models:\")\n",
    "print(\"Cross-validation scores:\", ensemble_scores)\n",
    "print(\"Mean cross-validation score:\", ensemble_scores.mean())\n"
   ]
  },
  {
   "cell_type": "code",
   "execution_count": 28,
   "id": "095f4ecd",
   "metadata": {
    "execution": {
     "iopub.execute_input": "2023-07-12T20:02:35.454867Z",
     "iopub.status.busy": "2023-07-12T20:02:35.454570Z",
     "iopub.status.idle": "2023-07-12T20:02:35.459041Z",
     "shell.execute_reply": "2023-07-12T20:02:35.458021Z"
    },
    "papermill": {
     "duration": 0.026331,
     "end_time": "2023-07-12T20:02:35.461360",
     "exception": false,
     "start_time": "2023-07-12T20:02:35.435029",
     "status": "completed"
    },
    "tags": []
   },
   "outputs": [],
   "source": [
    "model_scores['Ensemble'] = ensemble_scores.mean()"
   ]
  },
  {
   "cell_type": "code",
   "execution_count": 29,
   "id": "79462de9",
   "metadata": {
    "execution": {
     "iopub.execute_input": "2023-07-12T20:02:35.499109Z",
     "iopub.status.busy": "2023-07-12T20:02:35.498845Z",
     "iopub.status.idle": "2023-07-12T20:02:35.505446Z",
     "shell.execute_reply": "2023-07-12T20:02:35.504509Z"
    },
    "papermill": {
     "duration": 0.027869,
     "end_time": "2023-07-12T20:02:35.507467",
     "exception": false,
     "start_time": "2023-07-12T20:02:35.479598",
     "status": "completed"
    },
    "tags": []
   },
   "outputs": [
    {
     "data": {
      "text/plain": [
       "{'Random Forest': 0.795775531981671,\n",
       " 'Gradient Boosting': 0.815956311593748,\n",
       " 'Support Vector Machines': 0.764333689033959,\n",
       " 'Neural Network': 0.8103508882053857,\n",
       " 'XGBoost': 0.8126043562864854,\n",
       " 'CatBoost': 0.8238089259933463,\n",
       " 'LightGBM': 0.8215742891218379,\n",
       " 'Ensemble': 0.8249513527085556}"
      ]
     },
     "execution_count": 29,
     "metadata": {},
     "output_type": "execute_result"
    }
   ],
   "source": [
    "model_scores"
   ]
  },
  {
   "cell_type": "code",
   "execution_count": 30,
   "id": "dd0fee29",
   "metadata": {
    "execution": {
     "iopub.execute_input": "2023-07-12T20:02:35.546065Z",
     "iopub.status.busy": "2023-07-12T20:02:35.545805Z",
     "iopub.status.idle": "2023-07-12T20:02:35.557969Z",
     "shell.execute_reply": "2023-07-12T20:02:35.556871Z"
    },
    "papermill": {
     "duration": 0.034501,
     "end_time": "2023-07-12T20:02:35.560614",
     "exception": false,
     "start_time": "2023-07-12T20:02:35.526113",
     "status": "completed"
    },
    "tags": []
   },
   "outputs": [
    {
     "data": {
      "text/html": [
       "<div>\n",
       "<style scoped>\n",
       "    .dataframe tbody tr th:only-of-type {\n",
       "        vertical-align: middle;\n",
       "    }\n",
       "\n",
       "    .dataframe tbody tr th {\n",
       "        vertical-align: top;\n",
       "    }\n",
       "\n",
       "    .dataframe thead th {\n",
       "        text-align: right;\n",
       "    }\n",
       "</style>\n",
       "<table border=\"1\" class=\"dataframe\">\n",
       "  <thead>\n",
       "    <tr style=\"text-align: right;\">\n",
       "      <th></th>\n",
       "      <th>Mean cross-validation score</th>\n",
       "    </tr>\n",
       "  </thead>\n",
       "  <tbody>\n",
       "    <tr>\n",
       "      <th>Random Forest</th>\n",
       "      <td>0.795776</td>\n",
       "    </tr>\n",
       "    <tr>\n",
       "      <th>Gradient Boosting</th>\n",
       "      <td>0.815956</td>\n",
       "    </tr>\n",
       "    <tr>\n",
       "      <th>Support Vector Machines</th>\n",
       "      <td>0.764334</td>\n",
       "    </tr>\n",
       "    <tr>\n",
       "      <th>Neural Network</th>\n",
       "      <td>0.810351</td>\n",
       "    </tr>\n",
       "    <tr>\n",
       "      <th>XGBoost</th>\n",
       "      <td>0.812604</td>\n",
       "    </tr>\n",
       "    <tr>\n",
       "      <th>CatBoost</th>\n",
       "      <td>0.823809</td>\n",
       "    </tr>\n",
       "    <tr>\n",
       "      <th>LightGBM</th>\n",
       "      <td>0.821574</td>\n",
       "    </tr>\n",
       "    <tr>\n",
       "      <th>Ensemble</th>\n",
       "      <td>0.824951</td>\n",
       "    </tr>\n",
       "  </tbody>\n",
       "</table>\n",
       "</div>"
      ],
      "text/plain": [
       "                         Mean cross-validation score\n",
       "Random Forest                               0.795776\n",
       "Gradient Boosting                           0.815956\n",
       "Support Vector Machines                     0.764334\n",
       "Neural Network                              0.810351\n",
       "XGBoost                                     0.812604\n",
       "CatBoost                                    0.823809\n",
       "LightGBM                                    0.821574\n",
       "Ensemble                                    0.824951"
      ]
     },
     "execution_count": 30,
     "metadata": {},
     "output_type": "execute_result"
    }
   ],
   "source": [
    "df = pd.DataFrame.from_dict(model_scores, orient='index').rename(columns = {0:'Mean cross-validation score'})\n",
    "df"
   ]
  },
  {
   "cell_type": "code",
   "execution_count": 31,
   "id": "4834590c",
   "metadata": {
    "execution": {
     "iopub.execute_input": "2023-07-12T20:02:35.628608Z",
     "iopub.status.busy": "2023-07-12T20:02:35.626994Z",
     "iopub.status.idle": "2023-07-12T20:02:35.636079Z",
     "shell.execute_reply": "2023-07-12T20:02:35.634381Z"
    },
    "papermill": {
     "duration": 0.053437,
     "end_time": "2023-07-12T20:02:35.640341",
     "exception": false,
     "start_time": "2023-07-12T20:02:35.586904",
     "status": "completed"
    },
    "tags": []
   },
   "outputs": [
    {
     "name": "stdout",
     "output_type": "stream",
     "text": [
      "Updating this notebook with new learnings (tensorflow) as of date and time 2023-07-12 20:02:35.631763.\n"
     ]
    }
   ],
   "source": [
    "import datetime\n",
    "print(f'Updating this notebook with new learnings (tensorflow) as of date and time {datetime.datetime.now()}.')"
   ]
  },
  {
   "cell_type": "code",
   "execution_count": 32,
   "id": "e696230f",
   "metadata": {
    "execution": {
     "iopub.execute_input": "2023-07-12T20:02:35.698962Z",
     "iopub.status.busy": "2023-07-12T20:02:35.698664Z",
     "iopub.status.idle": "2023-07-12T20:02:43.102349Z",
     "shell.execute_reply": "2023-07-12T20:02:43.101351Z"
    },
    "papermill": {
     "duration": 7.428215,
     "end_time": "2023-07-12T20:02:43.105078",
     "exception": false,
     "start_time": "2023-07-12T20:02:35.676863",
     "status": "completed"
    },
    "tags": []
   },
   "outputs": [],
   "source": [
    "import tensorflow as tf\n",
    "from tensorflow.keras import layers\n",
    "\n",
    "from sklearn.preprocessing import MinMaxScaler, OneHotEncoder\n",
    "from sklearn.pipeline import Pipeline\n",
    "from sklearn.compose import ColumnTransformer"
   ]
  },
  {
   "cell_type": "code",
   "execution_count": 33,
   "id": "74852616",
   "metadata": {
    "execution": {
     "iopub.execute_input": "2023-07-12T20:02:43.145132Z",
     "iopub.status.busy": "2023-07-12T20:02:43.144252Z",
     "iopub.status.idle": "2023-07-12T20:02:43.172919Z",
     "shell.execute_reply": "2023-07-12T20:02:43.171939Z"
    },
    "papermill": {
     "duration": 0.051099,
     "end_time": "2023-07-12T20:02:43.175477",
     "exception": false,
     "start_time": "2023-07-12T20:02:43.124378",
     "status": "completed"
    },
    "tags": []
   },
   "outputs": [],
   "source": [
    "minmax_cols = ['Age', 'Fare']\n",
    "one_hot_cols = ['Pclass', 'Sex', 'SibSp', 'Parch', 'Embarked', 'FamilySize', 'AgeGroup', 'FareGroup']\n",
    "\n",
    "minmax = MinMaxScaler()\n",
    "ohe = OneHotEncoder(drop = 'first', handle_unknown = 'ignore', sparse = False)\n",
    "\n",
    "transformer = ColumnTransformer([\n",
    "    ('minmax', minmax, minmax_cols),\n",
    "    ('ohe', ohe, one_hot_cols)\n",
    "])\n",
    "\n",
    "X_train_tf = transformer.fit_transform(X_train)\n",
    "X_test_tf = transformer.transform(X_test)"
   ]
  },
  {
   "cell_type": "code",
   "execution_count": 34,
   "id": "8b1e3dfc",
   "metadata": {
    "execution": {
     "iopub.execute_input": "2023-07-12T20:02:43.215436Z",
     "iopub.status.busy": "2023-07-12T20:02:43.215120Z",
     "iopub.status.idle": "2023-07-12T20:02:43.221189Z",
     "shell.execute_reply": "2023-07-12T20:02:43.220183Z"
    },
    "papermill": {
     "duration": 0.029283,
     "end_time": "2023-07-12T20:02:43.224454",
     "exception": false,
     "start_time": "2023-07-12T20:02:43.195171",
     "status": "completed"
    },
    "tags": []
   },
   "outputs": [
    {
     "data": {
      "text/plain": [
       "((891, 33), (418, 33))"
      ]
     },
     "execution_count": 34,
     "metadata": {},
     "output_type": "execute_result"
    }
   ],
   "source": [
    "X_train_tf.shape, X_test_tf.shape"
   ]
  },
  {
   "cell_type": "code",
   "execution_count": 35,
   "id": "0bdba4d1",
   "metadata": {
    "execution": {
     "iopub.execute_input": "2023-07-12T20:02:43.263367Z",
     "iopub.status.busy": "2023-07-12T20:02:43.263067Z",
     "iopub.status.idle": "2023-07-12T20:02:47.133992Z",
     "shell.execute_reply": "2023-07-12T20:02:47.132970Z"
    },
    "papermill": {
     "duration": 3.893274,
     "end_time": "2023-07-12T20:02:47.136316",
     "exception": false,
     "start_time": "2023-07-12T20:02:43.243042",
     "status": "completed"
    },
    "tags": []
   },
   "outputs": [],
   "source": [
    "X_train_tf = tf.constant(X_train_tf)\n",
    "X_test_tf = tf.constant(X_test_tf)"
   ]
  },
  {
   "cell_type": "code",
   "execution_count": 36,
   "id": "6a4dfcce",
   "metadata": {
    "execution": {
     "iopub.execute_input": "2023-07-12T20:02:47.176625Z",
     "iopub.status.busy": "2023-07-12T20:02:47.176317Z",
     "iopub.status.idle": "2023-07-12T20:03:08.772919Z",
     "shell.execute_reply": "2023-07-12T20:03:08.771917Z"
    },
    "papermill": {
     "duration": 21.619034,
     "end_time": "2023-07-12T20:03:08.775162",
     "exception": false,
     "start_time": "2023-07-12T20:02:47.156128",
     "status": "completed"
    },
    "tags": []
   },
   "outputs": [
    {
     "name": "stdout",
     "output_type": "stream",
     "text": [
      "\n",
      "Epoch 1: val_loss improved from inf to 0.54015, saving model to model.ckpt\n",
      "\n",
      "Epoch 2: val_loss improved from 0.54015 to 0.48909, saving model to model.ckpt\n",
      "\n",
      "Epoch 3: val_loss improved from 0.48909 to 0.44701, saving model to model.ckpt\n",
      "\n",
      "Epoch 4: val_loss improved from 0.44701 to 0.42240, saving model to model.ckpt\n",
      "\n",
      "Epoch 5: val_loss improved from 0.42240 to 0.41046, saving model to model.ckpt\n",
      "\n",
      "Epoch 6: val_loss improved from 0.41046 to 0.39815, saving model to model.ckpt\n",
      "\n",
      "Epoch 7: val_loss improved from 0.39815 to 0.39147, saving model to model.ckpt\n",
      "\n",
      "Epoch 8: val_loss improved from 0.39147 to 0.38351, saving model to model.ckpt\n",
      "\n",
      "Epoch 9: val_loss did not improve from 0.38351\n",
      "\n",
      "Epoch 10: val_loss improved from 0.38351 to 0.37702, saving model to model.ckpt\n",
      "\n",
      "Epoch 11: val_loss improved from 0.37702 to 0.37281, saving model to model.ckpt\n",
      "\n",
      "Epoch 12: val_loss improved from 0.37281 to 0.36868, saving model to model.ckpt\n",
      "\n",
      "Epoch 13: val_loss improved from 0.36868 to 0.36672, saving model to model.ckpt\n",
      "\n",
      "Epoch 14: val_loss did not improve from 0.36672\n",
      "\n",
      "Epoch 15: val_loss did not improve from 0.36672\n",
      "\n",
      "Epoch 16: val_loss improved from 0.36672 to 0.36265, saving model to model.ckpt\n",
      "\n",
      "Epoch 17: val_loss did not improve from 0.36265\n",
      "\n",
      "Epoch 18: val_loss did not improve from 0.36265\n",
      "\n",
      "Epoch 19: val_loss did not improve from 0.36265\n",
      "\n",
      "Epoch 20: val_loss did not improve from 0.36265\n",
      "\n",
      "Epoch 21: val_loss did not improve from 0.36265\n",
      "\n",
      "Epoch 22: val_loss did not improve from 0.36265\n",
      "\n",
      "Epoch 23: val_loss did not improve from 0.36265\n",
      "\n",
      "Epoch 24: val_loss did not improve from 0.36265\n",
      "\n",
      "Epoch 25: val_loss did not improve from 0.36265\n",
      "\n",
      "Epoch 26: val_loss did not improve from 0.36265\n",
      "\n",
      "Epoch 27: val_loss did not improve from 0.36265\n",
      "\n",
      "Epoch 28: val_loss did not improve from 0.36265\n",
      "\n",
      "Epoch 29: val_loss did not improve from 0.36265\n",
      "\n",
      "Epoch 30: val_loss did not improve from 0.36265\n",
      "\n",
      "Epoch 31: val_loss did not improve from 0.36265\n",
      "\n",
      "Epoch 32: val_loss did not improve from 0.36265\n",
      "\n",
      "Epoch 33: val_loss did not improve from 0.36265\n",
      "\n",
      "Epoch 34: val_loss did not improve from 0.36265\n",
      "\n",
      "Epoch 35: val_loss did not improve from 0.36265\n",
      "\n",
      "Epoch 36: val_loss did not improve from 0.36265\n",
      "\n",
      "Epoch 37: val_loss did not improve from 0.36265\n",
      "\n",
      "Epoch 38: val_loss did not improve from 0.36265\n",
      "\n",
      "Epoch 39: val_loss did not improve from 0.36265\n",
      "\n",
      "Epoch 40: val_loss did not improve from 0.36265\n",
      "\n",
      "Epoch 41: val_loss did not improve from 0.36265\n",
      "\n",
      "Epoch 42: val_loss did not improve from 0.36265\n",
      "\n",
      "Epoch 43: val_loss did not improve from 0.36265\n",
      "\n",
      "Epoch 44: val_loss did not improve from 0.36265\n",
      "\n",
      "Epoch 45: val_loss did not improve from 0.36265\n",
      "\n",
      "Epoch 46: val_loss did not improve from 0.36265\n",
      "\n",
      "Epoch 47: val_loss did not improve from 0.36265\n",
      "\n",
      "Epoch 48: val_loss did not improve from 0.36265\n",
      "\n",
      "Epoch 49: val_loss did not improve from 0.36265\n",
      "\n",
      "Epoch 50: val_loss did not improve from 0.36265\n",
      "\n",
      "Epoch 51: val_loss did not improve from 0.36265\n",
      "\n",
      "Epoch 52: val_loss did not improve from 0.36265\n",
      "\n",
      "Epoch 53: val_loss did not improve from 0.36265\n",
      "\n",
      "Epoch 54: val_loss did not improve from 0.36265\n",
      "\n",
      "Epoch 55: val_loss did not improve from 0.36265\n",
      "\n",
      "Epoch 56: val_loss did not improve from 0.36265\n",
      "\n",
      "Epoch 57: val_loss did not improve from 0.36265\n",
      "\n",
      "Epoch 58: val_loss did not improve from 0.36265\n",
      "\n",
      "Epoch 59: val_loss did not improve from 0.36265\n",
      "\n",
      "Epoch 60: val_loss did not improve from 0.36265\n",
      "\n",
      "Epoch 61: val_loss did not improve from 0.36265\n",
      "\n",
      "Epoch 62: val_loss did not improve from 0.36265\n",
      "\n",
      "Epoch 63: val_loss did not improve from 0.36265\n",
      "\n",
      "Epoch 64: val_loss did not improve from 0.36265\n",
      "\n",
      "Epoch 65: val_loss did not improve from 0.36265\n",
      "\n",
      "Epoch 66: val_loss did not improve from 0.36265\n",
      "\n",
      "Epoch 67: val_loss did not improve from 0.36265\n",
      "\n",
      "Epoch 68: val_loss did not improve from 0.36265\n",
      "\n",
      "Epoch 69: val_loss did not improve from 0.36265\n",
      "\n",
      "Epoch 70: val_loss did not improve from 0.36265\n",
      "\n",
      "Epoch 71: val_loss did not improve from 0.36265\n",
      "\n",
      "Epoch 72: val_loss did not improve from 0.36265\n",
      "\n",
      "Epoch 73: val_loss did not improve from 0.36265\n",
      "\n",
      "Epoch 74: val_loss did not improve from 0.36265\n",
      "\n",
      "Epoch 75: val_loss did not improve from 0.36265\n",
      "\n",
      "Epoch 76: val_loss did not improve from 0.36265\n",
      "\n",
      "Epoch 77: val_loss did not improve from 0.36265\n",
      "\n",
      "Epoch 78: val_loss did not improve from 0.36265\n",
      "\n",
      "Epoch 79: val_loss did not improve from 0.36265\n",
      "\n",
      "Epoch 80: val_loss did not improve from 0.36265\n",
      "\n",
      "Epoch 81: val_loss did not improve from 0.36265\n",
      "\n",
      "Epoch 82: val_loss did not improve from 0.36265\n",
      "\n",
      "Epoch 83: val_loss did not improve from 0.36265\n",
      "\n",
      "Epoch 84: val_loss did not improve from 0.36265\n",
      "\n",
      "Epoch 85: val_loss did not improve from 0.36265\n",
      "\n",
      "Epoch 86: val_loss did not improve from 0.36265\n",
      "\n",
      "Epoch 87: val_loss did not improve from 0.36265\n",
      "\n",
      "Epoch 88: val_loss did not improve from 0.36265\n",
      "\n",
      "Epoch 89: val_loss did not improve from 0.36265\n",
      "\n",
      "Epoch 90: val_loss did not improve from 0.36265\n",
      "\n",
      "Epoch 91: val_loss did not improve from 0.36265\n",
      "\n",
      "Epoch 92: val_loss did not improve from 0.36265\n",
      "\n",
      "Epoch 93: val_loss did not improve from 0.36265\n",
      "\n",
      "Epoch 94: val_loss did not improve from 0.36265\n",
      "\n",
      "Epoch 95: val_loss did not improve from 0.36265\n",
      "\n",
      "Epoch 96: val_loss did not improve from 0.36265\n",
      "\n",
      "Epoch 97: val_loss did not improve from 0.36265\n",
      "\n",
      "Epoch 98: val_loss did not improve from 0.36265\n",
      "\n",
      "Epoch 99: val_loss did not improve from 0.36265\n",
      "\n",
      "Epoch 100: val_loss did not improve from 0.36265\n"
     ]
    },
    {
     "data": {
      "text/plain": [
       "<keras.callbacks.History at 0x7e36af6a9c90>"
      ]
     },
     "execution_count": 36,
     "metadata": {},
     "output_type": "execute_result"
    }
   ],
   "source": [
    "from tensorflow.keras.callbacks import EarlyStopping\n",
    "\n",
    "input_shape = (X_train_tf.shape[1],) \n",
    "\n",
    "inputs = layers.Input(shape=input_shape, dtype=tf.float32)\n",
    "x = layers.Dense(128, activation='relu')(inputs)\n",
    "x = layers.Dropout(0.2)(x)\n",
    "x = layers.Dense(64, activation='relu')(x)\n",
    "x = layers.Dropout(0.2)(x)\n",
    "outputs = layers.Dense(1, activation='sigmoid')(x)\n",
    "\n",
    "model = tf.keras.Model(inputs, outputs)\n",
    "model.compile(loss = 'binary_crossentropy',\n",
    "             optimizer = tf.keras.optimizers.Adam(),\n",
    "             metrics = ['accuracy'])\n",
    "\n",
    "early_stopping = tf.keras.callbacks.EarlyStopping(monitor='val_loss', patience=10)  \n",
    "checkpoint_path = \"model.ckpt\"\n",
    "checkpoint_dir = os.path.dirname(checkpoint_path)\n",
    "\n",
    "cp_callback = tf.keras.callbacks.ModelCheckpoint(filepath=checkpoint_path,\n",
    "                              save_weights_only=True,\n",
    "                              monitor='val_loss',\n",
    "                              save_best_only=True,\n",
    "                              verbose=1)\n",
    "\n",
    "learning_rate_scheduler = tf.keras.callbacks.ReduceLROnPlateau(monitor = 'val_loss', patience = 10)\n",
    "\n",
    "model.fit(X_train_tf,\n",
    "         y_train,\n",
    "         epochs = 100,\n",
    "         batch_size = 32,\n",
    "         validation_split = 0.2,\n",
    "          verbose = 0,\n",
    "         callbacks = [cp_callback, learning_rate_scheduler]\n",
    "         )  "
   ]
  },
  {
   "cell_type": "code",
   "execution_count": 37,
   "id": "d7bea3a0",
   "metadata": {
    "execution": {
     "iopub.execute_input": "2023-07-12T20:03:08.832002Z",
     "iopub.status.busy": "2023-07-12T20:03:08.831058Z",
     "iopub.status.idle": "2023-07-12T20:03:08.864201Z",
     "shell.execute_reply": "2023-07-12T20:03:08.863117Z"
    },
    "papermill": {
     "duration": 0.063773,
     "end_time": "2023-07-12T20:03:08.866483",
     "exception": false,
     "start_time": "2023-07-12T20:03:08.802710",
     "status": "completed"
    },
    "tags": []
   },
   "outputs": [
    {
     "data": {
      "text/plain": [
       "<tensorflow.python.checkpoint.checkpoint.CheckpointLoadStatus at 0x7e37f43ef370>"
      ]
     },
     "execution_count": 37,
     "metadata": {},
     "output_type": "execute_result"
    }
   ],
   "source": [
    "model_path = '/kaggle/working/model.ckpt'\n",
    "model.load_weights(checkpoint_path)"
   ]
  },
  {
   "cell_type": "code",
   "execution_count": 38,
   "id": "62107690",
   "metadata": {
    "execution": {
     "iopub.execute_input": "2023-07-12T20:03:08.927017Z",
     "iopub.status.busy": "2023-07-12T20:03:08.926110Z",
     "iopub.status.idle": "2023-07-12T20:03:08.931033Z",
     "shell.execute_reply": "2023-07-12T20:03:08.930093Z"
    },
    "papermill": {
     "duration": 0.035996,
     "end_time": "2023-07-12T20:03:08.933089",
     "exception": false,
     "start_time": "2023-07-12T20:03:08.897093",
     "status": "completed"
    },
    "tags": []
   },
   "outputs": [],
   "source": [
    "from sklearn.model_selection import KFold"
   ]
  },
  {
   "cell_type": "code",
   "execution_count": 39,
   "id": "abb522ac",
   "metadata": {
    "execution": {
     "iopub.execute_input": "2023-07-12T20:03:08.989013Z",
     "iopub.status.busy": "2023-07-12T20:03:08.988736Z",
     "iopub.status.idle": "2023-07-12T20:03:08.993336Z",
     "shell.execute_reply": "2023-07-12T20:03:08.992317Z"
    },
    "papermill": {
     "duration": 0.034803,
     "end_time": "2023-07-12T20:03:08.995423",
     "exception": false,
     "start_time": "2023-07-12T20:03:08.960620",
     "status": "completed"
    },
    "tags": []
   },
   "outputs": [],
   "source": [
    "acc_per_fold = []\n",
    "loss_per_fold = []\n",
    "\n",
    "kfold = KFold(n_splits = 5, shuffle = True)"
   ]
  },
  {
   "cell_type": "code",
   "execution_count": 40,
   "id": "a2ce6827",
   "metadata": {
    "execution": {
     "iopub.execute_input": "2023-07-12T20:03:09.051056Z",
     "iopub.status.busy": "2023-07-12T20:03:09.050779Z",
     "iopub.status.idle": "2023-07-12T20:03:57.367092Z",
     "shell.execute_reply": "2023-07-12T20:03:57.366369Z"
    },
    "papermill": {
     "duration": 48.346906,
     "end_time": "2023-07-12T20:03:57.369769",
     "exception": false,
     "start_time": "2023-07-12T20:03:09.022863",
     "status": "completed"
    },
    "tags": []
   },
   "outputs": [
    {
     "name": "stdout",
     "output_type": "stream",
     "text": [
      "------------------------------------------------------------\n",
      "Training for fold: 1\n",
      "\n",
      "------------------------------------------------------------\n",
      "Training for fold: 2\n",
      "\n",
      "------------------------------------------------------------\n",
      "Training for fold: 3\n",
      "\n",
      "------------------------------------------------------------\n",
      "Training for fold: 4\n",
      "\n",
      "------------------------------------------------------------\n",
      "Training for fold: 5\n",
      "\n"
     ]
    }
   ],
   "source": [
    "X_train_np = np.array(X_train_tf)\n",
    "y_train_np = y_train.to_numpy()\n",
    "\n",
    "num_fold = 1\n",
    "\n",
    "for i, j in kfold.split(X_train_np, y_train_np): \n",
    "\n",
    "    inputs = layers.Input(shape=input_shape, dtype=tf.float32)\n",
    "    x = layers.Dense(128, activation='relu')(inputs)\n",
    "    x = layers.Dropout(0.2)(x)\n",
    "    x = layers.Dense(64, activation='relu')(x)\n",
    "    x = layers.Dropout(0.2)(x)\n",
    "    outputs = layers.Dense(1, activation='sigmoid')(x)\n",
    "\n",
    "    model = tf.keras.Model(inputs, outputs)\n",
    "    model.compile(loss = 'binary_crossentropy',\n",
    "                 optimizer = tf.keras.optimizers.Adam(),\n",
    "                 metrics = ['accuracy'])\n",
    "\n",
    "    print('-'*60)\n",
    "    print(f'Training for fold: {num_fold}\\n')\n",
    "\n",
    "    history = model.fit(X_train_np[i],\n",
    "                        y_train_np[i],\n",
    "                        batch_size = 32,\n",
    "                        epochs = 100,\n",
    "                        verbose = 0)\n",
    "\n",
    "    scores = model.evaluate(X_train_np[j], y_train_np[j], verbose = 0)\n",
    "    acc_per_fold.append(scores[1] * 100)\n",
    "    loss_per_fold.append(scores[0])\n",
    "    num_fold += 1"
   ]
  },
  {
   "cell_type": "code",
   "execution_count": 41,
   "id": "be7a506c",
   "metadata": {
    "execution": {
     "iopub.execute_input": "2023-07-12T20:03:57.425351Z",
     "iopub.status.busy": "2023-07-12T20:03:57.425039Z",
     "iopub.status.idle": "2023-07-12T20:03:57.431128Z",
     "shell.execute_reply": "2023-07-12T20:03:57.430277Z"
    },
    "papermill": {
     "duration": 0.03594,
     "end_time": "2023-07-12T20:03:57.433020",
     "exception": false,
     "start_time": "2023-07-12T20:03:57.397080",
     "status": "completed"
    },
    "tags": []
   },
   "outputs": [
    {
     "data": {
      "text/plain": [
       "([85.47486066818237,\n",
       "  78.65168452262878,\n",
       "  75.84269642829895,\n",
       "  82.02247023582458,\n",
       "  80.89887499809265],\n",
       " [0.43943431973457336,\n",
       "  0.5897753238677979,\n",
       "  0.6404489874839783,\n",
       "  0.5086673498153687,\n",
       "  0.5652723908424377])"
      ]
     },
     "execution_count": 41,
     "metadata": {},
     "output_type": "execute_result"
    }
   ],
   "source": [
    "acc_per_fold, loss_per_fold"
   ]
  },
  {
   "cell_type": "code",
   "execution_count": 42,
   "id": "197c449d",
   "metadata": {
    "execution": {
     "iopub.execute_input": "2023-07-12T20:03:57.488297Z",
     "iopub.status.busy": "2023-07-12T20:03:57.487994Z",
     "iopub.status.idle": "2023-07-12T20:03:57.495111Z",
     "shell.execute_reply": "2023-07-12T20:03:57.494201Z"
    },
    "papermill": {
     "duration": 0.036912,
     "end_time": "2023-07-12T20:03:57.497143",
     "exception": false,
     "start_time": "2023-07-12T20:03:57.460231",
     "status": "completed"
    },
    "tags": []
   },
   "outputs": [
    {
     "data": {
      "text/plain": [
       "(80.57811737060547, 0.5487196743488312)"
      ]
     },
     "execution_count": 42,
     "metadata": {},
     "output_type": "execute_result"
    }
   ],
   "source": [
    "np.mean(acc_per_fold), np.mean(loss_per_fold)"
   ]
  },
  {
   "cell_type": "markdown",
   "id": "441884de",
   "metadata": {
    "papermill": {
     "duration": 0.027227,
     "end_time": "2023-07-12T20:03:57.551743",
     "exception": false,
     "start_time": "2023-07-12T20:03:57.524516",
     "status": "completed"
    },
    "tags": []
   },
   "source": [
    "Let's try TensorFlow Gradient Boosted Decision Forest."
   ]
  },
  {
   "cell_type": "code",
   "execution_count": 43,
   "id": "f949199e",
   "metadata": {
    "execution": {
     "iopub.execute_input": "2023-07-12T20:03:57.607926Z",
     "iopub.status.busy": "2023-07-12T20:03:57.607655Z",
     "iopub.status.idle": "2023-07-12T20:03:57.637052Z",
     "shell.execute_reply": "2023-07-12T20:03:57.636058Z"
    },
    "papermill": {
     "duration": 0.060222,
     "end_time": "2023-07-12T20:03:57.639517",
     "exception": false,
     "start_time": "2023-07-12T20:03:57.579295",
     "status": "completed"
    },
    "tags": []
   },
   "outputs": [],
   "source": [
    "minmax_cols = ['Age', 'Fare']\n",
    "one_hot_cols = ['Pclass', 'Sex', 'SibSp', 'Parch', 'Embarked', 'FamilySize', 'AgeGroup', 'FareGroup']\n",
    "\n",
    "minmax = MinMaxScaler()\n",
    "ohe = OneHotEncoder(drop = 'first', handle_unknown = 'ignore', sparse = False)\n",
    "\n",
    "transformer = ColumnTransformer([\n",
    "    ('minmax', minmax, minmax_cols),\n",
    "    ('ohe', ohe, one_hot_cols)\n",
    "])\n",
    "\n",
    "X_train_tf = tf.constant(transformer.fit_transform(X_train))\n",
    "X_test_tf = tf.constant(transformer.transform(X_test))"
   ]
  },
  {
   "cell_type": "code",
   "execution_count": 44,
   "id": "13223ff1",
   "metadata": {
    "execution": {
     "iopub.execute_input": "2023-07-12T20:03:57.699176Z",
     "iopub.status.busy": "2023-07-12T20:03:57.698182Z",
     "iopub.status.idle": "2023-07-12T20:03:57.956900Z",
     "shell.execute_reply": "2023-07-12T20:03:57.955889Z"
    },
    "papermill": {
     "duration": 0.29045,
     "end_time": "2023-07-12T20:03:57.959462",
     "exception": false,
     "start_time": "2023-07-12T20:03:57.669012",
     "status": "completed"
    },
    "tags": []
   },
   "outputs": [],
   "source": [
    "import tensorflow_decision_forests as tfdf"
   ]
  },
  {
   "cell_type": "code",
   "execution_count": 45,
   "id": "01bc8737",
   "metadata": {
    "execution": {
     "iopub.execute_input": "2023-07-12T20:03:58.016178Z",
     "iopub.status.busy": "2023-07-12T20:03:58.015863Z",
     "iopub.status.idle": "2023-07-12T20:03:58.024065Z",
     "shell.execute_reply": "2023-07-12T20:03:58.023172Z"
    },
    "papermill": {
     "duration": 0.038924,
     "end_time": "2023-07-12T20:03:58.026262",
     "exception": false,
     "start_time": "2023-07-12T20:03:57.987338",
     "status": "completed"
    },
    "tags": []
   },
   "outputs": [
    {
     "data": {
      "text/plain": [
       "['Pclass',\n",
       " 'Sex',\n",
       " 'Age',\n",
       " 'SibSp',\n",
       " 'Parch',\n",
       " 'Fare',\n",
       " 'Embarked',\n",
       " 'FamilySize',\n",
       " 'AgeGroup',\n",
       " 'FareGroup']"
      ]
     },
     "execution_count": 45,
     "metadata": {},
     "output_type": "execute_result"
    }
   ],
   "source": [
    "input_feats = list(X_train.columns)\n",
    "input_feats"
   ]
  },
  {
   "cell_type": "code",
   "execution_count": 46,
   "id": "5bd46423",
   "metadata": {
    "execution": {
     "iopub.execute_input": "2023-07-12T20:03:58.082318Z",
     "iopub.status.busy": "2023-07-12T20:03:58.082012Z",
     "iopub.status.idle": "2023-07-12T20:03:58.095363Z",
     "shell.execute_reply": "2023-07-12T20:03:58.094502Z"
    },
    "papermill": {
     "duration": 0.043621,
     "end_time": "2023-07-12T20:03:58.097365",
     "exception": false,
     "start_time": "2023-07-12T20:03:58.053744",
     "status": "completed"
    },
    "tags": []
   },
   "outputs": [],
   "source": [
    "train_data = tf.data.Dataset.from_tensor_slices((X_train_tf.numpy(), y_train.to_numpy()))\n",
    "train_data = train_data.batch(32).prefetch(tf.data.AUTOTUNE)"
   ]
  },
  {
   "cell_type": "code",
   "execution_count": 47,
   "id": "dcf1d8fd",
   "metadata": {
    "execution": {
     "iopub.execute_input": "2023-07-12T20:03:58.155865Z",
     "iopub.status.busy": "2023-07-12T20:03:58.154443Z",
     "iopub.status.idle": "2023-07-12T20:03:58.164912Z",
     "shell.execute_reply": "2023-07-12T20:03:58.164071Z"
    },
    "papermill": {
     "duration": 0.042445,
     "end_time": "2023-07-12T20:03:58.167091",
     "exception": false,
     "start_time": "2023-07-12T20:03:58.124646",
     "status": "completed"
    },
    "tags": []
   },
   "outputs": [],
   "source": [
    "test_data = tf.data.Dataset.from_tensor_slices(X_test_tf.numpy())\n",
    "test_data = test_data.batch(32).prefetch(tf.data.AUTOTUNE)"
   ]
  },
  {
   "cell_type": "code",
   "execution_count": 48,
   "id": "be9dacf3",
   "metadata": {
    "execution": {
     "iopub.execute_input": "2023-07-12T20:03:58.224176Z",
     "iopub.status.busy": "2023-07-12T20:03:58.222792Z",
     "iopub.status.idle": "2023-07-12T20:04:08.767055Z",
     "shell.execute_reply": "2023-07-12T20:04:08.766049Z"
    },
    "papermill": {
     "duration": 10.575213,
     "end_time": "2023-07-12T20:04:08.769742",
     "exception": false,
     "start_time": "2023-07-12T20:03:58.194529",
     "status": "completed"
    },
    "tags": []
   },
   "outputs": [
    {
     "name": "stderr",
     "output_type": "stream",
     "text": [
      "[WARNING 23-07-12 20:03:58.2455 UTC gradient_boosted_trees.cc:1797] \"goss_alpha\" set but \"sampling_method\" not equal to \"GOSS\".\n",
      "[WARNING 23-07-12 20:03:58.2456 UTC gradient_boosted_trees.cc:1808] \"goss_beta\" set but \"sampling_method\" not equal to \"GOSS\".\n",
      "[WARNING 23-07-12 20:03:58.2456 UTC gradient_boosted_trees.cc:1822] \"selective_gradient_boosting_ratio\" set but \"sampling_method\" not equal to \"SELGB\".\n",
      "[INFO 23-07-12 20:04:06.2566 UTC kernel.cc:1242] Loading model from path /tmp/tmpp1elcfra/model/ with prefix 99c3f04b63514981\n",
      "[INFO 23-07-12 20:04:06.2744 UTC abstract_model.cc:1311] Engine \"GradientBoostedTreesQuickScorerExtended\" built\n",
      "[INFO 23-07-12 20:04:06.2744 UTC kernel.cc:1074] Use fast generic engine\n"
     ]
    },
    {
     "name": "stdout",
     "output_type": "stream",
     "text": [
      "WARNING: AutoGraph could not transform <function simple_ml_inference_op_with_handle at 0x7e3682c1fd00> and will run it as-is.\n",
      "Please report this to the TensorFlow team. When filing the bug, set the verbosity to 10 (on Linux, `export AUTOGRAPH_VERBOSITY=10`) and attach the full output.\n",
      "Cause: could not get source code\n",
      "To silence this warning, decorate the function with @tf.autograph.experimental.do_not_convert\n"
     ]
    }
   ],
   "source": [
    "tfdf_model = tfdf.keras.GradientBoostedTreesModel(verbose = 0)\n",
    "tfdf_model.fit(train_data)\n",
    "self_evaluation = tfdf_model.make_inspector().evaluation()"
   ]
  },
  {
   "cell_type": "code",
   "execution_count": 49,
   "id": "2f3dc84e",
   "metadata": {
    "execution": {
     "iopub.execute_input": "2023-07-12T20:04:08.829122Z",
     "iopub.status.busy": "2023-07-12T20:04:08.826730Z",
     "iopub.status.idle": "2023-07-12T20:04:08.834429Z",
     "shell.execute_reply": "2023-07-12T20:04:08.833404Z"
    },
    "papermill": {
     "duration": 0.038971,
     "end_time": "2023-07-12T20:04:08.836928",
     "exception": false,
     "start_time": "2023-07-12T20:04:08.797957",
     "status": "completed"
    },
    "tags": []
   },
   "outputs": [
    {
     "data": {
      "text/plain": [
       "Evaluation(num_examples=None, accuracy=0.8767123222351074, loss=0.6601622104644775, rmse=None, ndcg=None, aucs=None, auuc=None, qini=None)"
      ]
     },
     "execution_count": 49,
     "metadata": {},
     "output_type": "execute_result"
    }
   ],
   "source": [
    "self_evaluation"
   ]
  },
  {
   "cell_type": "code",
   "execution_count": 50,
   "id": "e57d657d",
   "metadata": {
    "execution": {
     "iopub.execute_input": "2023-07-12T20:04:08.895655Z",
     "iopub.status.busy": "2023-07-12T20:04:08.895385Z",
     "iopub.status.idle": "2023-07-12T20:04:08.920126Z",
     "shell.execute_reply": "2023-07-12T20:04:08.919117Z"
    },
    "papermill": {
     "duration": 0.064401,
     "end_time": "2023-07-12T20:04:08.929469",
     "exception": false,
     "start_time": "2023-07-12T20:04:08.865068",
     "status": "completed"
    },
    "tags": []
   },
   "outputs": [
    {
     "name": "stdout",
     "output_type": "stream",
     "text": [
      "Model: \"model_5\"\n",
      "_________________________________________________________________\n",
      " Layer (type)                Output Shape              Param #   \n",
      "=================================================================\n",
      " input_6 (InputLayer)        [(None, 33)]              0         \n",
      "                                                                 \n",
      " dense_15 (Dense)            (None, 128)               4352      \n",
      "                                                                 \n",
      " dropout_10 (Dropout)        (None, 128)               0         \n",
      "                                                                 \n",
      " dense_16 (Dense)            (None, 64)                8256      \n",
      "                                                                 \n",
      " dropout_11 (Dropout)        (None, 64)                0         \n",
      "                                                                 \n",
      " dense_17 (Dense)            (None, 1)                 65        \n",
      "                                                                 \n",
      "=================================================================\n",
      "Total params: 12,673\n",
      "Trainable params: 12,673\n",
      "Non-trainable params: 0\n",
      "_________________________________________________________________\n"
     ]
    }
   ],
   "source": [
    "model.summary()"
   ]
  },
  {
   "cell_type": "code",
   "execution_count": 51,
   "id": "4bb5e903",
   "metadata": {
    "execution": {
     "iopub.execute_input": "2023-07-12T20:04:08.989942Z",
     "iopub.status.busy": "2023-07-12T20:04:08.989620Z",
     "iopub.status.idle": "2023-07-12T20:07:13.496583Z",
     "shell.execute_reply": "2023-07-12T20:07:13.495430Z"
    },
    "papermill": {
     "duration": 184.540577,
     "end_time": "2023-07-12T20:07:13.499988",
     "exception": false,
     "start_time": "2023-07-12T20:04:08.959411",
     "status": "completed"
    },
    "tags": []
   },
   "outputs": [
    {
     "name": "stdout",
     "output_type": "stream",
     "text": [
      "i:0\n"
     ]
    },
    {
     "name": "stderr",
     "output_type": "stream",
     "text": [
      "[WARNING 23-07-12 20:04:09.0025 UTC gradient_boosted_trees.cc:1797] \"goss_alpha\" set but \"sampling_method\" not equal to \"GOSS\".\n",
      "[WARNING 23-07-12 20:04:09.0025 UTC gradient_boosted_trees.cc:1808] \"goss_beta\" set but \"sampling_method\" not equal to \"GOSS\".\n",
      "[WARNING 23-07-12 20:04:09.0025 UTC gradient_boosted_trees.cc:1822] \"selective_gradient_boosting_ratio\" set but \"sampling_method\" not equal to \"SELGB\".\n",
      "[INFO 23-07-12 20:04:10.1461 UTC kernel.cc:1242] Loading model from path /tmp/tmpdu19v37v/model/ with prefix 7c667ce674724668\n",
      "[INFO 23-07-12 20:04:10.1537 UTC kernel.cc:1074] Use fast generic engine\n"
     ]
    },
    {
     "name": "stdout",
     "output_type": "stream",
     "text": [
      "i:1\n"
     ]
    },
    {
     "name": "stderr",
     "output_type": "stream",
     "text": [
      "[WARNING 23-07-12 20:04:10.6163 UTC gradient_boosted_trees.cc:1797] \"goss_alpha\" set but \"sampling_method\" not equal to \"GOSS\".\n",
      "[WARNING 23-07-12 20:04:10.6164 UTC gradient_boosted_trees.cc:1808] \"goss_beta\" set but \"sampling_method\" not equal to \"GOSS\".\n",
      "[WARNING 23-07-12 20:04:10.6164 UTC gradient_boosted_trees.cc:1822] \"selective_gradient_boosting_ratio\" set but \"sampling_method\" not equal to \"SELGB\".\n",
      "[INFO 23-07-12 20:04:11.9079 UTC kernel.cc:1242] Loading model from path /tmp/tmpwbt3nnil/model/ with prefix a1132384674b4426\n",
      "[INFO 23-07-12 20:04:11.9170 UTC kernel.cc:1074] Use fast generic engine\n"
     ]
    },
    {
     "name": "stdout",
     "output_type": "stream",
     "text": [
      "i:2\n"
     ]
    },
    {
     "name": "stderr",
     "output_type": "stream",
     "text": [
      "[WARNING 23-07-12 20:04:12.3785 UTC gradient_boosted_trees.cc:1797] \"goss_alpha\" set but \"sampling_method\" not equal to \"GOSS\".\n",
      "[WARNING 23-07-12 20:04:12.3785 UTC gradient_boosted_trees.cc:1808] \"goss_beta\" set but \"sampling_method\" not equal to \"GOSS\".\n",
      "[WARNING 23-07-12 20:04:12.3785 UTC gradient_boosted_trees.cc:1822] \"selective_gradient_boosting_ratio\" set but \"sampling_method\" not equal to \"SELGB\".\n",
      "[INFO 23-07-12 20:04:13.7459 UTC kernel.cc:1242] Loading model from path /tmp/tmprvabblx2/model/ with prefix f7778060c1164094\n",
      "[INFO 23-07-12 20:04:13.7554 UTC kernel.cc:1074] Use fast generic engine\n"
     ]
    },
    {
     "name": "stdout",
     "output_type": "stream",
     "text": [
      "i:3\n"
     ]
    },
    {
     "name": "stderr",
     "output_type": "stream",
     "text": [
      "[WARNING 23-07-12 20:04:14.2033 UTC gradient_boosted_trees.cc:1797] \"goss_alpha\" set but \"sampling_method\" not equal to \"GOSS\".\n",
      "[WARNING 23-07-12 20:04:14.2033 UTC gradient_boosted_trees.cc:1808] \"goss_beta\" set but \"sampling_method\" not equal to \"GOSS\".\n",
      "[WARNING 23-07-12 20:04:14.2033 UTC gradient_boosted_trees.cc:1822] \"selective_gradient_boosting_ratio\" set but \"sampling_method\" not equal to \"SELGB\".\n",
      "[INFO 23-07-12 20:04:15.3564 UTC kernel.cc:1242] Loading model from path /tmp/tmp0jv404gk/model/ with prefix 8045800447584baf\n",
      "[INFO 23-07-12 20:04:15.3630 UTC kernel.cc:1074] Use fast generic engine\n"
     ]
    },
    {
     "name": "stdout",
     "output_type": "stream",
     "text": [
      "i:4\n"
     ]
    },
    {
     "name": "stderr",
     "output_type": "stream",
     "text": [
      "[WARNING 23-07-12 20:04:15.8496 UTC gradient_boosted_trees.cc:1797] \"goss_alpha\" set but \"sampling_method\" not equal to \"GOSS\".\n",
      "[WARNING 23-07-12 20:04:15.8497 UTC gradient_boosted_trees.cc:1808] \"goss_beta\" set but \"sampling_method\" not equal to \"GOSS\".\n",
      "[WARNING 23-07-12 20:04:15.8497 UTC gradient_boosted_trees.cc:1822] \"selective_gradient_boosting_ratio\" set but \"sampling_method\" not equal to \"SELGB\".\n",
      "[INFO 23-07-12 20:04:16.8199 UTC kernel.cc:1242] Loading model from path /tmp/tmpbj23iqws/model/ with prefix 72571a3c21794c5b\n",
      "[INFO 23-07-12 20:04:16.8239 UTC abstract_model.cc:1311] Engine \"GradientBoostedTreesQuickScorerExtended\" built\n",
      "[INFO 23-07-12 20:04:16.8239 UTC kernel.cc:1074] Use fast generic engine\n"
     ]
    },
    {
     "name": "stdout",
     "output_type": "stream",
     "text": [
      "i:5\n"
     ]
    },
    {
     "name": "stderr",
     "output_type": "stream",
     "text": [
      "[WARNING 23-07-12 20:04:17.2923 UTC gradient_boosted_trees.cc:1797] \"goss_alpha\" set but \"sampling_method\" not equal to \"GOSS\".\n",
      "[WARNING 23-07-12 20:04:17.2924 UTC gradient_boosted_trees.cc:1808] \"goss_beta\" set but \"sampling_method\" not equal to \"GOSS\".\n",
      "[WARNING 23-07-12 20:04:17.2924 UTC gradient_boosted_trees.cc:1822] \"selective_gradient_boosting_ratio\" set but \"sampling_method\" not equal to \"SELGB\".\n",
      "[INFO 23-07-12 20:04:18.2679 UTC kernel.cc:1242] Loading model from path /tmp/tmpn0tncp37/model/ with prefix 17f1960bcffc43d0\n",
      "[INFO 23-07-12 20:04:18.2718 UTC kernel.cc:1074] Use fast generic engine\n"
     ]
    },
    {
     "name": "stdout",
     "output_type": "stream",
     "text": [
      "i:6\n"
     ]
    },
    {
     "name": "stderr",
     "output_type": "stream",
     "text": [
      "[WARNING 23-07-12 20:04:18.7100 UTC gradient_boosted_trees.cc:1797] \"goss_alpha\" set but \"sampling_method\" not equal to \"GOSS\".\n",
      "[WARNING 23-07-12 20:04:18.7100 UTC gradient_boosted_trees.cc:1808] \"goss_beta\" set but \"sampling_method\" not equal to \"GOSS\".\n",
      "[WARNING 23-07-12 20:04:18.7101 UTC gradient_boosted_trees.cc:1822] \"selective_gradient_boosting_ratio\" set but \"sampling_method\" not equal to \"SELGB\".\n",
      "[INFO 23-07-12 20:04:19.9549 UTC kernel.cc:1242] Loading model from path /tmp/tmpdf_vzivv/model/ with prefix bf1b5510485e4f5d\n",
      "[INFO 23-07-12 20:04:19.9628 UTC kernel.cc:1074] Use fast generic engine\n"
     ]
    },
    {
     "name": "stdout",
     "output_type": "stream",
     "text": [
      "i:7\n"
     ]
    },
    {
     "name": "stderr",
     "output_type": "stream",
     "text": [
      "[WARNING 23-07-12 20:04:20.4203 UTC gradient_boosted_trees.cc:1797] \"goss_alpha\" set but \"sampling_method\" not equal to \"GOSS\".\n",
      "[WARNING 23-07-12 20:04:20.4203 UTC gradient_boosted_trees.cc:1808] \"goss_beta\" set but \"sampling_method\" not equal to \"GOSS\".\n",
      "[WARNING 23-07-12 20:04:20.4203 UTC gradient_boosted_trees.cc:1822] \"selective_gradient_boosting_ratio\" set but \"sampling_method\" not equal to \"SELGB\".\n",
      "[INFO 23-07-12 20:04:21.7785 UTC kernel.cc:1242] Loading model from path /tmp/tmpqoe16y0v/model/ with prefix a77db96995cc4091\n",
      "[INFO 23-07-12 20:04:21.7881 UTC kernel.cc:1074] Use fast generic engine\n"
     ]
    },
    {
     "name": "stdout",
     "output_type": "stream",
     "text": [
      "i:8\n"
     ]
    },
    {
     "name": "stderr",
     "output_type": "stream",
     "text": [
      "[WARNING 23-07-12 20:04:22.2429 UTC gradient_boosted_trees.cc:1797] \"goss_alpha\" set but \"sampling_method\" not equal to \"GOSS\".\n",
      "[WARNING 23-07-12 20:04:22.2429 UTC gradient_boosted_trees.cc:1808] \"goss_beta\" set but \"sampling_method\" not equal to \"GOSS\".\n",
      "[WARNING 23-07-12 20:04:22.2429 UTC gradient_boosted_trees.cc:1822] \"selective_gradient_boosting_ratio\" set but \"sampling_method\" not equal to \"SELGB\".\n",
      "[INFO 23-07-12 20:04:23.5483 UTC kernel.cc:1242] Loading model from path /tmp/tmpsigxcm32/model/ with prefix e082f4030aec4044\n",
      "[INFO 23-07-12 20:04:23.5575 UTC kernel.cc:1074] Use fast generic engine\n"
     ]
    },
    {
     "name": "stdout",
     "output_type": "stream",
     "text": [
      "i:9\n"
     ]
    },
    {
     "name": "stderr",
     "output_type": "stream",
     "text": [
      "[WARNING 23-07-12 20:04:24.0328 UTC gradient_boosted_trees.cc:1797] \"goss_alpha\" set but \"sampling_method\" not equal to \"GOSS\".\n",
      "[WARNING 23-07-12 20:04:24.0329 UTC gradient_boosted_trees.cc:1808] \"goss_beta\" set but \"sampling_method\" not equal to \"GOSS\".\n",
      "[WARNING 23-07-12 20:04:24.0329 UTC gradient_boosted_trees.cc:1822] \"selective_gradient_boosting_ratio\" set but \"sampling_method\" not equal to \"SELGB\".\n",
      "[INFO 23-07-12 20:04:25.2154 UTC kernel.cc:1242] Loading model from path /tmp/tmp6uw4p512/model/ with prefix 64ea363632504d3e\n",
      "[INFO 23-07-12 20:04:25.2228 UTC kernel.cc:1074] Use fast generic engine\n"
     ]
    },
    {
     "name": "stdout",
     "output_type": "stream",
     "text": [
      "i:10\n"
     ]
    },
    {
     "name": "stderr",
     "output_type": "stream",
     "text": [
      "[WARNING 23-07-12 20:04:25.7523 UTC gradient_boosted_trees.cc:1797] \"goss_alpha\" set but \"sampling_method\" not equal to \"GOSS\".\n",
      "[WARNING 23-07-12 20:04:25.7523 UTC gradient_boosted_trees.cc:1808] \"goss_beta\" set but \"sampling_method\" not equal to \"GOSS\".\n",
      "[WARNING 23-07-12 20:04:25.7523 UTC gradient_boosted_trees.cc:1822] \"selective_gradient_boosting_ratio\" set but \"sampling_method\" not equal to \"SELGB\".\n",
      "[INFO 23-07-12 20:04:27.1689 UTC kernel.cc:1242] Loading model from path /tmp/tmpjge9qtco/model/ with prefix 02cf3c43ff894ad4\n",
      "[INFO 23-07-12 20:04:27.1795 UTC abstract_model.cc:1311] Engine \"GradientBoostedTreesQuickScorerExtended\" built\n",
      "[INFO 23-07-12 20:04:27.1795 UTC kernel.cc:1074] Use fast generic engine\n"
     ]
    },
    {
     "name": "stdout",
     "output_type": "stream",
     "text": [
      "i:11\n"
     ]
    },
    {
     "name": "stderr",
     "output_type": "stream",
     "text": [
      "[WARNING 23-07-12 20:04:27.6217 UTC gradient_boosted_trees.cc:1797] \"goss_alpha\" set but \"sampling_method\" not equal to \"GOSS\".\n",
      "[WARNING 23-07-12 20:04:27.6217 UTC gradient_boosted_trees.cc:1808] \"goss_beta\" set but \"sampling_method\" not equal to \"GOSS\".\n",
      "[WARNING 23-07-12 20:04:27.6217 UTC gradient_boosted_trees.cc:1822] \"selective_gradient_boosting_ratio\" set but \"sampling_method\" not equal to \"SELGB\".\n",
      "[INFO 23-07-12 20:04:28.8630 UTC kernel.cc:1242] Loading model from path /tmp/tmp33__pdi6/model/ with prefix 3f0cc2bbbc8249f2\n",
      "[INFO 23-07-12 20:04:28.8707 UTC kernel.cc:1074] Use fast generic engine\n"
     ]
    },
    {
     "name": "stdout",
     "output_type": "stream",
     "text": [
      "i:12\n"
     ]
    },
    {
     "name": "stderr",
     "output_type": "stream",
     "text": [
      "[WARNING 23-07-12 20:04:29.3409 UTC gradient_boosted_trees.cc:1797] \"goss_alpha\" set but \"sampling_method\" not equal to \"GOSS\".\n",
      "[WARNING 23-07-12 20:04:29.3410 UTC gradient_boosted_trees.cc:1808] \"goss_beta\" set but \"sampling_method\" not equal to \"GOSS\".\n",
      "[WARNING 23-07-12 20:04:29.3410 UTC gradient_boosted_trees.cc:1822] \"selective_gradient_boosting_ratio\" set but \"sampling_method\" not equal to \"SELGB\".\n",
      "[INFO 23-07-12 20:04:30.5591 UTC kernel.cc:1242] Loading model from path /tmp/tmp8ko7zamh/model/ with prefix b13d103899b14b6d\n",
      "[INFO 23-07-12 20:04:30.5669 UTC kernel.cc:1074] Use fast generic engine\n"
     ]
    },
    {
     "name": "stdout",
     "output_type": "stream",
     "text": [
      "i:13\n"
     ]
    },
    {
     "name": "stderr",
     "output_type": "stream",
     "text": [
      "[WARNING 23-07-12 20:04:31.0131 UTC gradient_boosted_trees.cc:1797] \"goss_alpha\" set but \"sampling_method\" not equal to \"GOSS\".\n",
      "[WARNING 23-07-12 20:04:31.0131 UTC gradient_boosted_trees.cc:1808] \"goss_beta\" set but \"sampling_method\" not equal to \"GOSS\".\n",
      "[WARNING 23-07-12 20:04:31.0131 UTC gradient_boosted_trees.cc:1822] \"selective_gradient_boosting_ratio\" set but \"sampling_method\" not equal to \"SELGB\".\n",
      "[INFO 23-07-12 20:04:32.4219 UTC kernel.cc:1242] Loading model from path /tmp/tmpay8v5otv/model/ with prefix 204d589c22084869\n",
      "[INFO 23-07-12 20:04:32.4324 UTC kernel.cc:1074] Use fast generic engine\n"
     ]
    },
    {
     "name": "stdout",
     "output_type": "stream",
     "text": [
      "i:14\n"
     ]
    },
    {
     "name": "stderr",
     "output_type": "stream",
     "text": [
      "[WARNING 23-07-12 20:04:32.8821 UTC gradient_boosted_trees.cc:1797] \"goss_alpha\" set but \"sampling_method\" not equal to \"GOSS\".\n",
      "[WARNING 23-07-12 20:04:32.8821 UTC gradient_boosted_trees.cc:1808] \"goss_beta\" set but \"sampling_method\" not equal to \"GOSS\".\n",
      "[WARNING 23-07-12 20:04:32.8821 UTC gradient_boosted_trees.cc:1822] \"selective_gradient_boosting_ratio\" set but \"sampling_method\" not equal to \"SELGB\".\n",
      "[INFO 23-07-12 20:04:33.9919 UTC kernel.cc:1242] Loading model from path /tmp/tmpn9699vu1/model/ with prefix 45303e77ec44410f\n",
      "[INFO 23-07-12 20:04:33.9975 UTC kernel.cc:1074] Use fast generic engine\n"
     ]
    },
    {
     "name": "stdout",
     "output_type": "stream",
     "text": [
      "i:15\n"
     ]
    },
    {
     "name": "stderr",
     "output_type": "stream",
     "text": [
      "[WARNING 23-07-12 20:04:34.4261 UTC gradient_boosted_trees.cc:1797] \"goss_alpha\" set but \"sampling_method\" not equal to \"GOSS\".\n",
      "[WARNING 23-07-12 20:04:34.4262 UTC gradient_boosted_trees.cc:1808] \"goss_beta\" set but \"sampling_method\" not equal to \"GOSS\".\n",
      "[WARNING 23-07-12 20:04:34.4262 UTC gradient_boosted_trees.cc:1822] \"selective_gradient_boosting_ratio\" set but \"sampling_method\" not equal to \"SELGB\".\n",
      "[INFO 23-07-12 20:04:35.4030 UTC kernel.cc:1242] Loading model from path /tmp/tmpzufulkuk/model/ with prefix 000de3e70f9d48fc\n",
      "[INFO 23-07-12 20:04:35.4068 UTC kernel.cc:1074] Use fast generic engine\n"
     ]
    },
    {
     "name": "stdout",
     "output_type": "stream",
     "text": [
      "i:16\n"
     ]
    },
    {
     "name": "stderr",
     "output_type": "stream",
     "text": [
      "[WARNING 23-07-12 20:04:35.9239 UTC gradient_boosted_trees.cc:1797] \"goss_alpha\" set but \"sampling_method\" not equal to \"GOSS\".\n",
      "[WARNING 23-07-12 20:04:35.9239 UTC gradient_boosted_trees.cc:1808] \"goss_beta\" set but \"sampling_method\" not equal to \"GOSS\".\n",
      "[WARNING 23-07-12 20:04:35.9240 UTC gradient_boosted_trees.cc:1822] \"selective_gradient_boosting_ratio\" set but \"sampling_method\" not equal to \"SELGB\".\n",
      "[INFO 23-07-12 20:04:37.2318 UTC kernel.cc:1242] Loading model from path /tmp/tmpik4smlzt/model/ with prefix d5e1d791b9ac45e9\n",
      "[INFO 23-07-12 20:04:37.2399 UTC abstract_model.cc:1311] Engine \"GradientBoostedTreesQuickScorerExtended\" built\n",
      "[INFO 23-07-12 20:04:37.2399 UTC kernel.cc:1074] Use fast generic engine\n"
     ]
    },
    {
     "name": "stdout",
     "output_type": "stream",
     "text": [
      "i:17\n"
     ]
    },
    {
     "name": "stderr",
     "output_type": "stream",
     "text": [
      "[WARNING 23-07-12 20:04:38.1734 UTC gradient_boosted_trees.cc:1797] \"goss_alpha\" set but \"sampling_method\" not equal to \"GOSS\".\n",
      "[WARNING 23-07-12 20:04:38.1735 UTC gradient_boosted_trees.cc:1808] \"goss_beta\" set but \"sampling_method\" not equal to \"GOSS\".\n",
      "[WARNING 23-07-12 20:04:38.1735 UTC gradient_boosted_trees.cc:1822] \"selective_gradient_boosting_ratio\" set but \"sampling_method\" not equal to \"SELGB\".\n",
      "[INFO 23-07-12 20:04:39.7029 UTC kernel.cc:1242] Loading model from path /tmp/tmpeosvz5qu/model/ with prefix 9ac54bbfc1b84133\n",
      "[INFO 23-07-12 20:04:39.7159 UTC kernel.cc:1074] Use fast generic engine\n"
     ]
    },
    {
     "name": "stdout",
     "output_type": "stream",
     "text": [
      "i:18\n"
     ]
    },
    {
     "name": "stderr",
     "output_type": "stream",
     "text": [
      "[WARNING 23-07-12 20:04:40.1976 UTC gradient_boosted_trees.cc:1797] \"goss_alpha\" set but \"sampling_method\" not equal to \"GOSS\".\n",
      "[WARNING 23-07-12 20:04:40.1976 UTC gradient_boosted_trees.cc:1808] \"goss_beta\" set but \"sampling_method\" not equal to \"GOSS\".\n",
      "[WARNING 23-07-12 20:04:40.1976 UTC gradient_boosted_trees.cc:1822] \"selective_gradient_boosting_ratio\" set but \"sampling_method\" not equal to \"SELGB\".\n",
      "[INFO 23-07-12 20:04:41.4775 UTC kernel.cc:1242] Loading model from path /tmp/tmpb4oycz6v/model/ with prefix 0bfaf69984ab4732\n",
      "[INFO 23-07-12 20:04:41.4861 UTC kernel.cc:1074] Use fast generic engine\n"
     ]
    },
    {
     "name": "stdout",
     "output_type": "stream",
     "text": [
      "i:19\n"
     ]
    },
    {
     "name": "stderr",
     "output_type": "stream",
     "text": [
      "[WARNING 23-07-12 20:04:41.9133 UTC gradient_boosted_trees.cc:1797] \"goss_alpha\" set but \"sampling_method\" not equal to \"GOSS\".\n",
      "[WARNING 23-07-12 20:04:41.9136 UTC gradient_boosted_trees.cc:1808] \"goss_beta\" set but \"sampling_method\" not equal to \"GOSS\".\n",
      "[WARNING 23-07-12 20:04:41.9137 UTC gradient_boosted_trees.cc:1822] \"selective_gradient_boosting_ratio\" set but \"sampling_method\" not equal to \"SELGB\".\n",
      "[INFO 23-07-12 20:04:43.0742 UTC kernel.cc:1242] Loading model from path /tmp/tmptglp2ivq/model/ with prefix e19d127b365f4744\n",
      "[INFO 23-07-12 20:04:43.0808 UTC kernel.cc:1074] Use fast generic engine\n"
     ]
    },
    {
     "name": "stdout",
     "output_type": "stream",
     "text": [
      "i:20\n"
     ]
    },
    {
     "name": "stderr",
     "output_type": "stream",
     "text": [
      "[WARNING 23-07-12 20:04:43.5282 UTC gradient_boosted_trees.cc:1797] \"goss_alpha\" set but \"sampling_method\" not equal to \"GOSS\".\n",
      "[WARNING 23-07-12 20:04:43.5282 UTC gradient_boosted_trees.cc:1808] \"goss_beta\" set but \"sampling_method\" not equal to \"GOSS\".\n",
      "[WARNING 23-07-12 20:04:43.5282 UTC gradient_boosted_trees.cc:1822] \"selective_gradient_boosting_ratio\" set but \"sampling_method\" not equal to \"SELGB\".\n",
      "[INFO 23-07-12 20:04:45.1454 UTC kernel.cc:1242] Loading model from path /tmp/tmpmsakcn1d/model/ with prefix aedd2e33a68c4ed6\n",
      "[INFO 23-07-12 20:04:45.1580 UTC kernel.cc:1074] Use fast generic engine\n"
     ]
    },
    {
     "name": "stdout",
     "output_type": "stream",
     "text": [
      "i:21\n"
     ]
    },
    {
     "name": "stderr",
     "output_type": "stream",
     "text": [
      "[WARNING 23-07-12 20:04:46.6501 UTC gradient_boosted_trees.cc:1797] \"goss_alpha\" set but \"sampling_method\" not equal to \"GOSS\".\n",
      "[WARNING 23-07-12 20:04:46.6501 UTC gradient_boosted_trees.cc:1808] \"goss_beta\" set but \"sampling_method\" not equal to \"GOSS\".\n",
      "[WARNING 23-07-12 20:04:46.6501 UTC gradient_boosted_trees.cc:1822] \"selective_gradient_boosting_ratio\" set but \"sampling_method\" not equal to \"SELGB\".\n",
      "[INFO 23-07-12 20:04:47.6433 UTC kernel.cc:1242] Loading model from path /tmp/tmp3mo0r7op/model/ with prefix 6ae5dfed159a4de4\n",
      "[INFO 23-07-12 20:04:47.6473 UTC abstract_model.cc:1311] Engine \"GradientBoostedTreesQuickScorerExtended\" built\n",
      "[INFO 23-07-12 20:04:47.6474 UTC kernel.cc:1074] Use fast generic engine\n"
     ]
    },
    {
     "name": "stdout",
     "output_type": "stream",
     "text": [
      "i:22\n"
     ]
    },
    {
     "name": "stderr",
     "output_type": "stream",
     "text": [
      "[WARNING 23-07-12 20:04:48.0843 UTC gradient_boosted_trees.cc:1797] \"goss_alpha\" set but \"sampling_method\" not equal to \"GOSS\".\n",
      "[WARNING 23-07-12 20:04:48.0843 UTC gradient_boosted_trees.cc:1808] \"goss_beta\" set but \"sampling_method\" not equal to \"GOSS\".\n",
      "[WARNING 23-07-12 20:04:48.0843 UTC gradient_boosted_trees.cc:1822] \"selective_gradient_boosting_ratio\" set but \"sampling_method\" not equal to \"SELGB\".\n",
      "[INFO 23-07-12 20:04:49.9224 UTC kernel.cc:1242] Loading model from path /tmp/tmpjgr_qbjm/model/ with prefix 81a3f02f69c348f6\n",
      "[INFO 23-07-12 20:04:49.9391 UTC kernel.cc:1074] Use fast generic engine\n"
     ]
    },
    {
     "name": "stdout",
     "output_type": "stream",
     "text": [
      "i:23\n"
     ]
    },
    {
     "name": "stderr",
     "output_type": "stream",
     "text": [
      "[WARNING 23-07-12 20:04:50.4181 UTC gradient_boosted_trees.cc:1797] \"goss_alpha\" set but \"sampling_method\" not equal to \"GOSS\".\n",
      "[WARNING 23-07-12 20:04:50.4182 UTC gradient_boosted_trees.cc:1808] \"goss_beta\" set but \"sampling_method\" not equal to \"GOSS\".\n",
      "[WARNING 23-07-12 20:04:50.4183 UTC gradient_boosted_trees.cc:1822] \"selective_gradient_boosting_ratio\" set but \"sampling_method\" not equal to \"SELGB\".\n",
      "[INFO 23-07-12 20:04:51.5798 UTC kernel.cc:1242] Loading model from path /tmp/tmp4dl2jdxw/model/ with prefix 6e654b614dfc4279\n",
      "[INFO 23-07-12 20:04:51.5867 UTC kernel.cc:1074] Use fast generic engine\n"
     ]
    },
    {
     "name": "stdout",
     "output_type": "stream",
     "text": [
      "i:24\n"
     ]
    },
    {
     "name": "stderr",
     "output_type": "stream",
     "text": [
      "[WARNING 23-07-12 20:04:52.0254 UTC gradient_boosted_trees.cc:1797] \"goss_alpha\" set but \"sampling_method\" not equal to \"GOSS\".\n",
      "[WARNING 23-07-12 20:04:52.0254 UTC gradient_boosted_trees.cc:1808] \"goss_beta\" set but \"sampling_method\" not equal to \"GOSS\".\n",
      "[WARNING 23-07-12 20:04:52.0254 UTC gradient_boosted_trees.cc:1822] \"selective_gradient_boosting_ratio\" set but \"sampling_method\" not equal to \"SELGB\".\n",
      "[INFO 23-07-12 20:04:53.4674 UTC kernel.cc:1242] Loading model from path /tmp/tmp0dz706we/model/ with prefix cffa3aedb70e4569\n",
      "[INFO 23-07-12 20:04:53.4779 UTC kernel.cc:1074] Use fast generic engine\n"
     ]
    },
    {
     "name": "stdout",
     "output_type": "stream",
     "text": [
      "i:25\n"
     ]
    },
    {
     "name": "stderr",
     "output_type": "stream",
     "text": [
      "[WARNING 23-07-12 20:04:53.9502 UTC gradient_boosted_trees.cc:1797] \"goss_alpha\" set but \"sampling_method\" not equal to \"GOSS\".\n",
      "[WARNING 23-07-12 20:04:53.9503 UTC gradient_boosted_trees.cc:1808] \"goss_beta\" set but \"sampling_method\" not equal to \"GOSS\".\n",
      "[WARNING 23-07-12 20:04:53.9503 UTC gradient_boosted_trees.cc:1822] \"selective_gradient_boosting_ratio\" set but \"sampling_method\" not equal to \"SELGB\".\n",
      "[INFO 23-07-12 20:04:55.3872 UTC kernel.cc:1242] Loading model from path /tmp/tmpkhpu13w0/model/ with prefix b279ccf5e47c4e6c\n",
      "[INFO 23-07-12 20:04:55.3983 UTC kernel.cc:1074] Use fast generic engine\n"
     ]
    },
    {
     "name": "stdout",
     "output_type": "stream",
     "text": [
      "i:26\n"
     ]
    },
    {
     "name": "stderr",
     "output_type": "stream",
     "text": [
      "[WARNING 23-07-12 20:04:55.8915 UTC gradient_boosted_trees.cc:1797] \"goss_alpha\" set but \"sampling_method\" not equal to \"GOSS\".\n",
      "[WARNING 23-07-12 20:04:55.8915 UTC gradient_boosted_trees.cc:1808] \"goss_beta\" set but \"sampling_method\" not equal to \"GOSS\".\n",
      "[WARNING 23-07-12 20:04:55.8916 UTC gradient_boosted_trees.cc:1822] \"selective_gradient_boosting_ratio\" set but \"sampling_method\" not equal to \"SELGB\".\n",
      "[INFO 23-07-12 20:04:56.9918 UTC kernel.cc:1242] Loading model from path /tmp/tmpye_vjl4n/model/ with prefix 4574d7d557c740aa\n",
      "[INFO 23-07-12 20:04:56.9975 UTC kernel.cc:1074] Use fast generic engine\n"
     ]
    },
    {
     "name": "stdout",
     "output_type": "stream",
     "text": [
      "i:27\n"
     ]
    },
    {
     "name": "stderr",
     "output_type": "stream",
     "text": [
      "[WARNING 23-07-12 20:04:57.4419 UTC gradient_boosted_trees.cc:1797] \"goss_alpha\" set but \"sampling_method\" not equal to \"GOSS\".\n",
      "[WARNING 23-07-12 20:04:57.4420 UTC gradient_boosted_trees.cc:1808] \"goss_beta\" set but \"sampling_method\" not equal to \"GOSS\".\n",
      "[WARNING 23-07-12 20:04:57.4420 UTC gradient_boosted_trees.cc:1822] \"selective_gradient_boosting_ratio\" set but \"sampling_method\" not equal to \"SELGB\".\n",
      "[INFO 23-07-12 20:04:59.2589 UTC kernel.cc:1242] Loading model from path /tmp/tmp_svogds7/model/ with prefix 90c894699ccc442c\n",
      "[INFO 23-07-12 20:04:59.2755 UTC abstract_model.cc:1311] Engine \"GradientBoostedTreesQuickScorerExtended\" built\n",
      "[INFO 23-07-12 20:04:59.2755 UTC kernel.cc:1074] Use fast generic engine\n"
     ]
    },
    {
     "name": "stdout",
     "output_type": "stream",
     "text": [
      "i:28\n"
     ]
    },
    {
     "name": "stderr",
     "output_type": "stream",
     "text": [
      "[WARNING 23-07-12 20:05:00.5676 UTC gradient_boosted_trees.cc:1797] \"goss_alpha\" set but \"sampling_method\" not equal to \"GOSS\".\n",
      "[WARNING 23-07-12 20:05:00.5676 UTC gradient_boosted_trees.cc:1808] \"goss_beta\" set but \"sampling_method\" not equal to \"GOSS\".\n",
      "[WARNING 23-07-12 20:05:00.5676 UTC gradient_boosted_trees.cc:1822] \"selective_gradient_boosting_ratio\" set but \"sampling_method\" not equal to \"SELGB\".\n",
      "[INFO 23-07-12 20:05:01.5478 UTC kernel.cc:1242] Loading model from path /tmp/tmpnguzo8se/model/ with prefix c12bca4412204dd4\n",
      "[INFO 23-07-12 20:05:01.5515 UTC kernel.cc:1074] Use fast generic engine\n"
     ]
    },
    {
     "name": "stdout",
     "output_type": "stream",
     "text": [
      "i:29\n"
     ]
    },
    {
     "name": "stderr",
     "output_type": "stream",
     "text": [
      "[WARNING 23-07-12 20:05:02.0239 UTC gradient_boosted_trees.cc:1797] \"goss_alpha\" set but \"sampling_method\" not equal to \"GOSS\".\n",
      "[WARNING 23-07-12 20:05:02.0240 UTC gradient_boosted_trees.cc:1808] \"goss_beta\" set but \"sampling_method\" not equal to \"GOSS\".\n",
      "[WARNING 23-07-12 20:05:02.0240 UTC gradient_boosted_trees.cc:1822] \"selective_gradient_boosting_ratio\" set but \"sampling_method\" not equal to \"SELGB\".\n",
      "[INFO 23-07-12 20:05:03.5090 UTC kernel.cc:1242] Loading model from path /tmp/tmp7vrae8ye/model/ with prefix a4c62cea187046b1\n",
      "[INFO 23-07-12 20:05:03.5197 UTC kernel.cc:1074] Use fast generic engine\n"
     ]
    },
    {
     "name": "stdout",
     "output_type": "stream",
     "text": [
      "i:30\n"
     ]
    },
    {
     "name": "stderr",
     "output_type": "stream",
     "text": [
      "[WARNING 23-07-12 20:05:03.9694 UTC gradient_boosted_trees.cc:1797] \"goss_alpha\" set but \"sampling_method\" not equal to \"GOSS\".\n",
      "[WARNING 23-07-12 20:05:03.9694 UTC gradient_boosted_trees.cc:1808] \"goss_beta\" set but \"sampling_method\" not equal to \"GOSS\".\n",
      "[WARNING 23-07-12 20:05:03.9695 UTC gradient_boosted_trees.cc:1822] \"selective_gradient_boosting_ratio\" set but \"sampling_method\" not equal to \"SELGB\".\n",
      "[INFO 23-07-12 20:05:05.7858 UTC kernel.cc:1242] Loading model from path /tmp/tmpso8u70yn/model/ with prefix 7c6c66d2b89a4792\n",
      "[INFO 23-07-12 20:05:05.8017 UTC kernel.cc:1074] Use fast generic engine\n"
     ]
    },
    {
     "name": "stdout",
     "output_type": "stream",
     "text": [
      "i:31\n"
     ]
    },
    {
     "name": "stderr",
     "output_type": "stream",
     "text": [
      "[WARNING 23-07-12 20:05:06.2566 UTC gradient_boosted_trees.cc:1797] \"goss_alpha\" set but \"sampling_method\" not equal to \"GOSS\".\n",
      "[WARNING 23-07-12 20:05:06.2566 UTC gradient_boosted_trees.cc:1808] \"goss_beta\" set but \"sampling_method\" not equal to \"GOSS\".\n",
      "[WARNING 23-07-12 20:05:06.2567 UTC gradient_boosted_trees.cc:1822] \"selective_gradient_boosting_ratio\" set but \"sampling_method\" not equal to \"SELGB\".\n",
      "[INFO 23-07-12 20:05:07.6062 UTC kernel.cc:1242] Loading model from path /tmp/tmpess3j_fo/model/ with prefix 9377c35dda30462c\n",
      "[INFO 23-07-12 20:05:07.6162 UTC kernel.cc:1074] Use fast generic engine\n"
     ]
    },
    {
     "name": "stdout",
     "output_type": "stream",
     "text": [
      "i:32\n"
     ]
    },
    {
     "name": "stderr",
     "output_type": "stream",
     "text": [
      "[WARNING 23-07-12 20:05:08.0610 UTC gradient_boosted_trees.cc:1797] \"goss_alpha\" set but \"sampling_method\" not equal to \"GOSS\".\n",
      "[WARNING 23-07-12 20:05:08.0610 UTC gradient_boosted_trees.cc:1808] \"goss_beta\" set but \"sampling_method\" not equal to \"GOSS\".\n",
      "[WARNING 23-07-12 20:05:08.0610 UTC gradient_boosted_trees.cc:1822] \"selective_gradient_boosting_ratio\" set but \"sampling_method\" not equal to \"SELGB\".\n",
      "[INFO 23-07-12 20:05:09.2445 UTC kernel.cc:1242] Loading model from path /tmp/tmpqsrddicd/model/ with prefix e475fb2eade049c7\n",
      "[INFO 23-07-12 20:05:09.2511 UTC kernel.cc:1074] Use fast generic engine\n"
     ]
    },
    {
     "name": "stdout",
     "output_type": "stream",
     "text": [
      "i:33\n"
     ]
    },
    {
     "name": "stderr",
     "output_type": "stream",
     "text": [
      "[WARNING 23-07-12 20:05:09.6944 UTC gradient_boosted_trees.cc:1797] \"goss_alpha\" set but \"sampling_method\" not equal to \"GOSS\".\n",
      "[WARNING 23-07-12 20:05:09.6944 UTC gradient_boosted_trees.cc:1808] \"goss_beta\" set but \"sampling_method\" not equal to \"GOSS\".\n",
      "[WARNING 23-07-12 20:05:09.6944 UTC gradient_boosted_trees.cc:1822] \"selective_gradient_boosting_ratio\" set but \"sampling_method\" not equal to \"SELGB\".\n",
      "[INFO 23-07-12 20:05:10.9184 UTC kernel.cc:1242] Loading model from path /tmp/tmp2zwckwi4/model/ with prefix d29f7ca57f414d23\n",
      "[INFO 23-07-12 20:05:10.9265 UTC abstract_model.cc:1311] Engine \"GradientBoostedTreesQuickScorerExtended\" built\n",
      "[INFO 23-07-12 20:05:10.9265 UTC kernel.cc:1074] Use fast generic engine\n"
     ]
    },
    {
     "name": "stdout",
     "output_type": "stream",
     "text": [
      "i:34\n"
     ]
    },
    {
     "name": "stderr",
     "output_type": "stream",
     "text": [
      "[WARNING 23-07-12 20:05:11.3667 UTC gradient_boosted_trees.cc:1797] \"goss_alpha\" set but \"sampling_method\" not equal to \"GOSS\".\n",
      "[WARNING 23-07-12 20:05:11.3668 UTC gradient_boosted_trees.cc:1808] \"goss_beta\" set but \"sampling_method\" not equal to \"GOSS\".\n",
      "[WARNING 23-07-12 20:05:11.3668 UTC gradient_boosted_trees.cc:1822] \"selective_gradient_boosting_ratio\" set but \"sampling_method\" not equal to \"SELGB\".\n",
      "[INFO 23-07-12 20:05:12.4199 UTC kernel.cc:1242] Loading model from path /tmp/tmp1yrmhv8g/model/ with prefix b1454722b56a43a2\n",
      "[INFO 23-07-12 20:05:12.4256 UTC kernel.cc:1074] Use fast generic engine\n"
     ]
    },
    {
     "name": "stdout",
     "output_type": "stream",
     "text": [
      "i:35\n"
     ]
    },
    {
     "name": "stderr",
     "output_type": "stream",
     "text": [
      "[WARNING 23-07-12 20:05:12.8725 UTC gradient_boosted_trees.cc:1797] \"goss_alpha\" set but \"sampling_method\" not equal to \"GOSS\".\n",
      "[WARNING 23-07-12 20:05:12.8725 UTC gradient_boosted_trees.cc:1808] \"goss_beta\" set but \"sampling_method\" not equal to \"GOSS\".\n",
      "[WARNING 23-07-12 20:05:12.8725 UTC gradient_boosted_trees.cc:1822] \"selective_gradient_boosting_ratio\" set but \"sampling_method\" not equal to \"SELGB\".\n",
      "[INFO 23-07-12 20:05:13.9079 UTC kernel.cc:1242] Loading model from path /tmp/tmp1290swzw/model/ with prefix a9e3c9623d7a43c3\n",
      "[INFO 23-07-12 20:05:13.9127 UTC kernel.cc:1074] Use fast generic engine\n"
     ]
    },
    {
     "name": "stdout",
     "output_type": "stream",
     "text": [
      "i:36\n"
     ]
    },
    {
     "name": "stderr",
     "output_type": "stream",
     "text": [
      "[WARNING 23-07-12 20:05:14.3860 UTC gradient_boosted_trees.cc:1797] \"goss_alpha\" set but \"sampling_method\" not equal to \"GOSS\".\n",
      "[WARNING 23-07-12 20:05:14.3860 UTC gradient_boosted_trees.cc:1808] \"goss_beta\" set but \"sampling_method\" not equal to \"GOSS\".\n",
      "[WARNING 23-07-12 20:05:14.3860 UTC gradient_boosted_trees.cc:1822] \"selective_gradient_boosting_ratio\" set but \"sampling_method\" not equal to \"SELGB\".\n",
      "[INFO 23-07-12 20:05:15.8966 UTC kernel.cc:1242] Loading model from path /tmp/tmpdwijo7zw/model/ with prefix 27d3e42c253f464c\n",
      "[INFO 23-07-12 20:05:15.9081 UTC kernel.cc:1074] Use fast generic engine\n"
     ]
    },
    {
     "name": "stdout",
     "output_type": "stream",
     "text": [
      "i:37\n"
     ]
    },
    {
     "name": "stderr",
     "output_type": "stream",
     "text": [
      "[WARNING 23-07-12 20:05:16.3818 UTC gradient_boosted_trees.cc:1797] \"goss_alpha\" set but \"sampling_method\" not equal to \"GOSS\".\n",
      "[WARNING 23-07-12 20:05:16.3818 UTC gradient_boosted_trees.cc:1808] \"goss_beta\" set but \"sampling_method\" not equal to \"GOSS\".\n",
      "[WARNING 23-07-12 20:05:16.3818 UTC gradient_boosted_trees.cc:1822] \"selective_gradient_boosting_ratio\" set but \"sampling_method\" not equal to \"SELGB\".\n",
      "[INFO 23-07-12 20:05:17.4237 UTC kernel.cc:1242] Loading model from path /tmp/tmp8rxa47zp/model/ with prefix c12c8072aac94185\n",
      "[INFO 23-07-12 20:05:17.4287 UTC kernel.cc:1074] Use fast generic engine\n"
     ]
    },
    {
     "name": "stdout",
     "output_type": "stream",
     "text": [
      "i:38\n"
     ]
    },
    {
     "name": "stderr",
     "output_type": "stream",
     "text": [
      "[WARNING 23-07-12 20:05:17.9060 UTC gradient_boosted_trees.cc:1797] \"goss_alpha\" set but \"sampling_method\" not equal to \"GOSS\".\n",
      "[WARNING 23-07-12 20:05:17.9061 UTC gradient_boosted_trees.cc:1808] \"goss_beta\" set but \"sampling_method\" not equal to \"GOSS\".\n",
      "[WARNING 23-07-12 20:05:17.9061 UTC gradient_boosted_trees.cc:1822] \"selective_gradient_boosting_ratio\" set but \"sampling_method\" not equal to \"SELGB\".\n",
      "[INFO 23-07-12 20:05:19.4349 UTC kernel.cc:1242] Loading model from path /tmp/tmpi05ydbrn/model/ with prefix 810f0b4e8a1c44bb\n",
      "[INFO 23-07-12 20:05:19.4469 UTC kernel.cc:1074] Use fast generic engine\n"
     ]
    },
    {
     "name": "stdout",
     "output_type": "stream",
     "text": [
      "i:39\n"
     ]
    },
    {
     "name": "stderr",
     "output_type": "stream",
     "text": [
      "[WARNING 23-07-12 20:05:19.9156 UTC gradient_boosted_trees.cc:1797] \"goss_alpha\" set but \"sampling_method\" not equal to \"GOSS\".\n",
      "[WARNING 23-07-12 20:05:19.9157 UTC gradient_boosted_trees.cc:1808] \"goss_beta\" set but \"sampling_method\" not equal to \"GOSS\".\n",
      "[WARNING 23-07-12 20:05:19.9157 UTC gradient_boosted_trees.cc:1822] \"selective_gradient_boosting_ratio\" set but \"sampling_method\" not equal to \"SELGB\".\n",
      "[INFO 23-07-12 20:05:22.0676 UTC kernel.cc:1242] Loading model from path /tmp/tmp4txbvb3y/model/ with prefix 1c4b977ab141436b\n",
      "[INFO 23-07-12 20:05:22.0885 UTC abstract_model.cc:1311] Engine \"GradientBoostedTreesQuickScorerExtended\" built\n",
      "[INFO 23-07-12 20:05:22.0886 UTC kernel.cc:1074] Use fast generic engine\n"
     ]
    },
    {
     "name": "stdout",
     "output_type": "stream",
     "text": [
      "i:40\n"
     ]
    },
    {
     "name": "stderr",
     "output_type": "stream",
     "text": [
      "[WARNING 23-07-12 20:05:22.5537 UTC gradient_boosted_trees.cc:1797] \"goss_alpha\" set but \"sampling_method\" not equal to \"GOSS\".\n",
      "[WARNING 23-07-12 20:05:22.5537 UTC gradient_boosted_trees.cc:1808] \"goss_beta\" set but \"sampling_method\" not equal to \"GOSS\".\n",
      "[WARNING 23-07-12 20:05:22.5537 UTC gradient_boosted_trees.cc:1822] \"selective_gradient_boosting_ratio\" set but \"sampling_method\" not equal to \"SELGB\".\n",
      "[INFO 23-07-12 20:05:23.7873 UTC kernel.cc:1242] Loading model from path /tmp/tmpfve33s1t/model/ with prefix 2d870ba43bcf4bb2\n",
      "[INFO 23-07-12 20:05:23.7951 UTC kernel.cc:1074] Use fast generic engine\n"
     ]
    },
    {
     "name": "stdout",
     "output_type": "stream",
     "text": [
      "i:41\n"
     ]
    },
    {
     "name": "stderr",
     "output_type": "stream",
     "text": [
      "[WARNING 23-07-12 20:05:24.2436 UTC gradient_boosted_trees.cc:1797] \"goss_alpha\" set but \"sampling_method\" not equal to \"GOSS\".\n",
      "[WARNING 23-07-12 20:05:24.2436 UTC gradient_boosted_trees.cc:1808] \"goss_beta\" set but \"sampling_method\" not equal to \"GOSS\".\n",
      "[WARNING 23-07-12 20:05:24.2436 UTC gradient_boosted_trees.cc:1822] \"selective_gradient_boosting_ratio\" set but \"sampling_method\" not equal to \"SELGB\".\n",
      "[INFO 23-07-12 20:05:25.5026 UTC kernel.cc:1242] Loading model from path /tmp/tmp33pvb4yt/model/ with prefix 4f4c0aa9e75944a8\n",
      "[INFO 23-07-12 20:05:25.5104 UTC kernel.cc:1074] Use fast generic engine\n"
     ]
    },
    {
     "name": "stdout",
     "output_type": "stream",
     "text": [
      "i:42\n"
     ]
    },
    {
     "name": "stderr",
     "output_type": "stream",
     "text": [
      "[WARNING 23-07-12 20:05:26.0021 UTC gradient_boosted_trees.cc:1797] \"goss_alpha\" set but \"sampling_method\" not equal to \"GOSS\".\n",
      "[WARNING 23-07-12 20:05:26.0021 UTC gradient_boosted_trees.cc:1808] \"goss_beta\" set but \"sampling_method\" not equal to \"GOSS\".\n",
      "[WARNING 23-07-12 20:05:26.0021 UTC gradient_boosted_trees.cc:1822] \"selective_gradient_boosting_ratio\" set but \"sampling_method\" not equal to \"SELGB\".\n",
      "[INFO 23-07-12 20:05:27.3364 UTC kernel.cc:1242] Loading model from path /tmp/tmpii9tzclr/model/ with prefix 386f3fd31c9a40ce\n",
      "[INFO 23-07-12 20:05:27.3460 UTC kernel.cc:1074] Use fast generic engine\n"
     ]
    },
    {
     "name": "stdout",
     "output_type": "stream",
     "text": [
      "i:43\n"
     ]
    },
    {
     "name": "stderr",
     "output_type": "stream",
     "text": [
      "[WARNING 23-07-12 20:05:27.8125 UTC gradient_boosted_trees.cc:1797] \"goss_alpha\" set but \"sampling_method\" not equal to \"GOSS\".\n",
      "[WARNING 23-07-12 20:05:27.8126 UTC gradient_boosted_trees.cc:1808] \"goss_beta\" set but \"sampling_method\" not equal to \"GOSS\".\n",
      "[WARNING 23-07-12 20:05:27.8126 UTC gradient_boosted_trees.cc:1822] \"selective_gradient_boosting_ratio\" set but \"sampling_method\" not equal to \"SELGB\".\n",
      "[INFO 23-07-12 20:05:29.8040 UTC kernel.cc:1242] Loading model from path /tmp/tmpvpklg0qw/model/ with prefix 160a616b5ca44dff\n",
      "[INFO 23-07-12 20:05:29.8158 UTC kernel.cc:1074] Use fast generic engine\n"
     ]
    },
    {
     "name": "stdout",
     "output_type": "stream",
     "text": [
      "i:44\n"
     ]
    },
    {
     "name": "stderr",
     "output_type": "stream",
     "text": [
      "[WARNING 23-07-12 20:05:30.2707 UTC gradient_boosted_trees.cc:1797] \"goss_alpha\" set but \"sampling_method\" not equal to \"GOSS\".\n",
      "[WARNING 23-07-12 20:05:30.2708 UTC gradient_boosted_trees.cc:1808] \"goss_beta\" set but \"sampling_method\" not equal to \"GOSS\".\n",
      "[WARNING 23-07-12 20:05:30.2708 UTC gradient_boosted_trees.cc:1822] \"selective_gradient_boosting_ratio\" set but \"sampling_method\" not equal to \"SELGB\".\n",
      "[INFO 23-07-12 20:05:31.2593 UTC kernel.cc:1242] Loading model from path /tmp/tmp6599kaqx/model/ with prefix d19b8d3a2dfb40f9\n",
      "[INFO 23-07-12 20:05:31.2633 UTC kernel.cc:1074] Use fast generic engine\n"
     ]
    },
    {
     "name": "stdout",
     "output_type": "stream",
     "text": [
      "i:45\n"
     ]
    },
    {
     "name": "stderr",
     "output_type": "stream",
     "text": [
      "[WARNING 23-07-12 20:05:31.6966 UTC gradient_boosted_trees.cc:1797] \"goss_alpha\" set but \"sampling_method\" not equal to \"GOSS\".\n",
      "[WARNING 23-07-12 20:05:31.6966 UTC gradient_boosted_trees.cc:1808] \"goss_beta\" set but \"sampling_method\" not equal to \"GOSS\".\n",
      "[WARNING 23-07-12 20:05:31.6966 UTC gradient_boosted_trees.cc:1822] \"selective_gradient_boosting_ratio\" set but \"sampling_method\" not equal to \"SELGB\".\n",
      "[INFO 23-07-12 20:05:32.7340 UTC kernel.cc:1242] Loading model from path /tmp/tmp11pptbry/model/ with prefix 132a7e0ba8864254\n",
      "[INFO 23-07-12 20:05:32.7396 UTC abstract_model.cc:1311] Engine \"GradientBoostedTreesQuickScorerExtended\" built\n",
      "[INFO 23-07-12 20:05:32.7396 UTC kernel.cc:1074] Use fast generic engine\n"
     ]
    },
    {
     "name": "stdout",
     "output_type": "stream",
     "text": [
      "i:46\n"
     ]
    },
    {
     "name": "stderr",
     "output_type": "stream",
     "text": [
      "[WARNING 23-07-12 20:05:33.1720 UTC gradient_boosted_trees.cc:1797] \"goss_alpha\" set but \"sampling_method\" not equal to \"GOSS\".\n",
      "[WARNING 23-07-12 20:05:33.1721 UTC gradient_boosted_trees.cc:1808] \"goss_beta\" set but \"sampling_method\" not equal to \"GOSS\".\n",
      "[WARNING 23-07-12 20:05:33.1721 UTC gradient_boosted_trees.cc:1822] \"selective_gradient_boosting_ratio\" set but \"sampling_method\" not equal to \"SELGB\".\n",
      "[INFO 23-07-12 20:05:35.1417 UTC kernel.cc:1242] Loading model from path /tmp/tmp9jmr1qa6/model/ with prefix 84be8319ba7a4f13\n",
      "[INFO 23-07-12 20:05:35.1606 UTC kernel.cc:1074] Use fast generic engine\n"
     ]
    },
    {
     "name": "stdout",
     "output_type": "stream",
     "text": [
      "i:47\n"
     ]
    },
    {
     "name": "stderr",
     "output_type": "stream",
     "text": [
      "[WARNING 23-07-12 20:05:35.7187 UTC gradient_boosted_trees.cc:1797] \"goss_alpha\" set but \"sampling_method\" not equal to \"GOSS\".\n",
      "[WARNING 23-07-12 20:05:35.7187 UTC gradient_boosted_trees.cc:1808] \"goss_beta\" set but \"sampling_method\" not equal to \"GOSS\".\n",
      "[WARNING 23-07-12 20:05:35.7187 UTC gradient_boosted_trees.cc:1822] \"selective_gradient_boosting_ratio\" set but \"sampling_method\" not equal to \"SELGB\".\n",
      "[INFO 23-07-12 20:05:36.9483 UTC kernel.cc:1242] Loading model from path /tmp/tmpq6cc_6dv/model/ with prefix 70e603d9e7e64348\n",
      "[INFO 23-07-12 20:05:36.9577 UTC kernel.cc:1074] Use fast generic engine\n"
     ]
    },
    {
     "name": "stdout",
     "output_type": "stream",
     "text": [
      "i:48\n"
     ]
    },
    {
     "name": "stderr",
     "output_type": "stream",
     "text": [
      "[WARNING 23-07-12 20:05:37.4491 UTC gradient_boosted_trees.cc:1797] \"goss_alpha\" set but \"sampling_method\" not equal to \"GOSS\".\n",
      "[WARNING 23-07-12 20:05:37.4491 UTC gradient_boosted_trees.cc:1808] \"goss_beta\" set but \"sampling_method\" not equal to \"GOSS\".\n",
      "[WARNING 23-07-12 20:05:37.4492 UTC gradient_boosted_trees.cc:1822] \"selective_gradient_boosting_ratio\" set but \"sampling_method\" not equal to \"SELGB\".\n",
      "[INFO 23-07-12 20:05:38.5419 UTC kernel.cc:1242] Loading model from path /tmp/tmp5eud_ifm/model/ with prefix ec931abeb50a463f\n",
      "[INFO 23-07-12 20:05:38.5478 UTC kernel.cc:1074] Use fast generic engine\n"
     ]
    },
    {
     "name": "stdout",
     "output_type": "stream",
     "text": [
      "i:49\n"
     ]
    },
    {
     "name": "stderr",
     "output_type": "stream",
     "text": [
      "[WARNING 23-07-12 20:05:39.0196 UTC gradient_boosted_trees.cc:1797] \"goss_alpha\" set but \"sampling_method\" not equal to \"GOSS\".\n",
      "[WARNING 23-07-12 20:05:39.0196 UTC gradient_boosted_trees.cc:1808] \"goss_beta\" set but \"sampling_method\" not equal to \"GOSS\".\n",
      "[WARNING 23-07-12 20:05:39.0196 UTC gradient_boosted_trees.cc:1822] \"selective_gradient_boosting_ratio\" set but \"sampling_method\" not equal to \"SELGB\".\n",
      "[INFO 23-07-12 20:05:40.0733 UTC kernel.cc:1242] Loading model from path /tmp/tmpgd1xvuug/model/ with prefix 4799c4ee83c54dd1\n",
      "[INFO 23-07-12 20:05:40.0790 UTC kernel.cc:1074] Use fast generic engine\n"
     ]
    },
    {
     "name": "stdout",
     "output_type": "stream",
     "text": [
      "i:50\n"
     ]
    },
    {
     "name": "stderr",
     "output_type": "stream",
     "text": [
      "[WARNING 23-07-12 20:05:40.5236 UTC gradient_boosted_trees.cc:1797] \"goss_alpha\" set but \"sampling_method\" not equal to \"GOSS\".\n",
      "[WARNING 23-07-12 20:05:40.5236 UTC gradient_boosted_trees.cc:1808] \"goss_beta\" set but \"sampling_method\" not equal to \"GOSS\".\n",
      "[WARNING 23-07-12 20:05:40.5236 UTC gradient_boosted_trees.cc:1822] \"selective_gradient_boosting_ratio\" set but \"sampling_method\" not equal to \"SELGB\".\n",
      "[INFO 23-07-12 20:05:41.8997 UTC kernel.cc:1242] Loading model from path /tmp/tmp9h77hz84/model/ with prefix 1b88dceed53f4851\n",
      "[INFO 23-07-12 20:05:41.9099 UTC kernel.cc:1074] Use fast generic engine\n"
     ]
    },
    {
     "name": "stdout",
     "output_type": "stream",
     "text": [
      "i:51\n"
     ]
    },
    {
     "name": "stderr",
     "output_type": "stream",
     "text": [
      "[WARNING 23-07-12 20:05:42.3776 UTC gradient_boosted_trees.cc:1797] \"goss_alpha\" set but \"sampling_method\" not equal to \"GOSS\".\n",
      "[WARNING 23-07-12 20:05:42.3776 UTC gradient_boosted_trees.cc:1808] \"goss_beta\" set but \"sampling_method\" not equal to \"GOSS\".\n",
      "[WARNING 23-07-12 20:05:42.3776 UTC gradient_boosted_trees.cc:1822] \"selective_gradient_boosting_ratio\" set but \"sampling_method\" not equal to \"SELGB\".\n",
      "[INFO 23-07-12 20:05:43.8464 UTC kernel.cc:1242] Loading model from path /tmp/tmp6t__nelp/model/ with prefix 15ffc0f35b3944a0\n",
      "[INFO 23-07-12 20:05:43.8580 UTC abstract_model.cc:1311] Engine \"GradientBoostedTreesQuickScorerExtended\" built\n",
      "[INFO 23-07-12 20:05:43.8580 UTC kernel.cc:1074] Use fast generic engine\n"
     ]
    },
    {
     "name": "stdout",
     "output_type": "stream",
     "text": [
      "i:52\n"
     ]
    },
    {
     "name": "stderr",
     "output_type": "stream",
     "text": [
      "[WARNING 23-07-12 20:05:44.2828 UTC gradient_boosted_trees.cc:1797] \"goss_alpha\" set but \"sampling_method\" not equal to \"GOSS\".\n",
      "[WARNING 23-07-12 20:05:44.2829 UTC gradient_boosted_trees.cc:1808] \"goss_beta\" set but \"sampling_method\" not equal to \"GOSS\".\n",
      "[WARNING 23-07-12 20:05:44.2829 UTC gradient_boosted_trees.cc:1822] \"selective_gradient_boosting_ratio\" set but \"sampling_method\" not equal to \"SELGB\".\n",
      "[INFO 23-07-12 20:05:45.4739 UTC kernel.cc:1242] Loading model from path /tmp/tmpivli37n0/model/ with prefix f9d3787562914df3\n",
      "[INFO 23-07-12 20:05:45.4810 UTC kernel.cc:1074] Use fast generic engine\n"
     ]
    },
    {
     "name": "stdout",
     "output_type": "stream",
     "text": [
      "i:53\n"
     ]
    },
    {
     "name": "stderr",
     "output_type": "stream",
     "text": [
      "[WARNING 23-07-12 20:05:45.9694 UTC gradient_boosted_trees.cc:1797] \"goss_alpha\" set but \"sampling_method\" not equal to \"GOSS\".\n",
      "[WARNING 23-07-12 20:05:45.9694 UTC gradient_boosted_trees.cc:1808] \"goss_beta\" set but \"sampling_method\" not equal to \"GOSS\".\n",
      "[WARNING 23-07-12 20:05:45.9694 UTC gradient_boosted_trees.cc:1822] \"selective_gradient_boosting_ratio\" set but \"sampling_method\" not equal to \"SELGB\".\n",
      "[INFO 23-07-12 20:05:47.3378 UTC kernel.cc:1242] Loading model from path /tmp/tmp059pf8n1/model/ with prefix 68d21e7742224182\n",
      "[INFO 23-07-12 20:05:47.3484 UTC kernel.cc:1074] Use fast generic engine\n"
     ]
    },
    {
     "name": "stdout",
     "output_type": "stream",
     "text": [
      "i:54\n"
     ]
    },
    {
     "name": "stderr",
     "output_type": "stream",
     "text": [
      "[WARNING 23-07-12 20:05:47.7987 UTC gradient_boosted_trees.cc:1797] \"goss_alpha\" set but \"sampling_method\" not equal to \"GOSS\".\n",
      "[WARNING 23-07-12 20:05:47.7987 UTC gradient_boosted_trees.cc:1808] \"goss_beta\" set but \"sampling_method\" not equal to \"GOSS\".\n",
      "[WARNING 23-07-12 20:05:47.7987 UTC gradient_boosted_trees.cc:1822] \"selective_gradient_boosting_ratio\" set but \"sampling_method\" not equal to \"SELGB\".\n",
      "[INFO 23-07-12 20:05:48.8919 UTC kernel.cc:1242] Loading model from path /tmp/tmpo12y3fw0/model/ with prefix d98e0d3cb7844b2c\n",
      "[INFO 23-07-12 20:05:48.8976 UTC kernel.cc:1074] Use fast generic engine\n"
     ]
    },
    {
     "name": "stdout",
     "output_type": "stream",
     "text": [
      "i:55\n"
     ]
    },
    {
     "name": "stderr",
     "output_type": "stream",
     "text": [
      "[WARNING 23-07-12 20:05:49.3391 UTC gradient_boosted_trees.cc:1797] \"goss_alpha\" set but \"sampling_method\" not equal to \"GOSS\".\n",
      "[WARNING 23-07-12 20:05:49.3392 UTC gradient_boosted_trees.cc:1808] \"goss_beta\" set but \"sampling_method\" not equal to \"GOSS\".\n",
      "[WARNING 23-07-12 20:05:49.3392 UTC gradient_boosted_trees.cc:1822] \"selective_gradient_boosting_ratio\" set but \"sampling_method\" not equal to \"SELGB\".\n",
      "[INFO 23-07-12 20:05:51.4223 UTC kernel.cc:1242] Loading model from path /tmp/tmp9y87s9km/model/ with prefix 1530730803584e52\n",
      "[INFO 23-07-12 20:05:51.4438 UTC kernel.cc:1074] Use fast generic engine\n"
     ]
    },
    {
     "name": "stdout",
     "output_type": "stream",
     "text": [
      "i:56\n"
     ]
    },
    {
     "name": "stderr",
     "output_type": "stream",
     "text": [
      "[WARNING 23-07-12 20:05:51.9315 UTC gradient_boosted_trees.cc:1797] \"goss_alpha\" set but \"sampling_method\" not equal to \"GOSS\".\n",
      "[WARNING 23-07-12 20:05:51.9315 UTC gradient_boosted_trees.cc:1808] \"goss_beta\" set but \"sampling_method\" not equal to \"GOSS\".\n",
      "[WARNING 23-07-12 20:05:51.9315 UTC gradient_boosted_trees.cc:1822] \"selective_gradient_boosting_ratio\" set but \"sampling_method\" not equal to \"SELGB\".\n",
      "[INFO 23-07-12 20:05:53.1041 UTC kernel.cc:1242] Loading model from path /tmp/tmpac3km13r/model/ with prefix 01df2e0324b14317\n",
      "[INFO 23-07-12 20:05:53.1112 UTC kernel.cc:1074] Use fast generic engine\n"
     ]
    },
    {
     "name": "stdout",
     "output_type": "stream",
     "text": [
      "i:57\n"
     ]
    },
    {
     "name": "stderr",
     "output_type": "stream",
     "text": [
      "[WARNING 23-07-12 20:05:53.5569 UTC gradient_boosted_trees.cc:1797] \"goss_alpha\" set but \"sampling_method\" not equal to \"GOSS\".\n",
      "[WARNING 23-07-12 20:05:53.5569 UTC gradient_boosted_trees.cc:1808] \"goss_beta\" set but \"sampling_method\" not equal to \"GOSS\".\n",
      "[WARNING 23-07-12 20:05:53.5570 UTC gradient_boosted_trees.cc:1822] \"selective_gradient_boosting_ratio\" set but \"sampling_method\" not equal to \"SELGB\".\n",
      "[INFO 23-07-12 20:05:54.5416 UTC kernel.cc:1242] Loading model from path /tmp/tmptfmbaim5/model/ with prefix db919c67ac514522\n",
      "[INFO 23-07-12 20:05:54.5455 UTC abstract_model.cc:1311] Engine \"GradientBoostedTreesQuickScorerExtended\" built\n",
      "[INFO 23-07-12 20:05:54.5455 UTC kernel.cc:1074] Use fast generic engine\n"
     ]
    },
    {
     "name": "stdout",
     "output_type": "stream",
     "text": [
      "i:58\n"
     ]
    },
    {
     "name": "stderr",
     "output_type": "stream",
     "text": [
      "[WARNING 23-07-12 20:05:54.9981 UTC gradient_boosted_trees.cc:1797] \"goss_alpha\" set but \"sampling_method\" not equal to \"GOSS\".\n",
      "[WARNING 23-07-12 20:05:54.9981 UTC gradient_boosted_trees.cc:1808] \"goss_beta\" set but \"sampling_method\" not equal to \"GOSS\".\n",
      "[WARNING 23-07-12 20:05:54.9982 UTC gradient_boosted_trees.cc:1822] \"selective_gradient_boosting_ratio\" set but \"sampling_method\" not equal to \"SELGB\".\n",
      "[INFO 23-07-12 20:05:56.1335 UTC kernel.cc:1242] Loading model from path /tmp/tmpylz9rq0z/model/ with prefix 4e255eb0199a4465\n",
      "[INFO 23-07-12 20:05:56.1397 UTC kernel.cc:1074] Use fast generic engine\n"
     ]
    },
    {
     "name": "stdout",
     "output_type": "stream",
     "text": [
      "i:59\n"
     ]
    },
    {
     "name": "stderr",
     "output_type": "stream",
     "text": [
      "[WARNING 23-07-12 20:05:56.5966 UTC gradient_boosted_trees.cc:1797] \"goss_alpha\" set but \"sampling_method\" not equal to \"GOSS\".\n",
      "[WARNING 23-07-12 20:05:56.5967 UTC gradient_boosted_trees.cc:1808] \"goss_beta\" set but \"sampling_method\" not equal to \"GOSS\".\n",
      "[WARNING 23-07-12 20:05:56.5967 UTC gradient_boosted_trees.cc:1822] \"selective_gradient_boosting_ratio\" set but \"sampling_method\" not equal to \"SELGB\".\n",
      "[INFO 23-07-12 20:05:58.0780 UTC kernel.cc:1242] Loading model from path /tmp/tmpsaqjjnqy/model/ with prefix e396f9acf720465e\n",
      "[INFO 23-07-12 20:05:58.0896 UTC kernel.cc:1074] Use fast generic engine\n"
     ]
    },
    {
     "name": "stdout",
     "output_type": "stream",
     "text": [
      "i:60\n"
     ]
    },
    {
     "name": "stderr",
     "output_type": "stream",
     "text": [
      "[WARNING 23-07-12 20:05:58.5354 UTC gradient_boosted_trees.cc:1797] \"goss_alpha\" set but \"sampling_method\" not equal to \"GOSS\".\n",
      "[WARNING 23-07-12 20:05:58.5355 UTC gradient_boosted_trees.cc:1808] \"goss_beta\" set but \"sampling_method\" not equal to \"GOSS\".\n",
      "[WARNING 23-07-12 20:05:58.5355 UTC gradient_boosted_trees.cc:1822] \"selective_gradient_boosting_ratio\" set but \"sampling_method\" not equal to \"SELGB\".\n",
      "[INFO 23-07-12 20:05:59.5564 UTC kernel.cc:1242] Loading model from path /tmp/tmphrawj_le/model/ with prefix 9c80c29601dd4149\n",
      "[INFO 23-07-12 20:05:59.5609 UTC kernel.cc:1074] Use fast generic engine\n"
     ]
    },
    {
     "name": "stdout",
     "output_type": "stream",
     "text": [
      "i:61\n"
     ]
    },
    {
     "name": "stderr",
     "output_type": "stream",
     "text": [
      "[WARNING 23-07-12 20:06:00.0046 UTC gradient_boosted_trees.cc:1797] \"goss_alpha\" set but \"sampling_method\" not equal to \"GOSS\".\n",
      "[WARNING 23-07-12 20:06:00.0046 UTC gradient_boosted_trees.cc:1808] \"goss_beta\" set but \"sampling_method\" not equal to \"GOSS\".\n",
      "[WARNING 23-07-12 20:06:00.0046 UTC gradient_boosted_trees.cc:1822] \"selective_gradient_boosting_ratio\" set but \"sampling_method\" not equal to \"SELGB\".\n",
      "[INFO 23-07-12 20:06:01.2527 UTC kernel.cc:1242] Loading model from path /tmp/tmp706_58vw/model/ with prefix 2090cab54421428e\n",
      "[INFO 23-07-12 20:06:01.2606 UTC kernel.cc:1074] Use fast generic engine\n"
     ]
    },
    {
     "name": "stdout",
     "output_type": "stream",
     "text": [
      "i:62\n"
     ]
    },
    {
     "name": "stderr",
     "output_type": "stream",
     "text": [
      "[WARNING 23-07-12 20:06:01.7047 UTC gradient_boosted_trees.cc:1797] \"goss_alpha\" set but \"sampling_method\" not equal to \"GOSS\".\n",
      "[WARNING 23-07-12 20:06:01.7047 UTC gradient_boosted_trees.cc:1808] \"goss_beta\" set but \"sampling_method\" not equal to \"GOSS\".\n",
      "[WARNING 23-07-12 20:06:01.7048 UTC gradient_boosted_trees.cc:1822] \"selective_gradient_boosting_ratio\" set but \"sampling_method\" not equal to \"SELGB\".\n",
      "[INFO 23-07-12 20:06:03.4553 UTC kernel.cc:1242] Loading model from path /tmp/tmp2t7j08lq/model/ with prefix 486f068b4a7f4179\n",
      "[INFO 23-07-12 20:06:03.4703 UTC kernel.cc:1074] Use fast generic engine\n"
     ]
    },
    {
     "name": "stdout",
     "output_type": "stream",
     "text": [
      "i:63\n"
     ]
    },
    {
     "name": "stderr",
     "output_type": "stream",
     "text": [
      "[WARNING 23-07-12 20:06:04.8657 UTC gradient_boosted_trees.cc:1797] \"goss_alpha\" set but \"sampling_method\" not equal to \"GOSS\".\n",
      "[WARNING 23-07-12 20:06:04.8657 UTC gradient_boosted_trees.cc:1808] \"goss_beta\" set but \"sampling_method\" not equal to \"GOSS\".\n",
      "[WARNING 23-07-12 20:06:04.8657 UTC gradient_boosted_trees.cc:1822] \"selective_gradient_boosting_ratio\" set but \"sampling_method\" not equal to \"SELGB\".\n",
      "[INFO 23-07-12 20:06:06.3087 UTC kernel.cc:1242] Loading model from path /tmp/tmpl37n5oej/model/ with prefix ffd6f48e389647c1\n",
      "[INFO 23-07-12 20:06:06.3187 UTC abstract_model.cc:1311] Engine \"GradientBoostedTreesQuickScorerExtended\" built\n",
      "[INFO 23-07-12 20:06:06.3187 UTC kernel.cc:1074] Use fast generic engine\n"
     ]
    },
    {
     "name": "stdout",
     "output_type": "stream",
     "text": [
      "i:64\n"
     ]
    },
    {
     "name": "stderr",
     "output_type": "stream",
     "text": [
      "[WARNING 23-07-12 20:06:06.7899 UTC gradient_boosted_trees.cc:1797] \"goss_alpha\" set but \"sampling_method\" not equal to \"GOSS\".\n",
      "[WARNING 23-07-12 20:06:06.7899 UTC gradient_boosted_trees.cc:1808] \"goss_beta\" set but \"sampling_method\" not equal to \"GOSS\".\n",
      "[WARNING 23-07-12 20:06:06.7899 UTC gradient_boosted_trees.cc:1822] \"selective_gradient_boosting_ratio\" set but \"sampling_method\" not equal to \"SELGB\".\n",
      "[INFO 23-07-12 20:06:07.7838 UTC kernel.cc:1242] Loading model from path /tmp/tmpxodtcdfo/model/ with prefix dfd35f3f050648b2\n",
      "[INFO 23-07-12 20:06:07.7881 UTC kernel.cc:1074] Use fast generic engine\n"
     ]
    },
    {
     "name": "stdout",
     "output_type": "stream",
     "text": [
      "i:65\n"
     ]
    },
    {
     "name": "stderr",
     "output_type": "stream",
     "text": [
      "[WARNING 23-07-12 20:06:08.2530 UTC gradient_boosted_trees.cc:1797] \"goss_alpha\" set but \"sampling_method\" not equal to \"GOSS\".\n",
      "[WARNING 23-07-12 20:06:08.2531 UTC gradient_boosted_trees.cc:1808] \"goss_beta\" set but \"sampling_method\" not equal to \"GOSS\".\n",
      "[WARNING 23-07-12 20:06:08.2531 UTC gradient_boosted_trees.cc:1822] \"selective_gradient_boosting_ratio\" set but \"sampling_method\" not equal to \"SELGB\".\n",
      "[INFO 23-07-12 20:06:09.2866 UTC kernel.cc:1242] Loading model from path /tmp/tmp7bl4xpx0/model/ with prefix 2422f86dc811461f\n",
      "[INFO 23-07-12 20:06:09.2915 UTC kernel.cc:1074] Use fast generic engine\n"
     ]
    },
    {
     "name": "stdout",
     "output_type": "stream",
     "text": [
      "i:66\n"
     ]
    },
    {
     "name": "stderr",
     "output_type": "stream",
     "text": [
      "[WARNING 23-07-12 20:06:09.7416 UTC gradient_boosted_trees.cc:1797] \"goss_alpha\" set but \"sampling_method\" not equal to \"GOSS\".\n",
      "[WARNING 23-07-12 20:06:09.7416 UTC gradient_boosted_trees.cc:1808] \"goss_beta\" set but \"sampling_method\" not equal to \"GOSS\".\n",
      "[WARNING 23-07-12 20:06:09.7417 UTC gradient_boosted_trees.cc:1822] \"selective_gradient_boosting_ratio\" set but \"sampling_method\" not equal to \"SELGB\".\n",
      "[INFO 23-07-12 20:06:11.3428 UTC kernel.cc:1242] Loading model from path /tmp/tmp5a75brvh/model/ with prefix 7f8b0a02eb5b4041\n",
      "[INFO 23-07-12 20:06:11.3565 UTC kernel.cc:1074] Use fast generic engine\n"
     ]
    },
    {
     "name": "stdout",
     "output_type": "stream",
     "text": [
      "i:67\n"
     ]
    },
    {
     "name": "stderr",
     "output_type": "stream",
     "text": [
      "[WARNING 23-07-12 20:06:11.8194 UTC gradient_boosted_trees.cc:1797] \"goss_alpha\" set but \"sampling_method\" not equal to \"GOSS\".\n",
      "[WARNING 23-07-12 20:06:11.8194 UTC gradient_boosted_trees.cc:1808] \"goss_beta\" set but \"sampling_method\" not equal to \"GOSS\".\n",
      "[WARNING 23-07-12 20:06:11.8195 UTC gradient_boosted_trees.cc:1822] \"selective_gradient_boosting_ratio\" set but \"sampling_method\" not equal to \"SELGB\".\n",
      "[INFO 23-07-12 20:06:13.0651 UTC kernel.cc:1242] Loading model from path /tmp/tmpvj722n5z/model/ with prefix 765578fd82824960\n",
      "[INFO 23-07-12 20:06:13.0738 UTC kernel.cc:1074] Use fast generic engine\n"
     ]
    },
    {
     "name": "stdout",
     "output_type": "stream",
     "text": [
      "i:68\n"
     ]
    },
    {
     "name": "stderr",
     "output_type": "stream",
     "text": [
      "[WARNING 23-07-12 20:06:13.5594 UTC gradient_boosted_trees.cc:1797] \"goss_alpha\" set but \"sampling_method\" not equal to \"GOSS\".\n",
      "[WARNING 23-07-12 20:06:13.5595 UTC gradient_boosted_trees.cc:1808] \"goss_beta\" set but \"sampling_method\" not equal to \"GOSS\".\n",
      "[WARNING 23-07-12 20:06:13.5595 UTC gradient_boosted_trees.cc:1822] \"selective_gradient_boosting_ratio\" set but \"sampling_method\" not equal to \"SELGB\".\n",
      "[INFO 23-07-12 20:06:14.9530 UTC kernel.cc:1242] Loading model from path /tmp/tmpxnsikryr/model/ with prefix 56cff1cb072e4f60\n",
      "[INFO 23-07-12 20:06:14.9630 UTC kernel.cc:1074] Use fast generic engine\n"
     ]
    },
    {
     "name": "stdout",
     "output_type": "stream",
     "text": [
      "i:69\n"
     ]
    },
    {
     "name": "stderr",
     "output_type": "stream",
     "text": [
      "[WARNING 23-07-12 20:06:15.4141 UTC gradient_boosted_trees.cc:1797] \"goss_alpha\" set but \"sampling_method\" not equal to \"GOSS\".\n",
      "[WARNING 23-07-12 20:06:15.4142 UTC gradient_boosted_trees.cc:1808] \"goss_beta\" set but \"sampling_method\" not equal to \"GOSS\".\n",
      "[WARNING 23-07-12 20:06:15.4142 UTC gradient_boosted_trees.cc:1822] \"selective_gradient_boosting_ratio\" set but \"sampling_method\" not equal to \"SELGB\".\n",
      "[INFO 23-07-12 20:06:16.5354 UTC kernel.cc:1242] Loading model from path /tmp/tmpii6pno36/model/ with prefix cbf400629bcc48c6\n",
      "[INFO 23-07-12 20:06:16.5409 UTC abstract_model.cc:1311] Engine \"GradientBoostedTreesQuickScorerExtended\" built\n",
      "[INFO 23-07-12 20:06:16.5410 UTC kernel.cc:1074] Use fast generic engine\n"
     ]
    },
    {
     "name": "stdout",
     "output_type": "stream",
     "text": [
      "i:70\n"
     ]
    },
    {
     "name": "stderr",
     "output_type": "stream",
     "text": [
      "[WARNING 23-07-12 20:06:16.9855 UTC gradient_boosted_trees.cc:1797] \"goss_alpha\" set but \"sampling_method\" not equal to \"GOSS\".\n",
      "[WARNING 23-07-12 20:06:16.9855 UTC gradient_boosted_trees.cc:1808] \"goss_beta\" set but \"sampling_method\" not equal to \"GOSS\".\n",
      "[WARNING 23-07-12 20:06:16.9855 UTC gradient_boosted_trees.cc:1822] \"selective_gradient_boosting_ratio\" set but \"sampling_method\" not equal to \"SELGB\".\n",
      "[INFO 23-07-12 20:06:18.1955 UTC kernel.cc:1242] Loading model from path /tmp/tmp2ol2pg38/model/ with prefix d320810f608e4e45\n",
      "[INFO 23-07-12 20:06:18.2028 UTC kernel.cc:1074] Use fast generic engine\n"
     ]
    },
    {
     "name": "stdout",
     "output_type": "stream",
     "text": [
      "i:71\n"
     ]
    },
    {
     "name": "stderr",
     "output_type": "stream",
     "text": [
      "[WARNING 23-07-12 20:06:18.6654 UTC gradient_boosted_trees.cc:1797] \"goss_alpha\" set but \"sampling_method\" not equal to \"GOSS\".\n",
      "[WARNING 23-07-12 20:06:18.6654 UTC gradient_boosted_trees.cc:1808] \"goss_beta\" set but \"sampling_method\" not equal to \"GOSS\".\n",
      "[WARNING 23-07-12 20:06:18.6654 UTC gradient_boosted_trees.cc:1822] \"selective_gradient_boosting_ratio\" set but \"sampling_method\" not equal to \"SELGB\".\n",
      "[INFO 23-07-12 20:06:19.8904 UTC kernel.cc:1242] Loading model from path /tmp/tmpm4gft_41/model/ with prefix 254bbcf5dd6b44c4\n",
      "[INFO 23-07-12 20:06:19.8978 UTC kernel.cc:1074] Use fast generic engine\n"
     ]
    },
    {
     "name": "stdout",
     "output_type": "stream",
     "text": [
      "i:72\n"
     ]
    },
    {
     "name": "stderr",
     "output_type": "stream",
     "text": [
      "[WARNING 23-07-12 20:06:20.3657 UTC gradient_boosted_trees.cc:1797] \"goss_alpha\" set but \"sampling_method\" not equal to \"GOSS\".\n",
      "[WARNING 23-07-12 20:06:20.3657 UTC gradient_boosted_trees.cc:1808] \"goss_beta\" set but \"sampling_method\" not equal to \"GOSS\".\n",
      "[WARNING 23-07-12 20:06:20.3657 UTC gradient_boosted_trees.cc:1822] \"selective_gradient_boosting_ratio\" set but \"sampling_method\" not equal to \"SELGB\".\n",
      "[INFO 23-07-12 20:06:21.8315 UTC kernel.cc:1242] Loading model from path /tmp/tmpepwenh3o/model/ with prefix 79a92ca4e8374781\n",
      "[INFO 23-07-12 20:06:21.8429 UTC kernel.cc:1074] Use fast generic engine\n"
     ]
    },
    {
     "name": "stdout",
     "output_type": "stream",
     "text": [
      "i:73\n"
     ]
    },
    {
     "name": "stderr",
     "output_type": "stream",
     "text": [
      "[WARNING 23-07-12 20:06:22.3299 UTC gradient_boosted_trees.cc:1797] \"goss_alpha\" set but \"sampling_method\" not equal to \"GOSS\".\n",
      "[WARNING 23-07-12 20:06:22.3299 UTC gradient_boosted_trees.cc:1808] \"goss_beta\" set but \"sampling_method\" not equal to \"GOSS\".\n",
      "[WARNING 23-07-12 20:06:22.3300 UTC gradient_boosted_trees.cc:1822] \"selective_gradient_boosting_ratio\" set but \"sampling_method\" not equal to \"SELGB\".\n",
      "[INFO 23-07-12 20:06:23.4161 UTC kernel.cc:1242] Loading model from path /tmp/tmphkua54c8/model/ with prefix 664fe4f2bf2b4189\n",
      "[INFO 23-07-12 20:06:23.4219 UTC kernel.cc:1074] Use fast generic engine\n"
     ]
    },
    {
     "name": "stdout",
     "output_type": "stream",
     "text": [
      "i:74\n"
     ]
    },
    {
     "name": "stderr",
     "output_type": "stream",
     "text": [
      "[WARNING 23-07-12 20:06:23.8493 UTC gradient_boosted_trees.cc:1797] \"goss_alpha\" set but \"sampling_method\" not equal to \"GOSS\".\n",
      "[WARNING 23-07-12 20:06:23.8494 UTC gradient_boosted_trees.cc:1808] \"goss_beta\" set but \"sampling_method\" not equal to \"GOSS\".\n",
      "[WARNING 23-07-12 20:06:23.8494 UTC gradient_boosted_trees.cc:1822] \"selective_gradient_boosting_ratio\" set but \"sampling_method\" not equal to \"SELGB\".\n",
      "[INFO 23-07-12 20:06:25.9931 UTC kernel.cc:1242] Loading model from path /tmp/tmp3pjjzr1e/model/ with prefix df773204a02444c4\n",
      "[INFO 23-07-12 20:06:26.0027 UTC kernel.cc:1074] Use fast generic engine\n"
     ]
    },
    {
     "name": "stdout",
     "output_type": "stream",
     "text": [
      "i:75\n"
     ]
    },
    {
     "name": "stderr",
     "output_type": "stream",
     "text": [
      "[WARNING 23-07-12 20:06:26.4754 UTC gradient_boosted_trees.cc:1797] \"goss_alpha\" set but \"sampling_method\" not equal to \"GOSS\".\n",
      "[WARNING 23-07-12 20:06:26.4755 UTC gradient_boosted_trees.cc:1808] \"goss_beta\" set but \"sampling_method\" not equal to \"GOSS\".\n",
      "[WARNING 23-07-12 20:06:26.4755 UTC gradient_boosted_trees.cc:1822] \"selective_gradient_boosting_ratio\" set but \"sampling_method\" not equal to \"SELGB\".\n",
      "[INFO 23-07-12 20:06:27.6826 UTC kernel.cc:1242] Loading model from path /tmp/tmp3cnywjr0/model/ with prefix 0095a1356f414af5\n",
      "[INFO 23-07-12 20:06:27.6907 UTC abstract_model.cc:1311] Engine \"GradientBoostedTreesQuickScorerExtended\" built\n",
      "[INFO 23-07-12 20:06:27.6908 UTC kernel.cc:1074] Use fast generic engine\n"
     ]
    },
    {
     "name": "stdout",
     "output_type": "stream",
     "text": [
      "i:76\n"
     ]
    },
    {
     "name": "stderr",
     "output_type": "stream",
     "text": [
      "[WARNING 23-07-12 20:06:28.1505 UTC gradient_boosted_trees.cc:1797] \"goss_alpha\" set but \"sampling_method\" not equal to \"GOSS\".\n",
      "[WARNING 23-07-12 20:06:28.1505 UTC gradient_boosted_trees.cc:1808] \"goss_beta\" set but \"sampling_method\" not equal to \"GOSS\".\n",
      "[WARNING 23-07-12 20:06:28.1506 UTC gradient_boosted_trees.cc:1822] \"selective_gradient_boosting_ratio\" set but \"sampling_method\" not equal to \"SELGB\".\n",
      "[INFO 23-07-12 20:06:29.1122 UTC kernel.cc:1242] Loading model from path /tmp/tmp8e52v2jm/model/ with prefix 3f5e54c079344860\n",
      "[INFO 23-07-12 20:06:29.1159 UTC kernel.cc:1074] Use fast generic engine\n"
     ]
    },
    {
     "name": "stdout",
     "output_type": "stream",
     "text": [
      "i:77\n"
     ]
    },
    {
     "name": "stderr",
     "output_type": "stream",
     "text": [
      "[WARNING 23-07-12 20:06:29.5674 UTC gradient_boosted_trees.cc:1797] \"goss_alpha\" set but \"sampling_method\" not equal to \"GOSS\".\n",
      "[WARNING 23-07-12 20:06:29.5674 UTC gradient_boosted_trees.cc:1808] \"goss_beta\" set but \"sampling_method\" not equal to \"GOSS\".\n",
      "[WARNING 23-07-12 20:06:29.5674 UTC gradient_boosted_trees.cc:1822] \"selective_gradient_boosting_ratio\" set but \"sampling_method\" not equal to \"SELGB\".\n",
      "[INFO 23-07-12 20:06:30.7850 UTC kernel.cc:1242] Loading model from path /tmp/tmp8niqsd5s/model/ with prefix 4549d8980a7f4535\n",
      "[INFO 23-07-12 20:06:30.7926 UTC kernel.cc:1074] Use fast generic engine\n"
     ]
    },
    {
     "name": "stdout",
     "output_type": "stream",
     "text": [
      "i:78\n"
     ]
    },
    {
     "name": "stderr",
     "output_type": "stream",
     "text": [
      "[WARNING 23-07-12 20:06:31.2288 UTC gradient_boosted_trees.cc:1797] \"goss_alpha\" set but \"sampling_method\" not equal to \"GOSS\".\n",
      "[WARNING 23-07-12 20:06:31.2288 UTC gradient_boosted_trees.cc:1808] \"goss_beta\" set but \"sampling_method\" not equal to \"GOSS\".\n",
      "[WARNING 23-07-12 20:06:31.2288 UTC gradient_boosted_trees.cc:1822] \"selective_gradient_boosting_ratio\" set but \"sampling_method\" not equal to \"SELGB\".\n",
      "[INFO 23-07-12 20:06:32.6907 UTC kernel.cc:1242] Loading model from path /tmp/tmpwvvxnruv/model/ with prefix 343410ac3723406e\n",
      "[INFO 23-07-12 20:06:32.7023 UTC kernel.cc:1074] Use fast generic engine\n"
     ]
    },
    {
     "name": "stdout",
     "output_type": "stream",
     "text": [
      "i:79\n"
     ]
    },
    {
     "name": "stderr",
     "output_type": "stream",
     "text": [
      "[WARNING 23-07-12 20:06:33.1557 UTC gradient_boosted_trees.cc:1797] \"goss_alpha\" set but \"sampling_method\" not equal to \"GOSS\".\n",
      "[WARNING 23-07-12 20:06:33.1557 UTC gradient_boosted_trees.cc:1808] \"goss_beta\" set but \"sampling_method\" not equal to \"GOSS\".\n",
      "[WARNING 23-07-12 20:06:33.1558 UTC gradient_boosted_trees.cc:1822] \"selective_gradient_boosting_ratio\" set but \"sampling_method\" not equal to \"SELGB\".\n",
      "[INFO 23-07-12 20:06:34.2163 UTC kernel.cc:1242] Loading model from path /tmp/tmpharf_md_/model/ with prefix b685d50ea5044518\n",
      "[INFO 23-07-12 20:06:34.2220 UTC kernel.cc:1074] Use fast generic engine\n"
     ]
    },
    {
     "name": "stdout",
     "output_type": "stream",
     "text": [
      "i:80\n"
     ]
    },
    {
     "name": "stderr",
     "output_type": "stream",
     "text": [
      "[WARNING 23-07-12 20:06:34.6814 UTC gradient_boosted_trees.cc:1797] \"goss_alpha\" set but \"sampling_method\" not equal to \"GOSS\".\n",
      "[WARNING 23-07-12 20:06:34.6814 UTC gradient_boosted_trees.cc:1808] \"goss_beta\" set but \"sampling_method\" not equal to \"GOSS\".\n",
      "[WARNING 23-07-12 20:06:34.6815 UTC gradient_boosted_trees.cc:1822] \"selective_gradient_boosting_ratio\" set but \"sampling_method\" not equal to \"SELGB\".\n",
      "[INFO 23-07-12 20:06:36.1443 UTC kernel.cc:1242] Loading model from path /tmp/tmpdlm8lhz0/model/ with prefix d622917e88cb4d09\n",
      "[INFO 23-07-12 20:06:36.1547 UTC kernel.cc:1074] Use fast generic engine\n"
     ]
    },
    {
     "name": "stdout",
     "output_type": "stream",
     "text": [
      "i:81\n"
     ]
    },
    {
     "name": "stderr",
     "output_type": "stream",
     "text": [
      "[WARNING 23-07-12 20:06:36.6004 UTC gradient_boosted_trees.cc:1797] \"goss_alpha\" set but \"sampling_method\" not equal to \"GOSS\".\n",
      "[WARNING 23-07-12 20:06:36.6005 UTC gradient_boosted_trees.cc:1808] \"goss_beta\" set but \"sampling_method\" not equal to \"GOSS\".\n",
      "[WARNING 23-07-12 20:06:36.6005 UTC gradient_boosted_trees.cc:1822] \"selective_gradient_boosting_ratio\" set but \"sampling_method\" not equal to \"SELGB\".\n",
      "[INFO 23-07-12 20:06:37.7936 UTC kernel.cc:1242] Loading model from path /tmp/tmpmpcfkbh5/model/ with prefix 8045a99b9d0c41e8\n",
      "[INFO 23-07-12 20:06:37.8010 UTC abstract_model.cc:1311] Engine \"GradientBoostedTreesQuickScorerExtended\" built\n",
      "[INFO 23-07-12 20:06:37.8011 UTC kernel.cc:1074] Use fast generic engine\n"
     ]
    },
    {
     "name": "stdout",
     "output_type": "stream",
     "text": [
      "i:82\n"
     ]
    },
    {
     "name": "stderr",
     "output_type": "stream",
     "text": [
      "[WARNING 23-07-12 20:06:38.2442 UTC gradient_boosted_trees.cc:1797] \"goss_alpha\" set but \"sampling_method\" not equal to \"GOSS\".\n",
      "[WARNING 23-07-12 20:06:38.2442 UTC gradient_boosted_trees.cc:1808] \"goss_beta\" set but \"sampling_method\" not equal to \"GOSS\".\n",
      "[WARNING 23-07-12 20:06:38.2442 UTC gradient_boosted_trees.cc:1822] \"selective_gradient_boosting_ratio\" set but \"sampling_method\" not equal to \"SELGB\".\n",
      "[INFO 23-07-12 20:06:39.2825 UTC kernel.cc:1242] Loading model from path /tmp/tmpybdn4btb/model/ with prefix 4eab70fcf3fd4a0d\n",
      "[INFO 23-07-12 20:06:39.2876 UTC kernel.cc:1074] Use fast generic engine\n"
     ]
    },
    {
     "name": "stdout",
     "output_type": "stream",
     "text": [
      "i:83\n"
     ]
    },
    {
     "name": "stderr",
     "output_type": "stream",
     "text": [
      "[WARNING 23-07-12 20:06:39.7486 UTC gradient_boosted_trees.cc:1797] \"goss_alpha\" set but \"sampling_method\" not equal to \"GOSS\".\n",
      "[WARNING 23-07-12 20:06:39.7486 UTC gradient_boosted_trees.cc:1808] \"goss_beta\" set but \"sampling_method\" not equal to \"GOSS\".\n",
      "[WARNING 23-07-12 20:06:39.7486 UTC gradient_boosted_trees.cc:1822] \"selective_gradient_boosting_ratio\" set but \"sampling_method\" not equal to \"SELGB\".\n",
      "[INFO 23-07-12 20:06:40.8416 UTC kernel.cc:1242] Loading model from path /tmp/tmphypi2xe6/model/ with prefix 990cee95da19402d\n",
      "[INFO 23-07-12 20:06:40.8476 UTC kernel.cc:1074] Use fast generic engine\n"
     ]
    },
    {
     "name": "stdout",
     "output_type": "stream",
     "text": [
      "i:84\n"
     ]
    },
    {
     "name": "stderr",
     "output_type": "stream",
     "text": [
      "[WARNING 23-07-12 20:06:41.3625 UTC gradient_boosted_trees.cc:1797] \"goss_alpha\" set but \"sampling_method\" not equal to \"GOSS\".\n",
      "[WARNING 23-07-12 20:06:41.3634 UTC gradient_boosted_trees.cc:1808] \"goss_beta\" set but \"sampling_method\" not equal to \"GOSS\".\n",
      "[WARNING 23-07-12 20:06:41.3640 UTC gradient_boosted_trees.cc:1822] \"selective_gradient_boosting_ratio\" set but \"sampling_method\" not equal to \"SELGB\".\n",
      "[INFO 23-07-12 20:06:43.3771 UTC kernel.cc:1242] Loading model from path /tmp/tmpmkysgbvs/model/ with prefix 3eba49189c4b47c9\n",
      "[INFO 23-07-12 20:06:43.3912 UTC kernel.cc:1074] Use fast generic engine\n"
     ]
    },
    {
     "name": "stdout",
     "output_type": "stream",
     "text": [
      "i:85\n"
     ]
    },
    {
     "name": "stderr",
     "output_type": "stream",
     "text": [
      "[WARNING 23-07-12 20:06:43.8606 UTC gradient_boosted_trees.cc:1797] \"goss_alpha\" set but \"sampling_method\" not equal to \"GOSS\".\n",
      "[WARNING 23-07-12 20:06:43.8607 UTC gradient_boosted_trees.cc:1808] \"goss_beta\" set but \"sampling_method\" not equal to \"GOSS\".\n",
      "[WARNING 23-07-12 20:06:43.8607 UTC gradient_boosted_trees.cc:1822] \"selective_gradient_boosting_ratio\" set but \"sampling_method\" not equal to \"SELGB\".\n",
      "[INFO 23-07-12 20:06:44.7657 UTC kernel.cc:1242] Loading model from path /tmp/tmpurpcmxoe/model/ with prefix a7738081c9664459\n",
      "[INFO 23-07-12 20:06:44.7685 UTC kernel.cc:1074] Use fast generic engine\n"
     ]
    },
    {
     "name": "stdout",
     "output_type": "stream",
     "text": [
      "i:86\n"
     ]
    },
    {
     "name": "stderr",
     "output_type": "stream",
     "text": [
      "[WARNING 23-07-12 20:06:45.2122 UTC gradient_boosted_trees.cc:1797] \"goss_alpha\" set but \"sampling_method\" not equal to \"GOSS\".\n",
      "[WARNING 23-07-12 20:06:45.2122 UTC gradient_boosted_trees.cc:1808] \"goss_beta\" set but \"sampling_method\" not equal to \"GOSS\".\n",
      "[WARNING 23-07-12 20:06:45.2122 UTC gradient_boosted_trees.cc:1822] \"selective_gradient_boosting_ratio\" set but \"sampling_method\" not equal to \"SELGB\".\n",
      "[INFO 23-07-12 20:06:46.4818 UTC kernel.cc:1242] Loading model from path /tmp/tmp_j94z0wj/model/ with prefix 32674c6689164823\n",
      "[INFO 23-07-12 20:06:46.4894 UTC kernel.cc:1074] Use fast generic engine\n"
     ]
    },
    {
     "name": "stdout",
     "output_type": "stream",
     "text": [
      "i:87\n"
     ]
    },
    {
     "name": "stderr",
     "output_type": "stream",
     "text": [
      "[WARNING 23-07-12 20:06:47.1165 UTC gradient_boosted_trees.cc:1797] \"goss_alpha\" set but \"sampling_method\" not equal to \"GOSS\".\n",
      "[WARNING 23-07-12 20:06:47.1165 UTC gradient_boosted_trees.cc:1808] \"goss_beta\" set but \"sampling_method\" not equal to \"GOSS\".\n",
      "[WARNING 23-07-12 20:06:47.1166 UTC gradient_boosted_trees.cc:1822] \"selective_gradient_boosting_ratio\" set but \"sampling_method\" not equal to \"SELGB\".\n",
      "[INFO 23-07-12 20:06:48.2801 UTC kernel.cc:1242] Loading model from path /tmp/tmp84yiye8q/model/ with prefix b5947cf3fbfb4e92\n",
      "[INFO 23-07-12 20:06:48.2873 UTC abstract_model.cc:1311] Engine \"GradientBoostedTreesQuickScorerExtended\" built\n",
      "[INFO 23-07-12 20:06:48.2873 UTC kernel.cc:1074] Use fast generic engine\n"
     ]
    },
    {
     "name": "stdout",
     "output_type": "stream",
     "text": [
      "i:88\n"
     ]
    },
    {
     "name": "stderr",
     "output_type": "stream",
     "text": [
      "[WARNING 23-07-12 20:06:48.7283 UTC gradient_boosted_trees.cc:1797] \"goss_alpha\" set but \"sampling_method\" not equal to \"GOSS\".\n",
      "[WARNING 23-07-12 20:06:48.7283 UTC gradient_boosted_trees.cc:1808] \"goss_beta\" set but \"sampling_method\" not equal to \"GOSS\".\n",
      "[WARNING 23-07-12 20:06:48.7284 UTC gradient_boosted_trees.cc:1822] \"selective_gradient_boosting_ratio\" set but \"sampling_method\" not equal to \"SELGB\".\n",
      "[INFO 23-07-12 20:06:50.1558 UTC kernel.cc:1242] Loading model from path /tmp/tmp2ghgvkis/model/ with prefix e1fa6a9338514fd1\n",
      "[INFO 23-07-12 20:06:50.1666 UTC kernel.cc:1074] Use fast generic engine\n"
     ]
    },
    {
     "name": "stdout",
     "output_type": "stream",
     "text": [
      "i:89\n"
     ]
    },
    {
     "name": "stderr",
     "output_type": "stream",
     "text": [
      "[WARNING 23-07-12 20:06:50.6413 UTC gradient_boosted_trees.cc:1797] \"goss_alpha\" set but \"sampling_method\" not equal to \"GOSS\".\n",
      "[WARNING 23-07-12 20:06:50.6413 UTC gradient_boosted_trees.cc:1808] \"goss_beta\" set but \"sampling_method\" not equal to \"GOSS\".\n",
      "[WARNING 23-07-12 20:06:50.6413 UTC gradient_boosted_trees.cc:1822] \"selective_gradient_boosting_ratio\" set but \"sampling_method\" not equal to \"SELGB\".\n",
      "[INFO 23-07-12 20:06:52.0346 UTC kernel.cc:1242] Loading model from path /tmp/tmpht1csznb/model/ with prefix f8ceb10a469145b6\n",
      "[INFO 23-07-12 20:06:52.0446 UTC kernel.cc:1074] Use fast generic engine\n"
     ]
    },
    {
     "name": "stdout",
     "output_type": "stream",
     "text": [
      "i:90\n"
     ]
    },
    {
     "name": "stderr",
     "output_type": "stream",
     "text": [
      "[WARNING 23-07-12 20:06:52.5043 UTC gradient_boosted_trees.cc:1797] \"goss_alpha\" set but \"sampling_method\" not equal to \"GOSS\".\n",
      "[WARNING 23-07-12 20:06:52.5043 UTC gradient_boosted_trees.cc:1808] \"goss_beta\" set but \"sampling_method\" not equal to \"GOSS\".\n",
      "[WARNING 23-07-12 20:06:52.5044 UTC gradient_boosted_trees.cc:1822] \"selective_gradient_boosting_ratio\" set but \"sampling_method\" not equal to \"SELGB\".\n",
      "[INFO 23-07-12 20:06:54.9198 UTC kernel.cc:1242] Loading model from path /tmp/tmppxsnpd2m/model/ with prefix db7b8e7ba0d84097\n",
      "[INFO 23-07-12 20:06:54.9456 UTC kernel.cc:1074] Use fast generic engine\n"
     ]
    },
    {
     "name": "stdout",
     "output_type": "stream",
     "text": [
      "i:91\n"
     ]
    },
    {
     "name": "stderr",
     "output_type": "stream",
     "text": [
      "[WARNING 23-07-12 20:06:55.4203 UTC gradient_boosted_trees.cc:1797] \"goss_alpha\" set but \"sampling_method\" not equal to \"GOSS\".\n",
      "[WARNING 23-07-12 20:06:55.4204 UTC gradient_boosted_trees.cc:1808] \"goss_beta\" set but \"sampling_method\" not equal to \"GOSS\".\n",
      "[WARNING 23-07-12 20:06:55.4204 UTC gradient_boosted_trees.cc:1822] \"selective_gradient_boosting_ratio\" set but \"sampling_method\" not equal to \"SELGB\".\n",
      "[INFO 23-07-12 20:06:56.9293 UTC kernel.cc:1242] Loading model from path /tmp/tmpcmtmvtdg/model/ with prefix b69a63e51f9f4fed\n",
      "[INFO 23-07-12 20:06:56.9408 UTC kernel.cc:1074] Use fast generic engine\n"
     ]
    },
    {
     "name": "stdout",
     "output_type": "stream",
     "text": [
      "i:92\n"
     ]
    },
    {
     "name": "stderr",
     "output_type": "stream",
     "text": [
      "[WARNING 23-07-12 20:06:57.4090 UTC gradient_boosted_trees.cc:1797] \"goss_alpha\" set but \"sampling_method\" not equal to \"GOSS\".\n",
      "[WARNING 23-07-12 20:06:57.4090 UTC gradient_boosted_trees.cc:1808] \"goss_beta\" set but \"sampling_method\" not equal to \"GOSS\".\n",
      "[WARNING 23-07-12 20:06:57.4090 UTC gradient_boosted_trees.cc:1822] \"selective_gradient_boosting_ratio\" set but \"sampling_method\" not equal to \"SELGB\".\n",
      "[INFO 23-07-12 20:06:59.2561 UTC kernel.cc:1242] Loading model from path /tmp/tmp7vv7n11l/model/ with prefix e2c669c9d70d48ef\n",
      "[INFO 23-07-12 20:06:59.2719 UTC abstract_model.cc:1311] Engine \"GradientBoostedTreesQuickScorerExtended\" built\n",
      "[INFO 23-07-12 20:06:59.2720 UTC kernel.cc:1074] Use fast generic engine\n"
     ]
    },
    {
     "name": "stdout",
     "output_type": "stream",
     "text": [
      "i:93\n"
     ]
    },
    {
     "name": "stderr",
     "output_type": "stream",
     "text": [
      "[WARNING 23-07-12 20:06:59.7142 UTC gradient_boosted_trees.cc:1797] \"goss_alpha\" set but \"sampling_method\" not equal to \"GOSS\".\n",
      "[WARNING 23-07-12 20:06:59.7142 UTC gradient_boosted_trees.cc:1808] \"goss_beta\" set but \"sampling_method\" not equal to \"GOSS\".\n",
      "[WARNING 23-07-12 20:06:59.7142 UTC gradient_boosted_trees.cc:1822] \"selective_gradient_boosting_ratio\" set but \"sampling_method\" not equal to \"SELGB\".\n",
      "[INFO 23-07-12 20:07:01.2100 UTC kernel.cc:1242] Loading model from path /tmp/tmpaguwyd57/model/ with prefix df19db47bca14c0c\n",
      "[INFO 23-07-12 20:07:01.2234 UTC kernel.cc:1074] Use fast generic engine\n"
     ]
    },
    {
     "name": "stdout",
     "output_type": "stream",
     "text": [
      "i:94\n"
     ]
    },
    {
     "name": "stderr",
     "output_type": "stream",
     "text": [
      "[WARNING 23-07-12 20:07:01.7062 UTC gradient_boosted_trees.cc:1797] \"goss_alpha\" set but \"sampling_method\" not equal to \"GOSS\".\n",
      "[WARNING 23-07-12 20:07:01.7062 UTC gradient_boosted_trees.cc:1808] \"goss_beta\" set but \"sampling_method\" not equal to \"GOSS\".\n",
      "[WARNING 23-07-12 20:07:01.7062 UTC gradient_boosted_trees.cc:1822] \"selective_gradient_boosting_ratio\" set but \"sampling_method\" not equal to \"SELGB\".\n",
      "[INFO 23-07-12 20:07:02.7191 UTC kernel.cc:1242] Loading model from path /tmp/tmpsygax1go/model/ with prefix b12ba4747aa4449d\n",
      "[INFO 23-07-12 20:07:02.7234 UTC kernel.cc:1074] Use fast generic engine\n"
     ]
    },
    {
     "name": "stdout",
     "output_type": "stream",
     "text": [
      "i:95\n"
     ]
    },
    {
     "name": "stderr",
     "output_type": "stream",
     "text": [
      "[WARNING 23-07-12 20:07:03.1978 UTC gradient_boosted_trees.cc:1797] \"goss_alpha\" set but \"sampling_method\" not equal to \"GOSS\".\n",
      "[WARNING 23-07-12 20:07:03.1978 UTC gradient_boosted_trees.cc:1808] \"goss_beta\" set but \"sampling_method\" not equal to \"GOSS\".\n",
      "[WARNING 23-07-12 20:07:03.1979 UTC gradient_boosted_trees.cc:1822] \"selective_gradient_boosting_ratio\" set but \"sampling_method\" not equal to \"SELGB\".\n",
      "[INFO 23-07-12 20:07:04.1739 UTC kernel.cc:1242] Loading model from path /tmp/tmpbo6ja768/model/ with prefix 9e2bc5d841ba480d\n",
      "[INFO 23-07-12 20:07:04.1776 UTC kernel.cc:1074] Use fast generic engine\n"
     ]
    },
    {
     "name": "stdout",
     "output_type": "stream",
     "text": [
      "i:96\n"
     ]
    },
    {
     "name": "stderr",
     "output_type": "stream",
     "text": [
      "[WARNING 23-07-12 20:07:04.6458 UTC gradient_boosted_trees.cc:1797] \"goss_alpha\" set but \"sampling_method\" not equal to \"GOSS\".\n",
      "[WARNING 23-07-12 20:07:04.6459 UTC gradient_boosted_trees.cc:1808] \"goss_beta\" set but \"sampling_method\" not equal to \"GOSS\".\n",
      "[WARNING 23-07-12 20:07:04.6459 UTC gradient_boosted_trees.cc:1822] \"selective_gradient_boosting_ratio\" set but \"sampling_method\" not equal to \"SELGB\".\n",
      "[INFO 23-07-12 20:07:06.2962 UTC kernel.cc:1242] Loading model from path /tmp/tmplt3hnas7/model/ with prefix 18651f4dc96f4004\n",
      "[INFO 23-07-12 20:07:06.3091 UTC kernel.cc:1074] Use fast generic engine\n"
     ]
    },
    {
     "name": "stdout",
     "output_type": "stream",
     "text": [
      "i:97\n"
     ]
    },
    {
     "name": "stderr",
     "output_type": "stream",
     "text": [
      "[WARNING 23-07-12 20:07:06.7622 UTC gradient_boosted_trees.cc:1797] \"goss_alpha\" set but \"sampling_method\" not equal to \"GOSS\".\n",
      "[WARNING 23-07-12 20:07:06.7624 UTC gradient_boosted_trees.cc:1808] \"goss_beta\" set but \"sampling_method\" not equal to \"GOSS\".\n",
      "[WARNING 23-07-12 20:07:06.7626 UTC gradient_boosted_trees.cc:1822] \"selective_gradient_boosting_ratio\" set but \"sampling_method\" not equal to \"SELGB\".\n",
      "[INFO 23-07-12 20:07:07.8929 UTC kernel.cc:1242] Loading model from path /tmp/tmpn9o04pox/model/ with prefix 33f7936074674703\n",
      "[INFO 23-07-12 20:07:07.8989 UTC kernel.cc:1074] Use fast generic engine\n"
     ]
    },
    {
     "name": "stdout",
     "output_type": "stream",
     "text": [
      "i:98\n"
     ]
    },
    {
     "name": "stderr",
     "output_type": "stream",
     "text": [
      "[WARNING 23-07-12 20:07:08.3330 UTC gradient_boosted_trees.cc:1797] \"goss_alpha\" set but \"sampling_method\" not equal to \"GOSS\".\n",
      "[WARNING 23-07-12 20:07:08.3331 UTC gradient_boosted_trees.cc:1808] \"goss_beta\" set but \"sampling_method\" not equal to \"GOSS\".\n",
      "[WARNING 23-07-12 20:07:08.3331 UTC gradient_boosted_trees.cc:1822] \"selective_gradient_boosting_ratio\" set but \"sampling_method\" not equal to \"SELGB\".\n",
      "[INFO 23-07-12 20:07:10.5780 UTC kernel.cc:1242] Loading model from path /tmp/tmps4zkzae1/model/ with prefix 14bd80cad7764618\n",
      "[INFO 23-07-12 20:07:10.6007 UTC abstract_model.cc:1311] Engine \"GradientBoostedTreesQuickScorerExtended\" built\n",
      "[INFO 23-07-12 20:07:10.6007 UTC kernel.cc:1074] Use fast generic engine\n"
     ]
    },
    {
     "name": "stdout",
     "output_type": "stream",
     "text": [
      "i:99\n"
     ]
    },
    {
     "name": "stderr",
     "output_type": "stream",
     "text": [
      "[WARNING 23-07-12 20:07:11.0607 UTC gradient_boosted_trees.cc:1797] \"goss_alpha\" set but \"sampling_method\" not equal to \"GOSS\".\n",
      "[WARNING 23-07-12 20:07:11.0607 UTC gradient_boosted_trees.cc:1808] \"goss_beta\" set but \"sampling_method\" not equal to \"GOSS\".\n",
      "[WARNING 23-07-12 20:07:11.0608 UTC gradient_boosted_trees.cc:1822] \"selective_gradient_boosting_ratio\" set but \"sampling_method\" not equal to \"SELGB\".\n",
      "[INFO 23-07-12 20:07:12.7970 UTC kernel.cc:1242] Loading model from path /tmp/tmpjir4yb91/model/ with prefix a394ac8e39fd4cee\n",
      "[INFO 23-07-12 20:07:12.8118 UTC kernel.cc:1074] Use fast generic engine\n"
     ]
    }
   ],
   "source": [
    "predictions = None\n",
    "num_predictions = 0\n",
    "\n",
    "for i in range(100):\n",
    "    print(f\"i:{i}\")\n",
    "    model = tfdf.keras.GradientBoostedTreesModel(\n",
    "        verbose=0,\n",
    "        random_seed=i,\n",
    "        honest=True,\n",
    "    )\n",
    "    model.fit(train_data)\n",
    "    \n",
    "    sub_predictions = model.predict(test_data, verbose=0)[:,0]\n",
    "    if predictions is None:\n",
    "        predictions = sub_predictions\n",
    "    else:\n",
    "        predictions += sub_predictions\n",
    "    num_predictions += 1\n",
    "\n",
    "predictions/=num_predictions"
   ]
  },
  {
   "cell_type": "code",
   "execution_count": 52,
   "id": "392c5627",
   "metadata": {
    "execution": {
     "iopub.execute_input": "2023-07-12T20:07:13.675923Z",
     "iopub.status.busy": "2023-07-12T20:07:13.675479Z",
     "iopub.status.idle": "2023-07-12T20:07:13.680573Z",
     "shell.execute_reply": "2023-07-12T20:07:13.679683Z"
    },
    "papermill": {
     "duration": 0.090253,
     "end_time": "2023-07-12T20:07:13.685206",
     "exception": false,
     "start_time": "2023-07-12T20:07:13.594953",
     "status": "completed"
    },
    "tags": []
   },
   "outputs": [],
   "source": [
    "predictions_t = np.where(predictions >= 0.5, 1, 0)"
   ]
  },
  {
   "cell_type": "code",
   "execution_count": 53,
   "id": "26df02ca",
   "metadata": {
    "execution": {
     "iopub.execute_input": "2023-07-12T20:07:13.842347Z",
     "iopub.status.busy": "2023-07-12T20:07:13.841900Z",
     "iopub.status.idle": "2023-07-12T20:07:13.867038Z",
     "shell.execute_reply": "2023-07-12T20:07:13.866055Z"
    },
    "papermill": {
     "duration": 0.105625,
     "end_time": "2023-07-12T20:07:13.869905",
     "exception": false,
     "start_time": "2023-07-12T20:07:13.764280",
     "status": "completed"
    },
    "tags": []
   },
   "outputs": [
    {
     "data": {
      "text/html": [
       "<div>\n",
       "<style scoped>\n",
       "    .dataframe tbody tr th:only-of-type {\n",
       "        vertical-align: middle;\n",
       "    }\n",
       "\n",
       "    .dataframe tbody tr th {\n",
       "        vertical-align: top;\n",
       "    }\n",
       "\n",
       "    .dataframe thead th {\n",
       "        text-align: right;\n",
       "    }\n",
       "</style>\n",
       "<table border=\"1\" class=\"dataframe\">\n",
       "  <thead>\n",
       "    <tr style=\"text-align: right;\">\n",
       "      <th></th>\n",
       "      <th>PassengerId</th>\n",
       "      <th>Survived</th>\n",
       "    </tr>\n",
       "  </thead>\n",
       "  <tbody>\n",
       "    <tr>\n",
       "      <th>0</th>\n",
       "      <td>892</td>\n",
       "      <td>0</td>\n",
       "    </tr>\n",
       "    <tr>\n",
       "      <th>1</th>\n",
       "      <td>893</td>\n",
       "      <td>0</td>\n",
       "    </tr>\n",
       "    <tr>\n",
       "      <th>2</th>\n",
       "      <td>894</td>\n",
       "      <td>0</td>\n",
       "    </tr>\n",
       "    <tr>\n",
       "      <th>3</th>\n",
       "      <td>895</td>\n",
       "      <td>0</td>\n",
       "    </tr>\n",
       "    <tr>\n",
       "      <th>4</th>\n",
       "      <td>896</td>\n",
       "      <td>1</td>\n",
       "    </tr>\n",
       "    <tr>\n",
       "      <th>...</th>\n",
       "      <td>...</td>\n",
       "      <td>...</td>\n",
       "    </tr>\n",
       "    <tr>\n",
       "      <th>413</th>\n",
       "      <td>1305</td>\n",
       "      <td>0</td>\n",
       "    </tr>\n",
       "    <tr>\n",
       "      <th>414</th>\n",
       "      <td>1306</td>\n",
       "      <td>1</td>\n",
       "    </tr>\n",
       "    <tr>\n",
       "      <th>415</th>\n",
       "      <td>1307</td>\n",
       "      <td>0</td>\n",
       "    </tr>\n",
       "    <tr>\n",
       "      <th>416</th>\n",
       "      <td>1308</td>\n",
       "      <td>0</td>\n",
       "    </tr>\n",
       "    <tr>\n",
       "      <th>417</th>\n",
       "      <td>1309</td>\n",
       "      <td>0</td>\n",
       "    </tr>\n",
       "  </tbody>\n",
       "</table>\n",
       "<p>418 rows × 2 columns</p>\n",
       "</div>"
      ],
      "text/plain": [
       "     PassengerId  Survived\n",
       "0            892         0\n",
       "1            893         0\n",
       "2            894         0\n",
       "3            895         0\n",
       "4            896         1\n",
       "..           ...       ...\n",
       "413         1305         0\n",
       "414         1306         1\n",
       "415         1307         0\n",
       "416         1308         0\n",
       "417         1309         0\n",
       "\n",
       "[418 rows x 2 columns]"
      ]
     },
     "execution_count": 53,
     "metadata": {},
     "output_type": "execute_result"
    }
   ],
   "source": [
    "submission = pd.read_csv('/kaggle/input/titanic/gender_submission.csv')\n",
    "submission['Survived'] = predictions_t\n",
    "submission"
   ]
  },
  {
   "cell_type": "code",
   "execution_count": 54,
   "id": "dccbff0d",
   "metadata": {
    "execution": {
     "iopub.execute_input": "2023-07-12T20:07:14.040482Z",
     "iopub.status.busy": "2023-07-12T20:07:14.040063Z",
     "iopub.status.idle": "2023-07-12T20:07:14.050545Z",
     "shell.execute_reply": "2023-07-12T20:07:14.049695Z"
    },
    "papermill": {
     "duration": 0.096828,
     "end_time": "2023-07-12T20:07:14.053338",
     "exception": false,
     "start_time": "2023-07-12T20:07:13.956510",
     "status": "completed"
    },
    "tags": []
   },
   "outputs": [],
   "source": [
    "submission.to_csv('submission.csv', index = False)"
   ]
  },
  {
   "cell_type": "code",
   "execution_count": null,
   "id": "7eb9a002",
   "metadata": {
    "papermill": {
     "duration": 0.080702,
     "end_time": "2023-07-12T20:07:14.224681",
     "exception": false,
     "start_time": "2023-07-12T20:07:14.143979",
     "status": "completed"
    },
    "tags": []
   },
   "outputs": [],
   "source": []
  }
 ],
 "metadata": {
  "kernelspec": {
   "display_name": "Python 3",
   "language": "python",
   "name": "python3"
  },
  "language_info": {
   "codemirror_mode": {
    "name": "ipython",
    "version": 3
   },
   "file_extension": ".py",
   "mimetype": "text/x-python",
   "name": "python",
   "nbconvert_exporter": "python",
   "pygments_lexer": "ipython3",
   "version": "3.10.10"
  },
  "papermill": {
   "default_parameters": {},
   "duration": 348.920545,
   "end_time": "2023-07-12T20:07:17.384738",
   "environment_variables": {},
   "exception": null,
   "input_path": "__notebook__.ipynb",
   "output_path": "__notebook__.ipynb",
   "parameters": {},
   "start_time": "2023-07-12T20:01:28.464193",
   "version": "2.4.0"
  }
 },
 "nbformat": 4,
 "nbformat_minor": 5
}
