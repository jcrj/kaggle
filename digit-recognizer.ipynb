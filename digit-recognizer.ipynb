{
 "cells": [
  {
   "cell_type": "code",
   "execution_count": 1,
   "id": "c02fb1e0",
   "metadata": {
    "_cell_guid": "b1076dfc-b9ad-4769-8c92-a6c4dae69d19",
    "_uuid": "8f2839f25d086af736a60e9eeb907d3b93b6e0e5",
    "execution": {
     "iopub.execute_input": "2023-07-16T17:56:20.315794Z",
     "iopub.status.busy": "2023-07-16T17:56:20.314982Z",
     "iopub.status.idle": "2023-07-16T17:56:20.330991Z",
     "shell.execute_reply": "2023-07-16T17:56:20.329725Z"
    },
    "papermill": {
     "duration": 0.02829,
     "end_time": "2023-07-16T17:56:20.332959",
     "exception": false,
     "start_time": "2023-07-16T17:56:20.304669",
     "status": "completed"
    },
    "tags": []
   },
   "outputs": [
    {
     "name": "stdout",
     "output_type": "stream",
     "text": [
      "/kaggle/input/digit-recognizer/sample_submission.csv\n",
      "/kaggle/input/digit-recognizer/train.csv\n",
      "/kaggle/input/digit-recognizer/test.csv\n"
     ]
    }
   ],
   "source": [
    "# This Python 3 environment comes with many helpful analytics libraries installed\n",
    "# It is defined by the kaggle/python Docker image: https://github.com/kaggle/docker-python\n",
    "# For example, here's several helpful packages to load\n",
    "\n",
    "import numpy as np # linear algebra\n",
    "import pandas as pd # data processing, CSV file I/O (e.g. pd.read_csv)\n",
    "\n",
    "# Input data files are available in the read-only \"../input/\" directory\n",
    "# For example, running this (by clicking run or pressing Shift+Enter) will list all files under the input directory\n",
    "\n",
    "import os\n",
    "for dirname, _, filenames in os.walk('/kaggle/input'):\n",
    "    for filename in filenames:\n",
    "        print(os.path.join(dirname, filename))\n",
    "\n",
    "# You can write up to 20GB to the current directory (/kaggle/working/) that gets preserved as output when you create a version using \"Save & Run All\" \n",
    "# You can also write temporary files to /kaggle/temp/, but they won't be saved outside of the current session"
   ]
  },
  {
   "cell_type": "code",
   "execution_count": 2,
   "id": "410ee0a3",
   "metadata": {
    "execution": {
     "iopub.execute_input": "2023-07-16T17:56:20.349902Z",
     "iopub.status.busy": "2023-07-16T17:56:20.348937Z",
     "iopub.status.idle": "2023-07-16T17:56:37.426230Z",
     "shell.execute_reply": "2023-07-16T17:56:37.425047Z"
    },
    "papermill": {
     "duration": 17.088438,
     "end_time": "2023-07-16T17:56:37.428792",
     "exception": false,
     "start_time": "2023-07-16T17:56:20.340354",
     "status": "completed"
    },
    "tags": []
   },
   "outputs": [
    {
     "name": "stderr",
     "output_type": "stream",
     "text": [
      "/opt/conda/lib/python3.10/site-packages/scipy/__init__.py:146: UserWarning: A NumPy version >=1.16.5 and <1.23.0 is required for this version of SciPy (detected version 1.23.5\n",
      "  warnings.warn(f\"A NumPy version >={np_minversion} and <{np_maxversion}\"\n",
      "/opt/conda/lib/python3.10/site-packages/tensorflow_io/python/ops/__init__.py:98: UserWarning: unable to load libtensorflow_io_plugins.so: unable to open file: libtensorflow_io_plugins.so, from paths: ['/opt/conda/lib/python3.10/site-packages/tensorflow_io/python/ops/libtensorflow_io_plugins.so']\n",
      "caused by: ['/opt/conda/lib/python3.10/site-packages/tensorflow_io/python/ops/libtensorflow_io_plugins.so: undefined symbol: _ZN3tsl6StatusC1EN10tensorflow5error4CodeESt17basic_string_viewIcSt11char_traitsIcEENS_14SourceLocationE']\n",
      "  warnings.warn(f\"unable to load libtensorflow_io_plugins.so: {e}\")\n",
      "/opt/conda/lib/python3.10/site-packages/tensorflow_io/python/ops/__init__.py:104: UserWarning: file system plugins are not loaded: unable to open file: libtensorflow_io.so, from paths: ['/opt/conda/lib/python3.10/site-packages/tensorflow_io/python/ops/libtensorflow_io.so']\n",
      "caused by: ['/opt/conda/lib/python3.10/site-packages/tensorflow_io/python/ops/libtensorflow_io.so: undefined symbol: _ZTVN10tensorflow13GcsFileSystemE']\n",
      "  warnings.warn(f\"file system plugins are not loaded: {e}\")\n"
     ]
    }
   ],
   "source": [
    "import numpy as np\n",
    "import pandas as pd\n",
    "import tensorflow as tf\n",
    "\n",
    "from sklearn.model_selection import train_test_split\n",
    "\n",
    "from tensorflow.keras import layers\n",
    "from tensorflow.keras.layers import Input, Dense, Dropout, Flatten, Conv2D, MaxPool2D, BatchNormalization\n",
    "from tensorflow.keras import Model\n",
    "\n",
    "from tensorflow.keras.preprocessing.image import ImageDataGenerator\n",
    "from tensorflow.keras.datasets import mnist"
   ]
  },
  {
   "cell_type": "code",
   "execution_count": 3,
   "id": "613b99ba",
   "metadata": {
    "execution": {
     "iopub.execute_input": "2023-07-16T17:56:37.445537Z",
     "iopub.status.busy": "2023-07-16T17:56:37.444964Z",
     "iopub.status.idle": "2023-07-16T17:56:43.310992Z",
     "shell.execute_reply": "2023-07-16T17:56:43.309787Z"
    },
    "papermill": {
     "duration": 5.877548,
     "end_time": "2023-07-16T17:56:43.313904",
     "exception": false,
     "start_time": "2023-07-16T17:56:37.436356",
     "status": "completed"
    },
    "tags": []
   },
   "outputs": [],
   "source": [
    "train = pd.read_csv(\"../input/digit-recognizer/train.csv\")\n",
    "test = pd.read_csv(\"../input/digit-recognizer/test.csv\")\n",
    "\n",
    "X_train_kaggle = train.drop(labels=[\"label\"], axis=1)\n",
    "X_test_kaggle = test\n",
    "y_train_kaggle = train[\"label\"]"
   ]
  },
  {
   "cell_type": "code",
   "execution_count": 4,
   "id": "4ddf605c",
   "metadata": {
    "execution": {
     "iopub.execute_input": "2023-07-16T17:56:43.332880Z",
     "iopub.status.busy": "2023-07-16T17:56:43.331291Z",
     "iopub.status.idle": "2023-07-16T17:56:43.341153Z",
     "shell.execute_reply": "2023-07-16T17:56:43.340288Z"
    },
    "papermill": {
     "duration": 0.020538,
     "end_time": "2023-07-16T17:56:43.343062",
     "exception": false,
     "start_time": "2023-07-16T17:56:43.322524",
     "status": "completed"
    },
    "tags": []
   },
   "outputs": [
    {
     "data": {
      "text/plain": [
       "((42000, 785), (28000, 784))"
      ]
     },
     "execution_count": 4,
     "metadata": {},
     "output_type": "execute_result"
    }
   ],
   "source": [
    "train.shape, test.shape"
   ]
  },
  {
   "cell_type": "code",
   "execution_count": 5,
   "id": "251bd2eb",
   "metadata": {
    "execution": {
     "iopub.execute_input": "2023-07-16T17:56:43.360103Z",
     "iopub.status.busy": "2023-07-16T17:56:43.359843Z",
     "iopub.status.idle": "2023-07-16T17:56:43.365540Z",
     "shell.execute_reply": "2023-07-16T17:56:43.364568Z"
    },
    "papermill": {
     "duration": 0.016561,
     "end_time": "2023-07-16T17:56:43.367541",
     "exception": false,
     "start_time": "2023-07-16T17:56:43.350980",
     "status": "completed"
    },
    "tags": []
   },
   "outputs": [
    {
     "data": {
      "text/plain": [
       "(42000, 784)"
      ]
     },
     "execution_count": 5,
     "metadata": {},
     "output_type": "execute_result"
    }
   ],
   "source": [
    "X_train_kaggle.shape"
   ]
  },
  {
   "cell_type": "code",
   "execution_count": 6,
   "id": "e912dc77",
   "metadata": {
    "execution": {
     "iopub.execute_input": "2023-07-16T17:56:43.384467Z",
     "iopub.status.busy": "2023-07-16T17:56:43.384192Z",
     "iopub.status.idle": "2023-07-16T17:56:43.389617Z",
     "shell.execute_reply": "2023-07-16T17:56:43.388703Z"
    },
    "papermill": {
     "duration": 0.016117,
     "end_time": "2023-07-16T17:56:43.391571",
     "exception": false,
     "start_time": "2023-07-16T17:56:43.375454",
     "status": "completed"
    },
    "tags": []
   },
   "outputs": [],
   "source": [
    "X_train_kaggle = X_train_kaggle.to_numpy().reshape(-1, 28, 28)"
   ]
  },
  {
   "cell_type": "code",
   "execution_count": 7,
   "id": "19ba2b48",
   "metadata": {
    "execution": {
     "iopub.execute_input": "2023-07-16T17:56:43.407935Z",
     "iopub.status.busy": "2023-07-16T17:56:43.407615Z",
     "iopub.status.idle": "2023-07-16T17:56:43.413598Z",
     "shell.execute_reply": "2023-07-16T17:56:43.412717Z"
    },
    "papermill": {
     "duration": 0.016237,
     "end_time": "2023-07-16T17:56:43.415585",
     "exception": false,
     "start_time": "2023-07-16T17:56:43.399348",
     "status": "completed"
    },
    "tags": []
   },
   "outputs": [
    {
     "data": {
      "text/plain": [
       "(42000, 28, 28)"
      ]
     },
     "execution_count": 7,
     "metadata": {},
     "output_type": "execute_result"
    }
   ],
   "source": [
    "X_train_kaggle.shape"
   ]
  },
  {
   "cell_type": "code",
   "execution_count": 8,
   "id": "1549cdad",
   "metadata": {
    "execution": {
     "iopub.execute_input": "2023-07-16T17:56:43.432363Z",
     "iopub.status.busy": "2023-07-16T17:56:43.432113Z",
     "iopub.status.idle": "2023-07-16T17:56:43.443616Z",
     "shell.execute_reply": "2023-07-16T17:56:43.442716Z"
    },
    "papermill": {
     "duration": 0.022037,
     "end_time": "2023-07-16T17:56:43.445573",
     "exception": false,
     "start_time": "2023-07-16T17:56:43.423536",
     "status": "completed"
    },
    "tags": []
   },
   "outputs": [
    {
     "data": {
      "text/plain": [
       "10"
      ]
     },
     "execution_count": 8,
     "metadata": {},
     "output_type": "execute_result"
    }
   ],
   "source": [
    "num_classes = len(set(y_train_kaggle))\n",
    "num_classes"
   ]
  },
  {
   "cell_type": "markdown",
   "id": "7a3e43d7",
   "metadata": {
    "papermill": {
     "duration": 0.007663,
     "end_time": "2023-07-16T17:56:43.461505",
     "exception": false,
     "start_time": "2023-07-16T17:56:43.453842",
     "status": "completed"
    },
    "tags": []
   },
   "source": [
    "From TensorFlow dataset."
   ]
  },
  {
   "cell_type": "code",
   "execution_count": 9,
   "id": "adc76b32",
   "metadata": {
    "execution": {
     "iopub.execute_input": "2023-07-16T17:56:43.478683Z",
     "iopub.status.busy": "2023-07-16T17:56:43.478369Z",
     "iopub.status.idle": "2023-07-16T17:56:43.923915Z",
     "shell.execute_reply": "2023-07-16T17:56:43.922912Z"
    },
    "papermill": {
     "duration": 0.456871,
     "end_time": "2023-07-16T17:56:43.926341",
     "exception": false,
     "start_time": "2023-07-16T17:56:43.469470",
     "status": "completed"
    },
    "tags": []
   },
   "outputs": [
    {
     "name": "stdout",
     "output_type": "stream",
     "text": [
      "Downloading data from https://storage.googleapis.com/tensorflow/tf-keras-datasets/mnist.npz\n",
      "11490434/11490434 [==============================] - 0s 0us/step\n"
     ]
    }
   ],
   "source": [
    "(X_tr, y_tr), (X_tt, y_tt) = mnist.load_data()\n",
    "\n",
    "X_train_tf = np.concatenate([X_tr, X_tt], axis=0)\n",
    "y_train_tf = np.concatenate([y_tr, y_tt], axis=0)"
   ]
  },
  {
   "cell_type": "code",
   "execution_count": 10,
   "id": "b274b23c",
   "metadata": {
    "execution": {
     "iopub.execute_input": "2023-07-16T17:56:43.944486Z",
     "iopub.status.busy": "2023-07-16T17:56:43.944176Z",
     "iopub.status.idle": "2023-07-16T17:56:43.950305Z",
     "shell.execute_reply": "2023-07-16T17:56:43.949379Z"
    },
    "papermill": {
     "duration": 0.017312,
     "end_time": "2023-07-16T17:56:43.952273",
     "exception": false,
     "start_time": "2023-07-16T17:56:43.934961",
     "status": "completed"
    },
    "tags": []
   },
   "outputs": [
    {
     "data": {
      "text/plain": [
       "((70000, 28, 28), (70000,))"
      ]
     },
     "execution_count": 10,
     "metadata": {},
     "output_type": "execute_result"
    }
   ],
   "source": [
    "X_train_tf.shape, y_train_tf.shape"
   ]
  },
  {
   "cell_type": "markdown",
   "id": "86b1dcdf",
   "metadata": {
    "papermill": {
     "duration": 0.008181,
     "end_time": "2023-07-16T17:56:43.969088",
     "exception": false,
     "start_time": "2023-07-16T17:56:43.960907",
     "status": "completed"
    },
    "tags": []
   },
   "source": [
    "# Preparing the datasets"
   ]
  },
  {
   "cell_type": "code",
   "execution_count": 11,
   "id": "281cbe30",
   "metadata": {
    "execution": {
     "iopub.execute_input": "2023-07-16T17:56:43.987237Z",
     "iopub.status.busy": "2023-07-16T17:56:43.986584Z",
     "iopub.status.idle": "2023-07-16T17:56:44.216916Z",
     "shell.execute_reply": "2023-07-16T17:56:44.215881Z"
    },
    "papermill": {
     "duration": 0.242091,
     "end_time": "2023-07-16T17:56:44.219441",
     "exception": false,
     "start_time": "2023-07-16T17:56:43.977350",
     "status": "completed"
    },
    "tags": []
   },
   "outputs": [],
   "source": [
    "X_train = np.concatenate([X_train_kaggle, X_train_tf], axis = 0)\n",
    "y_train = np.concatenate([y_train_kaggle, y_train_tf], axis = 0)"
   ]
  },
  {
   "cell_type": "code",
   "execution_count": 12,
   "id": "23781312",
   "metadata": {
    "execution": {
     "iopub.execute_input": "2023-07-16T17:56:44.239300Z",
     "iopub.status.busy": "2023-07-16T17:56:44.238453Z",
     "iopub.status.idle": "2023-07-16T17:56:44.243672Z",
     "shell.execute_reply": "2023-07-16T17:56:44.242596Z"
    },
    "papermill": {
     "duration": 0.017641,
     "end_time": "2023-07-16T17:56:44.246096",
     "exception": false,
     "start_time": "2023-07-16T17:56:44.228455",
     "status": "completed"
    },
    "tags": []
   },
   "outputs": [],
   "source": [
    "X_train = X_train.reshape(-1, 28, 28, 1)\n",
    "test = test.to_numpy().reshape(-1, 28, 28, 1)"
   ]
  },
  {
   "cell_type": "code",
   "execution_count": 13,
   "id": "deed5b13",
   "metadata": {
    "execution": {
     "iopub.execute_input": "2023-07-16T17:56:44.264765Z",
     "iopub.status.busy": "2023-07-16T17:56:44.264468Z",
     "iopub.status.idle": "2023-07-16T17:56:44.494157Z",
     "shell.execute_reply": "2023-07-16T17:56:44.493118Z"
    },
    "papermill": {
     "duration": 0.24224,
     "end_time": "2023-07-16T17:56:44.496788",
     "exception": false,
     "start_time": "2023-07-16T17:56:44.254548",
     "status": "completed"
    },
    "tags": []
   },
   "outputs": [],
   "source": [
    "X_train, X_val, y_train, y_val = train_test_split(X_train,\n",
    "                                                    y_train,\n",
    "                                                    test_size=0.2,\n",
    "                                                    random_state=42)"
   ]
  },
  {
   "cell_type": "code",
   "execution_count": 14,
   "id": "eb264419",
   "metadata": {
    "execution": {
     "iopub.execute_input": "2023-07-16T17:56:44.516763Z",
     "iopub.status.busy": "2023-07-16T17:56:44.516411Z",
     "iopub.status.idle": "2023-07-16T17:56:44.522578Z",
     "shell.execute_reply": "2023-07-16T17:56:44.521722Z"
    },
    "papermill": {
     "duration": 0.018453,
     "end_time": "2023-07-16T17:56:44.524578",
     "exception": false,
     "start_time": "2023-07-16T17:56:44.506125",
     "status": "completed"
    },
    "tags": []
   },
   "outputs": [
    {
     "data": {
      "text/plain": [
       "((89600, 28, 28, 1), (22400, 28, 28, 1))"
      ]
     },
     "execution_count": 14,
     "metadata": {},
     "output_type": "execute_result"
    }
   ],
   "source": [
    "X_train.shape, X_val.shape"
   ]
  },
  {
   "cell_type": "code",
   "execution_count": 15,
   "id": "a1838677",
   "metadata": {
    "execution": {
     "iopub.execute_input": "2023-07-16T17:56:44.542862Z",
     "iopub.status.busy": "2023-07-16T17:56:44.542437Z",
     "iopub.status.idle": "2023-07-16T17:56:44.550097Z",
     "shell.execute_reply": "2023-07-16T17:56:44.549205Z"
    },
    "papermill": {
     "duration": 0.019067,
     "end_time": "2023-07-16T17:56:44.552064",
     "exception": false,
     "start_time": "2023-07-16T17:56:44.532997",
     "status": "completed"
    },
    "tags": []
   },
   "outputs": [],
   "source": [
    "from keras.utils import to_categorical\n",
    "\n",
    "y_train = to_categorical(y_train, num_classes = num_classes)\n",
    "y_val = to_categorical(y_val, num_classes = num_classes)"
   ]
  },
  {
   "cell_type": "code",
   "execution_count": 16,
   "id": "c8897af0",
   "metadata": {
    "execution": {
     "iopub.execute_input": "2023-07-16T17:56:44.571785Z",
     "iopub.status.busy": "2023-07-16T17:56:44.570983Z",
     "iopub.status.idle": "2023-07-16T17:56:44.579717Z",
     "shell.execute_reply": "2023-07-16T17:56:44.578710Z"
    },
    "papermill": {
     "duration": 0.021016,
     "end_time": "2023-07-16T17:56:44.581949",
     "exception": false,
     "start_time": "2023-07-16T17:56:44.560933",
     "status": "completed"
    },
    "tags": []
   },
   "outputs": [
    {
     "data": {
      "text/plain": [
       "((89600, 28, 28, 1), (22400, 28, 28, 1), (89600, 10), (22400, 10))"
      ]
     },
     "execution_count": 16,
     "metadata": {},
     "output_type": "execute_result"
    }
   ],
   "source": [
    "X_train.shape, X_val.shape, y_train.shape, y_val.shape"
   ]
  },
  {
   "cell_type": "code",
   "execution_count": 17,
   "id": "32a7b0bd",
   "metadata": {
    "execution": {
     "iopub.execute_input": "2023-07-16T17:56:44.600745Z",
     "iopub.status.busy": "2023-07-16T17:56:44.600452Z",
     "iopub.status.idle": "2023-07-16T17:56:44.606042Z",
     "shell.execute_reply": "2023-07-16T17:56:44.605197Z"
    },
    "papermill": {
     "duration": 0.017429,
     "end_time": "2023-07-16T17:56:44.608182",
     "exception": false,
     "start_time": "2023-07-16T17:56:44.590753",
     "status": "completed"
    },
    "tags": []
   },
   "outputs": [],
   "source": [
    "datagen = ImageDataGenerator(\n",
    "        rotation_range=10,\n",
    "        zoom_range=0.10,\n",
    "        width_shift_range=0.2,\n",
    "        height_shift_range=0.2)"
   ]
  },
  {
   "cell_type": "code",
   "execution_count": 18,
   "id": "8cab7a4a",
   "metadata": {
    "execution": {
     "iopub.execute_input": "2023-07-16T17:56:44.627245Z",
     "iopub.status.busy": "2023-07-16T17:56:44.626595Z",
     "iopub.status.idle": "2023-07-16T17:56:44.779361Z",
     "shell.execute_reply": "2023-07-16T17:56:44.778178Z"
    },
    "papermill": {
     "duration": 0.164919,
     "end_time": "2023-07-16T17:56:44.781984",
     "exception": false,
     "start_time": "2023-07-16T17:56:44.617065",
     "status": "completed"
    },
    "tags": []
   },
   "outputs": [],
   "source": [
    "train_gen = datagen.flow(X_train, y_train, batch_size = 128)\n",
    "val_gen = datagen.flow(X_val, y_val, batch_size = 128)"
   ]
  },
  {
   "cell_type": "code",
   "execution_count": 19,
   "id": "0115fac5",
   "metadata": {
    "execution": {
     "iopub.execute_input": "2023-07-16T17:56:44.802389Z",
     "iopub.status.busy": "2023-07-16T17:56:44.802054Z",
     "iopub.status.idle": "2023-07-16T17:56:44.808455Z",
     "shell.execute_reply": "2023-07-16T17:56:44.807323Z"
    },
    "papermill": {
     "duration": 0.020604,
     "end_time": "2023-07-16T17:56:44.811997",
     "exception": false,
     "start_time": "2023-07-16T17:56:44.791393",
     "status": "completed"
    },
    "tags": []
   },
   "outputs": [
    {
     "data": {
      "text/plain": [
       "(<keras.preprocessing.image.NumpyArrayIterator at 0x7fdde8832800>,\n",
       " <keras.preprocessing.image.NumpyArrayIterator at 0x7fde8adba9b0>)"
      ]
     },
     "execution_count": 19,
     "metadata": {},
     "output_type": "execute_result"
    }
   ],
   "source": [
    "train_gen, val_gen"
   ]
  },
  {
   "cell_type": "code",
   "execution_count": 20,
   "id": "6f55ba2d",
   "metadata": {
    "execution": {
     "iopub.execute_input": "2023-07-16T17:56:44.830994Z",
     "iopub.status.busy": "2023-07-16T17:56:44.830716Z",
     "iopub.status.idle": "2023-07-16T17:56:50.736186Z",
     "shell.execute_reply": "2023-07-16T17:56:50.735014Z"
    },
    "papermill": {
     "duration": 5.919996,
     "end_time": "2023-07-16T17:56:50.740950",
     "exception": false,
     "start_time": "2023-07-16T17:56:44.820954",
     "status": "completed"
    },
    "tags": []
   },
   "outputs": [],
   "source": [
    "inputs = layers.Input(shape = (28, 28, 1), dtype = tf.float32)\n",
    "x = layers.Conv2D(filters = 64, kernel_size = 3, padding = 'same', activation = 'relu', input_shape=(28, 28, 1))(inputs)\n",
    "x = layers.BatchNormalization()(x)\n",
    "x = layers.MaxPool2D(pool_size = 2)(x)\n",
    "x = layers.Dropout(0.5)(x)\n",
    "x = layers.Conv2D(filters = 64, kernel_size = 3, padding = 'same', activation = 'relu')(x)\n",
    "x = layers.BatchNormalization()(x)\n",
    "x = layers.MaxPool2D(pool_size = 2)(x)\n",
    "x = layers.Dropout(0.5)(x)\n",
    "x = layers.Flatten()(x)\n",
    "outputs = layers.Dense(10, activation = 'softmax')(x)\n",
    "\n",
    "model = tf.keras.Model(inputs, outputs)\n",
    "\n",
    "model.compile(loss = 'categorical_crossentropy',\n",
    "             optimizer = tf.keras.optimizers.Adam(),\n",
    "             metrics = ['accuracy',\n",
    "                       tf.keras.metrics.Precision(name = 'precision'),\n",
    "                       tf.keras.metrics.Recall(name = 'recall')])\n",
    "\n",
    "EarlyStop = tf.keras.callbacks.EarlyStopping(monitor = 'val_loss',\n",
    "                                            patience = 10,\n",
    "                                            verbose = 0,\n",
    "                                            restore_best_weights = True)"
   ]
  },
  {
   "cell_type": "code",
   "execution_count": 21,
   "id": "adc86d9e",
   "metadata": {
    "execution": {
     "iopub.execute_input": "2023-07-16T17:56:50.763979Z",
     "iopub.status.busy": "2023-07-16T17:56:50.763618Z",
     "iopub.status.idle": "2023-07-16T18:04:11.759274Z",
     "shell.execute_reply": "2023-07-16T18:04:11.758160Z"
    },
    "papermill": {
     "duration": 441.009856,
     "end_time": "2023-07-16T18:04:11.762008",
     "exception": false,
     "start_time": "2023-07-16T17:56:50.752152",
     "status": "completed"
    },
    "tags": []
   },
   "outputs": [
    {
     "name": "stdout",
     "output_type": "stream",
     "text": [
      "Epoch 1/10\n"
     ]
    },
    {
     "name": "stderr",
     "output_type": "stream",
     "text": [
      "2023-07-16 17:56:52.010301: E tensorflow/core/grappler/optimizers/meta_optimizer.cc:954] layout failed: INVALID_ARGUMENT: Size of values 0 does not match size of permutation 4 @ fanin shape inmodel/dropout/dropout/SelectV2-2-TransposeNHWCToNCHW-LayoutOptimizer\n"
     ]
    },
    {
     "name": "stdout",
     "output_type": "stream",
     "text": [
      "700/700 [==============================] - 53s 54ms/step - loss: 1.0055 - accuracy: 0.7198 - precision: 0.7629 - recall: 0.6888 - val_loss: 0.2914 - val_accuracy: 0.9100 - val_precision: 0.9282 - val_recall: 0.8931\n",
      "Epoch 2/10\n",
      "700/700 [==============================] - 38s 54ms/step - loss: 0.3793 - accuracy: 0.8827 - precision: 0.9003 - recall: 0.8689 - val_loss: 0.1971 - val_accuracy: 0.9387 - val_precision: 0.9484 - val_recall: 0.9305\n",
      "Epoch 3/10\n",
      "700/700 [==============================] - 38s 54ms/step - loss: 0.2747 - accuracy: 0.9156 - precision: 0.9271 - recall: 0.9067 - val_loss: 0.1363 - val_accuracy: 0.9598 - val_precision: 0.9670 - val_recall: 0.9542\n",
      "Epoch 4/10\n",
      "700/700 [==============================] - 38s 55ms/step - loss: 0.2355 - accuracy: 0.9282 - precision: 0.9372 - recall: 0.9215 - val_loss: 0.1172 - val_accuracy: 0.9642 - val_precision: 0.9690 - val_recall: 0.9594\n",
      "Epoch 5/10\n",
      "700/700 [==============================] - 39s 55ms/step - loss: 0.2123 - accuracy: 0.9359 - precision: 0.9441 - recall: 0.9300 - val_loss: 0.0920 - val_accuracy: 0.9726 - val_precision: 0.9771 - val_recall: 0.9695\n",
      "Epoch 6/10\n",
      "700/700 [==============================] - 38s 54ms/step - loss: 0.1913 - accuracy: 0.9429 - precision: 0.9497 - recall: 0.9374 - val_loss: 0.1246 - val_accuracy: 0.9610 - val_precision: 0.9657 - val_recall: 0.9568\n",
      "Epoch 7/10\n",
      "700/700 [==============================] - 37s 53ms/step - loss: 0.1819 - accuracy: 0.9451 - precision: 0.9520 - recall: 0.9402 - val_loss: 0.0967 - val_accuracy: 0.9710 - val_precision: 0.9757 - val_recall: 0.9670\n",
      "Epoch 8/10\n",
      "700/700 [==============================] - 39s 55ms/step - loss: 0.1708 - accuracy: 0.9476 - precision: 0.9540 - recall: 0.9427 - val_loss: 0.0850 - val_accuracy: 0.9742 - val_precision: 0.9777 - val_recall: 0.9715\n",
      "Epoch 9/10\n",
      "700/700 [==============================] - 38s 55ms/step - loss: 0.1644 - accuracy: 0.9504 - precision: 0.9569 - recall: 0.9457 - val_loss: 0.0854 - val_accuracy: 0.9750 - val_precision: 0.9789 - val_recall: 0.9715\n",
      "Epoch 10/10\n",
      "700/700 [==============================] - 39s 55ms/step - loss: 0.1549 - accuracy: 0.9521 - precision: 0.9584 - recall: 0.9473 - val_loss: 0.0789 - val_accuracy: 0.9763 - val_precision: 0.9800 - val_recall: 0.9737\n"
     ]
    }
   ],
   "source": [
    "history = model.fit(train_gen,\n",
    "                    epochs=10,\n",
    "                    validation_data= val_gen,\n",
    "                    verbose=1,\n",
    "                    callbacks=[EarlyStop])"
   ]
  },
  {
   "cell_type": "code",
   "execution_count": 22,
   "id": "38d731a9",
   "metadata": {
    "execution": {
     "iopub.execute_input": "2023-07-16T18:04:12.372501Z",
     "iopub.status.busy": "2023-07-16T18:04:12.371490Z",
     "iopub.status.idle": "2023-07-16T18:04:15.240608Z",
     "shell.execute_reply": "2023-07-16T18:04:15.239493Z"
    },
    "papermill": {
     "duration": 3.179065,
     "end_time": "2023-07-16T18:04:15.243442",
     "exception": false,
     "start_time": "2023-07-16T18:04:12.064377",
     "status": "completed"
    },
    "tags": []
   },
   "outputs": [
    {
     "name": "stdout",
     "output_type": "stream",
     "text": [
      "875/875 [==============================] - 2s 2ms/step\n"
     ]
    }
   ],
   "source": [
    "y_pred_probs = model.predict(test)"
   ]
  },
  {
   "cell_type": "code",
   "execution_count": 23,
   "id": "9a0431f0",
   "metadata": {
    "execution": {
     "iopub.execute_input": "2023-07-16T18:04:15.881306Z",
     "iopub.status.busy": "2023-07-16T18:04:15.880943Z",
     "iopub.status.idle": "2023-07-16T18:04:18.913639Z",
     "shell.execute_reply": "2023-07-16T18:04:18.912679Z"
    },
    "papermill": {
     "duration": 3.352076,
     "end_time": "2023-07-16T18:04:18.915763",
     "exception": false,
     "start_time": "2023-07-16T18:04:15.563687",
     "status": "completed"
    },
    "tags": []
   },
   "outputs": [
    {
     "name": "stdout",
     "output_type": "stream",
     "text": [
      "875/875 [==============================] - 2s 2ms/step\n"
     ]
    },
    {
     "data": {
      "text/html": [
       "<div>\n",
       "<style scoped>\n",
       "    .dataframe tbody tr th:only-of-type {\n",
       "        vertical-align: middle;\n",
       "    }\n",
       "\n",
       "    .dataframe tbody tr th {\n",
       "        vertical-align: top;\n",
       "    }\n",
       "\n",
       "    .dataframe thead th {\n",
       "        text-align: right;\n",
       "    }\n",
       "</style>\n",
       "<table border=\"1\" class=\"dataframe\">\n",
       "  <thead>\n",
       "    <tr style=\"text-align: right;\">\n",
       "      <th></th>\n",
       "      <th>ImageId</th>\n",
       "      <th>Label</th>\n",
       "    </tr>\n",
       "  </thead>\n",
       "  <tbody>\n",
       "    <tr>\n",
       "      <th>0</th>\n",
       "      <td>1</td>\n",
       "      <td>2</td>\n",
       "    </tr>\n",
       "    <tr>\n",
       "      <th>1</th>\n",
       "      <td>2</td>\n",
       "      <td>0</td>\n",
       "    </tr>\n",
       "    <tr>\n",
       "      <th>2</th>\n",
       "      <td>3</td>\n",
       "      <td>9</td>\n",
       "    </tr>\n",
       "    <tr>\n",
       "      <th>3</th>\n",
       "      <td>4</td>\n",
       "      <td>0</td>\n",
       "    </tr>\n",
       "    <tr>\n",
       "      <th>4</th>\n",
       "      <td>5</td>\n",
       "      <td>3</td>\n",
       "    </tr>\n",
       "    <tr>\n",
       "      <th>...</th>\n",
       "      <td>...</td>\n",
       "      <td>...</td>\n",
       "    </tr>\n",
       "    <tr>\n",
       "      <th>27995</th>\n",
       "      <td>27996</td>\n",
       "      <td>9</td>\n",
       "    </tr>\n",
       "    <tr>\n",
       "      <th>27996</th>\n",
       "      <td>27997</td>\n",
       "      <td>7</td>\n",
       "    </tr>\n",
       "    <tr>\n",
       "      <th>27997</th>\n",
       "      <td>27998</td>\n",
       "      <td>3</td>\n",
       "    </tr>\n",
       "    <tr>\n",
       "      <th>27998</th>\n",
       "      <td>27999</td>\n",
       "      <td>9</td>\n",
       "    </tr>\n",
       "    <tr>\n",
       "      <th>27999</th>\n",
       "      <td>28000</td>\n",
       "      <td>2</td>\n",
       "    </tr>\n",
       "  </tbody>\n",
       "</table>\n",
       "<p>28000 rows × 2 columns</p>\n",
       "</div>"
      ],
      "text/plain": [
       "       ImageId  Label\n",
       "0            1      2\n",
       "1            2      0\n",
       "2            3      9\n",
       "3            4      0\n",
       "4            5      3\n",
       "...        ...    ...\n",
       "27995    27996      9\n",
       "27996    27997      7\n",
       "27997    27998      3\n",
       "27998    27999      9\n",
       "27999    28000      2\n",
       "\n",
       "[28000 rows x 2 columns]"
      ]
     },
     "execution_count": 23,
     "metadata": {},
     "output_type": "execute_result"
    }
   ],
   "source": [
    "submission = model.predict(test)\n",
    "submission = np.argmax(submission, axis=1)\n",
    "submission = pd.Series(submission, name=\"Label\")\n",
    "submission = pd.concat([pd.Series(range(1, 28001), name=\"ImageId\"), submission], axis=1)\n",
    "submission"
   ]
  },
  {
   "cell_type": "code",
   "execution_count": 24,
   "id": "4763680e",
   "metadata": {
    "execution": {
     "iopub.execute_input": "2023-07-16T18:04:19.617728Z",
     "iopub.status.busy": "2023-07-16T18:04:19.617347Z",
     "iopub.status.idle": "2023-07-16T18:04:19.681726Z",
     "shell.execute_reply": "2023-07-16T18:04:19.680553Z"
    },
    "papermill": {
     "duration": 0.385001,
     "end_time": "2023-07-16T18:04:19.684481",
     "exception": false,
     "start_time": "2023-07-16T18:04:19.299480",
     "status": "completed"
    },
    "tags": []
   },
   "outputs": [],
   "source": [
    "submission.to_csv('submission.csv', index = False)"
   ]
  },
  {
   "cell_type": "code",
   "execution_count": null,
   "id": "30417840",
   "metadata": {
    "papermill": {
     "duration": 0.376563,
     "end_time": "2023-07-16T18:04:20.407483",
     "exception": false,
     "start_time": "2023-07-16T18:04:20.030920",
     "status": "completed"
    },
    "tags": []
   },
   "outputs": [],
   "source": []
  }
 ],
 "metadata": {
  "kernelspec": {
   "display_name": "Python 3",
   "language": "python",
   "name": "python3"
  },
  "language_info": {
   "codemirror_mode": {
    "name": "ipython",
    "version": 3
   },
   "file_extension": ".py",
   "mimetype": "text/x-python",
   "name": "python",
   "nbconvert_exporter": "python",
   "pygments_lexer": "ipython3",
   "version": "3.10.12"
  },
  "papermill": {
   "default_parameters": {},
   "duration": 497.19487,
   "end_time": "2023-07-16T18:04:23.895750",
   "environment_variables": {},
   "exception": null,
   "input_path": "__notebook__.ipynb",
   "output_path": "__notebook__.ipynb",
   "parameters": {},
   "start_time": "2023-07-16T17:56:06.700880",
   "version": "2.4.0"
  }
 },
 "nbformat": 4,
 "nbformat_minor": 5
}
